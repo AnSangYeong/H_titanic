{
 "cells": [
  {
   "cell_type": "markdown",
   "id": "c1424cf1",
   "metadata": {
    "id": "c1424cf1"
   },
   "source": [
    "# 우리의 목표:\n",
    "> ** 배에 타는 승객의 정보를 입력하면 배사고가 났을 때 생존여부를 예측해주는 모델을 만들어보자\n"
   ]
  },
  {
   "cell_type": "markdown",
   "id": "318a7207",
   "metadata": {
    "id": "318a7207"
   },
   "source": [
    "## 작업환경설정"
   ]
  },
  {
   "cell_type": "code",
   "execution_count": 1,
   "id": "b5bdc52f",
   "metadata": {
    "colab": {
     "base_uri": "https://localhost:8080/",
     "height": 148,
     "resources": {
      "http://localhost:8080/nbextensions/google.colab/files.js": {
       "data": "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",
       "headers": [
        [
         "content-type",
         "application/javascript"
        ]
       ],
       "ok": true,
       "status": 200,
       "status_text": ""
      }
     }
    },
    "executionInfo": {
     "elapsed": 18114,
     "status": "ok",
     "timestamp": 1653701370611,
     "user": {
      "displayName": "안상영",
      "userId": "03805254755243582882"
     },
     "user_tz": -540
    },
    "id": "b5bdc52f",
    "outputId": "604ad258-4d60-4fcb-ce64-dfae59d7fedc"
   },
   "outputs": [],
   "source": [
    "import numpy as np\n",
    "import pandas as pd\n",
    "import matplotlib.pyplot as plt\n",
    "import seaborn as sns\n",
    "\n",
    "from matplotlib.pylab import rcParams\n",
    "rcParams['figure.figsize'] = 17,8\n",
    "rcParams['font.family'] = 'AppleGothic' #malgun Gothic\n",
    "\n",
    "\n",
    "#워닝사인은 무시해도 되나 없앰\n",
    "import warnings\n",
    "warnings.filterwarnings('ignore')\n",
    "\n",
    "#from google.colab import files     #colab 돌릴때\n",
    "#uploaded = files.upload()          #colab 돌릴때"
   ]
  },
  {
   "cell_type": "code",
   "execution_count": 2,
   "id": "76e56ce8",
   "metadata": {
    "colab": {
     "base_uri": "https://localhost:8080/",
     "height": 256
    },
    "executionInfo": {
     "elapsed": 160,
     "status": "ok",
     "timestamp": 1653701370618,
     "user": {
      "displayName": "안상영",
      "userId": "03805254755243582882"
     },
     "user_tz": -540
    },
    "id": "76e56ce8",
    "outputId": "5f11a5e9-779c-4090-8bd7-076d2ce77c7d"
   },
   "outputs": [
    {
     "name": "stdout",
     "output_type": "stream",
     "text": [
      "(418, 10)\n"
     ]
    },
    {
     "data": {
      "text/html": [
       "<div>\n",
       "<style scoped>\n",
       "    .dataframe tbody tr th:only-of-type {\n",
       "        vertical-align: middle;\n",
       "    }\n",
       "\n",
       "    .dataframe tbody tr th {\n",
       "        vertical-align: top;\n",
       "    }\n",
       "\n",
       "    .dataframe thead th {\n",
       "        text-align: right;\n",
       "    }\n",
       "</style>\n",
       "<table border=\"1\" class=\"dataframe\">\n",
       "  <thead>\n",
       "    <tr style=\"text-align: right;\">\n",
       "      <th></th>\n",
       "      <th>Pclass</th>\n",
       "      <th>Name</th>\n",
       "      <th>Sex</th>\n",
       "      <th>Age</th>\n",
       "      <th>SibSp</th>\n",
       "      <th>Parch</th>\n",
       "      <th>Ticket</th>\n",
       "      <th>Fare</th>\n",
       "      <th>Cabin</th>\n",
       "      <th>Embarked</th>\n",
       "    </tr>\n",
       "    <tr>\n",
       "      <th>PassengerId</th>\n",
       "      <th></th>\n",
       "      <th></th>\n",
       "      <th></th>\n",
       "      <th></th>\n",
       "      <th></th>\n",
       "      <th></th>\n",
       "      <th></th>\n",
       "      <th></th>\n",
       "      <th></th>\n",
       "      <th></th>\n",
       "    </tr>\n",
       "  </thead>\n",
       "  <tbody>\n",
       "    <tr>\n",
       "      <th>892</th>\n",
       "      <td>3</td>\n",
       "      <td>Kelly, Mr. James</td>\n",
       "      <td>male</td>\n",
       "      <td>34.5</td>\n",
       "      <td>0</td>\n",
       "      <td>0</td>\n",
       "      <td>330911</td>\n",
       "      <td>7.8292</td>\n",
       "      <td>NaN</td>\n",
       "      <td>Q</td>\n",
       "    </tr>\n",
       "    <tr>\n",
       "      <th>893</th>\n",
       "      <td>3</td>\n",
       "      <td>Wilkes, Mrs. James (Ellen Needs)</td>\n",
       "      <td>female</td>\n",
       "      <td>47.0</td>\n",
       "      <td>1</td>\n",
       "      <td>0</td>\n",
       "      <td>363272</td>\n",
       "      <td>7.0000</td>\n",
       "      <td>NaN</td>\n",
       "      <td>S</td>\n",
       "    </tr>\n",
       "    <tr>\n",
       "      <th>894</th>\n",
       "      <td>2</td>\n",
       "      <td>Myles, Mr. Thomas Francis</td>\n",
       "      <td>male</td>\n",
       "      <td>62.0</td>\n",
       "      <td>0</td>\n",
       "      <td>0</td>\n",
       "      <td>240276</td>\n",
       "      <td>9.6875</td>\n",
       "      <td>NaN</td>\n",
       "      <td>Q</td>\n",
       "    </tr>\n",
       "    <tr>\n",
       "      <th>895</th>\n",
       "      <td>3</td>\n",
       "      <td>Wirz, Mr. Albert</td>\n",
       "      <td>male</td>\n",
       "      <td>27.0</td>\n",
       "      <td>0</td>\n",
       "      <td>0</td>\n",
       "      <td>315154</td>\n",
       "      <td>8.6625</td>\n",
       "      <td>NaN</td>\n",
       "      <td>S</td>\n",
       "    </tr>\n",
       "    <tr>\n",
       "      <th>896</th>\n",
       "      <td>3</td>\n",
       "      <td>Hirvonen, Mrs. Alexander (Helga E Lindqvist)</td>\n",
       "      <td>female</td>\n",
       "      <td>22.0</td>\n",
       "      <td>1</td>\n",
       "      <td>1</td>\n",
       "      <td>3101298</td>\n",
       "      <td>12.2875</td>\n",
       "      <td>NaN</td>\n",
       "      <td>S</td>\n",
       "    </tr>\n",
       "  </tbody>\n",
       "</table>\n",
       "</div>"
      ],
      "text/plain": [
       "             Pclass                                          Name     Sex  \\\n",
       "PassengerId                                                                 \n",
       "892               3                              Kelly, Mr. James    male   \n",
       "893               3              Wilkes, Mrs. James (Ellen Needs)  female   \n",
       "894               2                     Myles, Mr. Thomas Francis    male   \n",
       "895               3                              Wirz, Mr. Albert    male   \n",
       "896               3  Hirvonen, Mrs. Alexander (Helga E Lindqvist)  female   \n",
       "\n",
       "              Age  SibSp  Parch   Ticket     Fare Cabin Embarked  \n",
       "PassengerId                                                       \n",
       "892          34.5      0      0   330911   7.8292   NaN        Q  \n",
       "893          47.0      1      0   363272   7.0000   NaN        S  \n",
       "894          62.0      0      0   240276   9.6875   NaN        Q  \n",
       "895          27.0      0      0   315154   8.6625   NaN        S  \n",
       "896          22.0      1      1  3101298  12.2875   NaN        S  "
      ]
     },
     "execution_count": 2,
     "metadata": {},
     "output_type": "execute_result"
    }
   ],
   "source": [
    "test =  pd.read_csv('titanic_test.csv', index_col=0)\n",
    "print(test.shape)\n",
    "test.head()"
   ]
  },
  {
   "cell_type": "code",
   "execution_count": 3,
   "id": "0c08c1e3",
   "metadata": {
    "colab": {
     "base_uri": "https://localhost:8080/",
     "height": 269
    },
    "executionInfo": {
     "elapsed": 151,
     "status": "ok",
     "timestamp": 1653701370619,
     "user": {
      "displayName": "안상영",
      "userId": "03805254755243582882"
     },
     "user_tz": -540
    },
    "id": "0c08c1e3",
    "outputId": "d7947fca-42fb-481a-a243-7b2ca7efe149"
   },
   "outputs": [
    {
     "name": "stdout",
     "output_type": "stream",
     "text": [
      "(891, 12)\n"
     ]
    },
    {
     "data": {
      "text/html": [
       "<div>\n",
       "<style scoped>\n",
       "    .dataframe tbody tr th:only-of-type {\n",
       "        vertical-align: middle;\n",
       "    }\n",
       "\n",
       "    .dataframe tbody tr th {\n",
       "        vertical-align: top;\n",
       "    }\n",
       "\n",
       "    .dataframe thead th {\n",
       "        text-align: right;\n",
       "    }\n",
       "</style>\n",
       "<table border=\"1\" class=\"dataframe\">\n",
       "  <thead>\n",
       "    <tr style=\"text-align: right;\">\n",
       "      <th></th>\n",
       "      <th>PassengerId</th>\n",
       "      <th>Survived</th>\n",
       "      <th>Pclass</th>\n",
       "      <th>Name</th>\n",
       "      <th>Sex</th>\n",
       "      <th>Age</th>\n",
       "      <th>SibSp</th>\n",
       "      <th>Parch</th>\n",
       "      <th>Ticket</th>\n",
       "      <th>Fare</th>\n",
       "      <th>Cabin</th>\n",
       "      <th>Embarked</th>\n",
       "    </tr>\n",
       "  </thead>\n",
       "  <tbody>\n",
       "    <tr>\n",
       "      <th>0</th>\n",
       "      <td>1</td>\n",
       "      <td>0</td>\n",
       "      <td>3</td>\n",
       "      <td>Braund, Mr. Owen Harris</td>\n",
       "      <td>male</td>\n",
       "      <td>22.0</td>\n",
       "      <td>1</td>\n",
       "      <td>0</td>\n",
       "      <td>A/5 21171</td>\n",
       "      <td>7.2500</td>\n",
       "      <td>NaN</td>\n",
       "      <td>S</td>\n",
       "    </tr>\n",
       "    <tr>\n",
       "      <th>1</th>\n",
       "      <td>2</td>\n",
       "      <td>1</td>\n",
       "      <td>1</td>\n",
       "      <td>Cumings, Mrs. John Bradley (Florence Briggs Th...</td>\n",
       "      <td>female</td>\n",
       "      <td>38.0</td>\n",
       "      <td>1</td>\n",
       "      <td>0</td>\n",
       "      <td>PC 17599</td>\n",
       "      <td>71.2833</td>\n",
       "      <td>C85</td>\n",
       "      <td>C</td>\n",
       "    </tr>\n",
       "    <tr>\n",
       "      <th>2</th>\n",
       "      <td>3</td>\n",
       "      <td>1</td>\n",
       "      <td>3</td>\n",
       "      <td>Heikkinen, Miss. Laina</td>\n",
       "      <td>female</td>\n",
       "      <td>26.0</td>\n",
       "      <td>0</td>\n",
       "      <td>0</td>\n",
       "      <td>STON/O2. 3101282</td>\n",
       "      <td>7.9250</td>\n",
       "      <td>NaN</td>\n",
       "      <td>S</td>\n",
       "    </tr>\n",
       "    <tr>\n",
       "      <th>3</th>\n",
       "      <td>4</td>\n",
       "      <td>1</td>\n",
       "      <td>1</td>\n",
       "      <td>Futrelle, Mrs. Jacques Heath (Lily May Peel)</td>\n",
       "      <td>female</td>\n",
       "      <td>35.0</td>\n",
       "      <td>1</td>\n",
       "      <td>0</td>\n",
       "      <td>113803</td>\n",
       "      <td>53.1000</td>\n",
       "      <td>C123</td>\n",
       "      <td>S</td>\n",
       "    </tr>\n",
       "    <tr>\n",
       "      <th>4</th>\n",
       "      <td>5</td>\n",
       "      <td>0</td>\n",
       "      <td>3</td>\n",
       "      <td>Allen, Mr. William Henry</td>\n",
       "      <td>male</td>\n",
       "      <td>35.0</td>\n",
       "      <td>0</td>\n",
       "      <td>0</td>\n",
       "      <td>373450</td>\n",
       "      <td>8.0500</td>\n",
       "      <td>NaN</td>\n",
       "      <td>S</td>\n",
       "    </tr>\n",
       "  </tbody>\n",
       "</table>\n",
       "</div>"
      ],
      "text/plain": [
       "   PassengerId  Survived  Pclass  \\\n",
       "0            1         0       3   \n",
       "1            2         1       1   \n",
       "2            3         1       3   \n",
       "3            4         1       1   \n",
       "4            5         0       3   \n",
       "\n",
       "                                                Name     Sex   Age  SibSp  \\\n",
       "0                            Braund, Mr. Owen Harris    male  22.0      1   \n",
       "1  Cumings, Mrs. John Bradley (Florence Briggs Th...  female  38.0      1   \n",
       "2                             Heikkinen, Miss. Laina  female  26.0      0   \n",
       "3       Futrelle, Mrs. Jacques Heath (Lily May Peel)  female  35.0      1   \n",
       "4                           Allen, Mr. William Henry    male  35.0      0   \n",
       "\n",
       "   Parch            Ticket     Fare Cabin Embarked  \n",
       "0      0         A/5 21171   7.2500   NaN        S  \n",
       "1      0          PC 17599  71.2833   C85        C  \n",
       "2      0  STON/O2. 3101282   7.9250   NaN        S  \n",
       "3      0            113803  53.1000  C123        S  \n",
       "4      0            373450   8.0500   NaN        S  "
      ]
     },
     "execution_count": 3,
     "metadata": {},
     "output_type": "execute_result"
    }
   ],
   "source": [
    "train = pd.read_csv('titanic_train.csv')\n",
    "print(train.shape)\n",
    "train.head()"
   ]
  },
  {
   "cell_type": "code",
   "execution_count": 4,
   "id": "969d3458",
   "metadata": {
    "executionInfo": {
     "elapsed": 144,
     "status": "ok",
     "timestamp": 1653701370620,
     "user": {
      "displayName": "안상영",
      "userId": "03805254755243582882"
     },
     "user_tz": -540
    },
    "id": "969d3458"
   },
   "outputs": [],
   "source": [
    "#오토인덱스를 해버리는데.... \n",
    "#read_csv시프트 탭키로 인덱스 컬럼을 지정해주는 파라메타가 있음   , index_col"
   ]
  },
  {
   "cell_type": "code",
   "execution_count": 5,
   "id": "3319f757",
   "metadata": {
    "colab": {
     "base_uri": "https://localhost:8080/",
     "height": 256
    },
    "executionInfo": {
     "elapsed": 143,
     "status": "ok",
     "timestamp": 1653701370620,
     "user": {
      "displayName": "안상영",
      "userId": "03805254755243582882"
     },
     "user_tz": -540
    },
    "id": "3319f757",
    "outputId": "3de9e3ee-d5ad-4874-8d64-819cbc478766"
   },
   "outputs": [
    {
     "name": "stdout",
     "output_type": "stream",
     "text": [
      "(891, 11)\n"
     ]
    },
    {
     "data": {
      "text/html": [
       "<div>\n",
       "<style scoped>\n",
       "    .dataframe tbody tr th:only-of-type {\n",
       "        vertical-align: middle;\n",
       "    }\n",
       "\n",
       "    .dataframe tbody tr th {\n",
       "        vertical-align: top;\n",
       "    }\n",
       "\n",
       "    .dataframe thead th {\n",
       "        text-align: right;\n",
       "    }\n",
       "</style>\n",
       "<table border=\"1\" class=\"dataframe\">\n",
       "  <thead>\n",
       "    <tr style=\"text-align: right;\">\n",
       "      <th></th>\n",
       "      <th>Survived</th>\n",
       "      <th>Pclass</th>\n",
       "      <th>Name</th>\n",
       "      <th>Sex</th>\n",
       "      <th>Age</th>\n",
       "      <th>SibSp</th>\n",
       "      <th>Parch</th>\n",
       "      <th>Ticket</th>\n",
       "      <th>Fare</th>\n",
       "      <th>Cabin</th>\n",
       "      <th>Embarked</th>\n",
       "    </tr>\n",
       "    <tr>\n",
       "      <th>PassengerId</th>\n",
       "      <th></th>\n",
       "      <th></th>\n",
       "      <th></th>\n",
       "      <th></th>\n",
       "      <th></th>\n",
       "      <th></th>\n",
       "      <th></th>\n",
       "      <th></th>\n",
       "      <th></th>\n",
       "      <th></th>\n",
       "      <th></th>\n",
       "    </tr>\n",
       "  </thead>\n",
       "  <tbody>\n",
       "    <tr>\n",
       "      <th>1</th>\n",
       "      <td>0</td>\n",
       "      <td>3</td>\n",
       "      <td>Braund, Mr. Owen Harris</td>\n",
       "      <td>male</td>\n",
       "      <td>22.0</td>\n",
       "      <td>1</td>\n",
       "      <td>0</td>\n",
       "      <td>A/5 21171</td>\n",
       "      <td>7.2500</td>\n",
       "      <td>NaN</td>\n",
       "      <td>S</td>\n",
       "    </tr>\n",
       "    <tr>\n",
       "      <th>2</th>\n",
       "      <td>1</td>\n",
       "      <td>1</td>\n",
       "      <td>Cumings, Mrs. John Bradley (Florence Briggs Th...</td>\n",
       "      <td>female</td>\n",
       "      <td>38.0</td>\n",
       "      <td>1</td>\n",
       "      <td>0</td>\n",
       "      <td>PC 17599</td>\n",
       "      <td>71.2833</td>\n",
       "      <td>C85</td>\n",
       "      <td>C</td>\n",
       "    </tr>\n",
       "    <tr>\n",
       "      <th>3</th>\n",
       "      <td>1</td>\n",
       "      <td>3</td>\n",
       "      <td>Heikkinen, Miss. Laina</td>\n",
       "      <td>female</td>\n",
       "      <td>26.0</td>\n",
       "      <td>0</td>\n",
       "      <td>0</td>\n",
       "      <td>STON/O2. 3101282</td>\n",
       "      <td>7.9250</td>\n",
       "      <td>NaN</td>\n",
       "      <td>S</td>\n",
       "    </tr>\n",
       "    <tr>\n",
       "      <th>4</th>\n",
       "      <td>1</td>\n",
       "      <td>1</td>\n",
       "      <td>Futrelle, Mrs. Jacques Heath (Lily May Peel)</td>\n",
       "      <td>female</td>\n",
       "      <td>35.0</td>\n",
       "      <td>1</td>\n",
       "      <td>0</td>\n",
       "      <td>113803</td>\n",
       "      <td>53.1000</td>\n",
       "      <td>C123</td>\n",
       "      <td>S</td>\n",
       "    </tr>\n",
       "    <tr>\n",
       "      <th>5</th>\n",
       "      <td>0</td>\n",
       "      <td>3</td>\n",
       "      <td>Allen, Mr. William Henry</td>\n",
       "      <td>male</td>\n",
       "      <td>35.0</td>\n",
       "      <td>0</td>\n",
       "      <td>0</td>\n",
       "      <td>373450</td>\n",
       "      <td>8.0500</td>\n",
       "      <td>NaN</td>\n",
       "      <td>S</td>\n",
       "    </tr>\n",
       "  </tbody>\n",
       "</table>\n",
       "</div>"
      ],
      "text/plain": [
       "             Survived  Pclass  \\\n",
       "PassengerId                     \n",
       "1                   0       3   \n",
       "2                   1       1   \n",
       "3                   1       3   \n",
       "4                   1       1   \n",
       "5                   0       3   \n",
       "\n",
       "                                                          Name     Sex   Age  \\\n",
       "PassengerId                                                                    \n",
       "1                                      Braund, Mr. Owen Harris    male  22.0   \n",
       "2            Cumings, Mrs. John Bradley (Florence Briggs Th...  female  38.0   \n",
       "3                                       Heikkinen, Miss. Laina  female  26.0   \n",
       "4                 Futrelle, Mrs. Jacques Heath (Lily May Peel)  female  35.0   \n",
       "5                                     Allen, Mr. William Henry    male  35.0   \n",
       "\n",
       "             SibSp  Parch            Ticket     Fare Cabin Embarked  \n",
       "PassengerId                                                          \n",
       "1                1      0         A/5 21171   7.2500   NaN        S  \n",
       "2                1      0          PC 17599  71.2833   C85        C  \n",
       "3                0      0  STON/O2. 3101282   7.9250   NaN        S  \n",
       "4                1      0            113803  53.1000  C123        S  \n",
       "5                0      0            373450   8.0500   NaN        S  "
      ]
     },
     "execution_count": 5,
     "metadata": {},
     "output_type": "execute_result"
    }
   ],
   "source": [
    "train = pd.read_csv('titanic_train.csv', index_col=\"PassengerId\")\n",
    "print(train.shape)\n",
    "train.head()"
   ]
  },
  {
   "cell_type": "code",
   "execution_count": 6,
   "id": "ca02b637",
   "metadata": {
    "colab": {
     "base_uri": "https://localhost:8080/"
    },
    "executionInfo": {
     "elapsed": 138,
     "status": "ok",
     "timestamp": 1653701370621,
     "user": {
      "displayName": "안상영",
      "userId": "03805254755243582882"
     },
     "user_tz": -540
    },
    "id": "ca02b637",
    "outputId": "3d9d60f3-bd05-4eec-f728-49f0da0323b2"
   },
   "outputs": [
    {
     "name": "stdout",
     "output_type": "stream",
     "text": [
      "<class 'pandas.core.frame.DataFrame'>\n",
      "Int64Index: 891 entries, 1 to 891\n",
      "Data columns (total 11 columns):\n",
      " #   Column    Non-Null Count  Dtype  \n",
      "---  ------    --------------  -----  \n",
      " 0   Survived  891 non-null    int64  \n",
      " 1   Pclass    891 non-null    int64  \n",
      " 2   Name      891 non-null    object \n",
      " 3   Sex       891 non-null    object \n",
      " 4   Age       714 non-null    float64\n",
      " 5   SibSp     891 non-null    int64  \n",
      " 6   Parch     891 non-null    int64  \n",
      " 7   Ticket    891 non-null    object \n",
      " 8   Fare      891 non-null    float64\n",
      " 9   Cabin     204 non-null    object \n",
      " 10  Embarked  889 non-null    object \n",
      "dtypes: float64(2), int64(4), object(5)\n",
      "memory usage: 83.5+ KB\n"
     ]
    }
   ],
   "source": [
    "train.info()"
   ]
  },
  {
   "cell_type": "code",
   "execution_count": 7,
   "id": "548aaee1",
   "metadata": {
    "executionInfo": {
     "elapsed": 134,
     "status": "ok",
     "timestamp": 1653701370622,
     "user": {
      "displayName": "안상영",
      "userId": "03805254755243582882"
     },
     "user_tz": -540
    },
    "id": "548aaee1"
   },
   "outputs": [],
   "source": [
    "# 머신러닝은 null값이나 object는   채워주거나  데이터 타입을 바꿔줘야함 인티저/플롯"
   ]
  },
  {
   "cell_type": "markdown",
   "id": "6cc7f437",
   "metadata": {
    "id": "6cc7f437"
   },
   "source": [
    "### 탐색적분석(EDA) + 데이터 전처리  를 잘 해줘야만   머신러닝이 잘 돌아감\n",
    "### - Feature Selection(데이터를 선택적으로 학습시키기 위해)\n",
    "예를 들면... 캐빈 넘버의 경우 필요한 정보가 아닌데 중요정보로 인식하여 쓰레기를 학습 할 수 있음\n",
    "### - Feature Engineering (특성공학)   ★★★\n",
    "한단계 더 나아가 특정 컬럼을 연결하여 유의미한 정보를 만들어서 그 정보까지 학습시키면 훨씬 효과가 좋아짐"
   ]
  },
  {
   "cell_type": "code",
   "execution_count": 8,
   "id": "4fb0422e",
   "metadata": {
    "executionInfo": {
     "elapsed": 133,
     "status": "ok",
     "timestamp": 1653701370622,
     "user": {
      "displayName": "안상영",
      "userId": "03805254755243582882"
     },
     "user_tz": -540
    },
    "id": "4fb0422e"
   },
   "outputs": [],
   "source": [
    "#카테고리 분석   seaborn에 ....\n",
    "# 생존을 확인하기 위해 0번중요,\n",
    "#일단 객실별 생존여부 관계 분석"
   ]
  },
  {
   "cell_type": "code",
   "execution_count": 9,
   "id": "3b217180",
   "metadata": {
    "colab": {
     "base_uri": "https://localhost:8080/",
     "height": 297
    },
    "executionInfo": {
     "elapsed": 693,
     "status": "ok",
     "timestamp": 1653701371183,
     "user": {
      "displayName": "안상영",
      "userId": "03805254755243582882"
     },
     "user_tz": -540
    },
    "id": "3b217180",
    "outputId": "877083e8-8937-4ba8-a751-8ead161078a8"
   },
   "outputs": [
    {
     "data": {
      "text/plain": [
       "<AxesSubplot:xlabel='Pclass', ylabel='count'>"
      ]
     },
     "execution_count": 9,
     "metadata": {},
     "output_type": "execute_result"
    },
    {
     "name": "stderr",
     "output_type": "stream",
     "text": [
      "findfont: Font family ['AppleGothic'] not found. Falling back to DejaVu Sans.\n"
     ]
    },
    {
     "data": {
      "image/png": "[encoded data removed]",
      "text/plain": [
       "<Figure size 1224x576 with 1 Axes>"
      ]
     },
     "metadata": {
      "needs_background": "light"
     },
     "output_type": "display_data"
    }
   ],
   "source": [
    "sns.countplot(data=train, x=\"Pclass\", hue=\"Survived\")"
   ]
  },
  {
   "cell_type": "code",
   "execution_count": 10,
   "id": "f68d959d",
   "metadata": {
    "executionInfo": {
     "elapsed": 81,
     "status": "ok",
     "timestamp": 1653701371184,
     "user": {
      "displayName": "안상영",
      "userId": "03805254755243582882"
     },
     "user_tz": -540
    },
    "id": "f68d959d"
   },
   "outputs": [],
   "source": [
    "# 그래프와 같이 매우 연관성있음"
   ]
  },
  {
   "cell_type": "code",
   "execution_count": 11,
   "id": "226f2c6b",
   "metadata": {
    "colab": {
     "base_uri": "https://localhost:8080/",
     "height": 297
    },
    "executionInfo": {
     "elapsed": 85,
     "status": "ok",
     "timestamp": 1653701371189,
     "user": {
      "displayName": "안상영",
      "userId": "03805254755243582882"
     },
     "user_tz": -540
    },
    "id": "226f2c6b",
    "outputId": "57cb56c2-66c5-489a-b9fb-9ab16c965302"
   },
   "outputs": [
    {
     "data": {
      "text/plain": [
       "<AxesSubplot:xlabel='Sex', ylabel='count'>"
      ]
     },
     "execution_count": 11,
     "metadata": {},
     "output_type": "execute_result"
    },
    {
     "data": {
      "image/png": "[encoded data removed]",
      "text/plain": [
       "<Figure size 1224x576 with 1 Axes>"
      ]
     },
     "metadata": {
      "needs_background": "light"
     },
     "output_type": "display_data"
    }
   ],
   "source": [
    "sns.countplot(data=train, x=\"Sex\", hue=\"Survived\")"
   ]
  },
  {
   "cell_type": "code",
   "execution_count": 12,
   "id": "b3ff55f7",
   "metadata": {
    "executionInfo": {
     "elapsed": 79,
     "status": "ok",
     "timestamp": 1653701371190,
     "user": {
      "displayName": "안상영",
      "userId": "03805254755243582882"
     },
     "user_tz": -540
    },
    "id": "b3ff55f7"
   },
   "outputs": [],
   "source": [
    "# 우선 성별도 의미가 있다고 보여짐"
   ]
  },
  {
   "cell_type": "code",
   "execution_count": 13,
   "id": "92a54f9c",
   "metadata": {
    "executionInfo": {
     "elapsed": 79,
     "status": "ok",
     "timestamp": 1653701371190,
     "user": {
      "displayName": "안상영",
      "userId": "03805254755243582882"
     },
     "user_tz": -540
    },
    "id": "92a54f9c"
   },
   "outputs": [],
   "source": [
    "# 나이의 경우 연속적  숫자로 구성되어    카운트플롯이 아닌 다른 그래프로 그려야함. "
   ]
  },
  {
   "cell_type": "code",
   "execution_count": 14,
   "id": "415cde45",
   "metadata": {
    "executionInfo": {
     "elapsed": 86,
     "status": "ok",
     "timestamp": 1653701371197,
     "user": {
      "displayName": "안상영",
      "userId": "03805254755243582882"
     },
     "user_tz": -540
    },
    "id": "415cde45"
   },
   "outputs": [],
   "source": [
    "# SibSp 함께 탑승한 형제 또는 배우자 수    , Parch : 부모 자식 명 수의 총 합"
   ]
  },
  {
   "cell_type": "code",
   "execution_count": 15,
   "id": "8d4895b3",
   "metadata": {
    "colab": {
     "base_uri": "https://localhost:8080/",
     "height": 297
    },
    "executionInfo": {
     "elapsed": 86,
     "status": "ok",
     "timestamp": 1653701371198,
     "user": {
      "displayName": "안상영",
      "userId": "03805254755243582882"
     },
     "user_tz": -540
    },
    "id": "8d4895b3",
    "outputId": "cdbd3cfd-180a-4ab5-ade8-243b14ab603e"
   },
   "outputs": [
    {
     "data": {
      "text/plain": [
       "<AxesSubplot:xlabel='SibSp', ylabel='count'>"
      ]
     },
     "execution_count": 15,
     "metadata": {},
     "output_type": "execute_result"
    },
    {
     "data": {
      "image/png": "[encoded data removed]",
      "text/plain": [
       "<Figure size 1224x576 with 1 Axes>"
      ]
     },
     "metadata": {
      "needs_background": "light"
     },
     "output_type": "display_data"
    }
   ],
   "source": [
    "sns.countplot(data=train, x=\"SibSp\", hue=\"Survived\")"
   ]
  },
  {
   "cell_type": "code",
   "execution_count": 16,
   "id": "7c6b7a44",
   "metadata": {
    "colab": {
     "base_uri": "https://localhost:8080/",
     "height": 297
    },
    "executionInfo": {
     "elapsed": 604,
     "status": "ok",
     "timestamp": 1653701371720,
     "user": {
      "displayName": "안상영",
      "userId": "03805254755243582882"
     },
     "user_tz": -540
    },
    "id": "7c6b7a44",
    "outputId": "7dadf968-fb31-4538-ebaf-50d104e8e784"
   },
   "outputs": [
    {
     "data": {
      "text/plain": [
       "<AxesSubplot:xlabel='Parch', ylabel='count'>"
      ]
     },
     "execution_count": 16,
     "metadata": {},
     "output_type": "execute_result"
    },
    {
     "data": {
      "image/png": "[encoded data removed]",
      "text/plain": [
       "<Figure size 1224x576 with 1 Axes>"
      ]
     },
     "metadata": {
      "needs_background": "light"
     },
     "output_type": "display_data"
    }
   ],
   "source": [
    "sns.countplot(data=train, x=\"Parch\", hue=\"Survived\")"
   ]
  },
  {
   "cell_type": "code",
   "execution_count": 17,
   "id": "4bc3c79c",
   "metadata": {
    "executionInfo": {
     "elapsed": 96,
     "status": "ok",
     "timestamp": 1653701371720,
     "user": {
      "displayName": "안상영",
      "userId": "03805254755243582882"
     },
     "user_tz": -540
    },
    "id": "4bc3c79c"
   },
   "outputs": [],
   "source": [
    "# 동행수가 많다고해서 생존률이 높은 것은 아니다\n",
    "# family 컬럼과, 동승여부 컬럼을 만들어봄"
   ]
  },
  {
   "cell_type": "code",
   "execution_count": 18,
   "id": "cf53f18b",
   "metadata": {
    "executionInfo": {
     "elapsed": 96,
     "status": "ok",
     "timestamp": 1653701371721,
     "user": {
      "displayName": "안상영",
      "userId": "03805254755243582882"
     },
     "user_tz": -540
    },
    "id": "cf53f18b"
   },
   "outputs": [],
   "source": [
    "# 없는 컬럼을 만듦\n",
    "\n",
    "test[\"Fsize\"] = test.SibSp + test.Parch"
   ]
  },
  {
   "cell_type": "code",
   "execution_count": 19,
   "id": "af55a247",
   "metadata": {
    "executionInfo": {
     "elapsed": 94,
     "status": "ok",
     "timestamp": 1653701371721,
     "user": {
      "displayName": "안상영",
      "userId": "03805254755243582882"
     },
     "user_tz": -540
    },
    "id": "af55a247"
   },
   "outputs": [],
   "source": [
    "# 없는 컬럼을 만듦\n",
    "\n",
    "train[\"Fsize\"] = train.SibSp + train.Parch"
   ]
  },
  {
   "cell_type": "code",
   "execution_count": 20,
   "id": "71eec701",
   "metadata": {
    "colab": {
     "base_uri": "https://localhost:8080/",
     "height": 316
    },
    "executionInfo": {
     "elapsed": 99,
     "status": "ok",
     "timestamp": 1653701371726,
     "user": {
      "displayName": "안상영",
      "userId": "03805254755243582882"
     },
     "user_tz": -540
    },
    "id": "71eec701",
    "outputId": "8e45ede0-1bb1-47dd-b55b-a0c738d8bd16"
   },
   "outputs": [
    {
     "data": {
      "text/html": [
       "<div>\n",
       "<style scoped>\n",
       "    .dataframe tbody tr th:only-of-type {\n",
       "        vertical-align: middle;\n",
       "    }\n",
       "\n",
       "    .dataframe tbody tr th {\n",
       "        vertical-align: top;\n",
       "    }\n",
       "\n",
       "    .dataframe thead th {\n",
       "        text-align: right;\n",
       "    }\n",
       "</style>\n",
       "<table border=\"1\" class=\"dataframe\">\n",
       "  <thead>\n",
       "    <tr style=\"text-align: right;\">\n",
       "      <th></th>\n",
       "      <th>Survived</th>\n",
       "      <th>Pclass</th>\n",
       "      <th>Name</th>\n",
       "      <th>Sex</th>\n",
       "      <th>Age</th>\n",
       "      <th>SibSp</th>\n",
       "      <th>Parch</th>\n",
       "      <th>Ticket</th>\n",
       "      <th>Fare</th>\n",
       "      <th>Cabin</th>\n",
       "      <th>Embarked</th>\n",
       "      <th>Fsize</th>\n",
       "    </tr>\n",
       "    <tr>\n",
       "      <th>PassengerId</th>\n",
       "      <th></th>\n",
       "      <th></th>\n",
       "      <th></th>\n",
       "      <th></th>\n",
       "      <th></th>\n",
       "      <th></th>\n",
       "      <th></th>\n",
       "      <th></th>\n",
       "      <th></th>\n",
       "      <th></th>\n",
       "      <th></th>\n",
       "      <th></th>\n",
       "    </tr>\n",
       "  </thead>\n",
       "  <tbody>\n",
       "    <tr>\n",
       "      <th>1</th>\n",
       "      <td>0</td>\n",
       "      <td>3</td>\n",
       "      <td>Braund, Mr. Owen Harris</td>\n",
       "      <td>male</td>\n",
       "      <td>22.0</td>\n",
       "      <td>1</td>\n",
       "      <td>0</td>\n",
       "      <td>A/5 21171</td>\n",
       "      <td>7.2500</td>\n",
       "      <td>NaN</td>\n",
       "      <td>S</td>\n",
       "      <td>1</td>\n",
       "    </tr>\n",
       "    <tr>\n",
       "      <th>2</th>\n",
       "      <td>1</td>\n",
       "      <td>1</td>\n",
       "      <td>Cumings, Mrs. John Bradley (Florence Briggs Th...</td>\n",
       "      <td>female</td>\n",
       "      <td>38.0</td>\n",
       "      <td>1</td>\n",
       "      <td>0</td>\n",
       "      <td>PC 17599</td>\n",
       "      <td>71.2833</td>\n",
       "      <td>C85</td>\n",
       "      <td>C</td>\n",
       "      <td>1</td>\n",
       "    </tr>\n",
       "    <tr>\n",
       "      <th>3</th>\n",
       "      <td>1</td>\n",
       "      <td>3</td>\n",
       "      <td>Heikkinen, Miss. Laina</td>\n",
       "      <td>female</td>\n",
       "      <td>26.0</td>\n",
       "      <td>0</td>\n",
       "      <td>0</td>\n",
       "      <td>STON/O2. 3101282</td>\n",
       "      <td>7.9250</td>\n",
       "      <td>NaN</td>\n",
       "      <td>S</td>\n",
       "      <td>0</td>\n",
       "    </tr>\n",
       "    <tr>\n",
       "      <th>4</th>\n",
       "      <td>1</td>\n",
       "      <td>1</td>\n",
       "      <td>Futrelle, Mrs. Jacques Heath (Lily May Peel)</td>\n",
       "      <td>female</td>\n",
       "      <td>35.0</td>\n",
       "      <td>1</td>\n",
       "      <td>0</td>\n",
       "      <td>113803</td>\n",
       "      <td>53.1000</td>\n",
       "      <td>C123</td>\n",
       "      <td>S</td>\n",
       "      <td>1</td>\n",
       "    </tr>\n",
       "    <tr>\n",
       "      <th>5</th>\n",
       "      <td>0</td>\n",
       "      <td>3</td>\n",
       "      <td>Allen, Mr. William Henry</td>\n",
       "      <td>male</td>\n",
       "      <td>35.0</td>\n",
       "      <td>0</td>\n",
       "      <td>0</td>\n",
       "      <td>373450</td>\n",
       "      <td>8.0500</td>\n",
       "      <td>NaN</td>\n",
       "      <td>S</td>\n",
       "      <td>0</td>\n",
       "    </tr>\n",
       "  </tbody>\n",
       "</table>\n",
       "</div>"
      ],
      "text/plain": [
       "             Survived  Pclass  \\\n",
       "PassengerId                     \n",
       "1                   0       3   \n",
       "2                   1       1   \n",
       "3                   1       3   \n",
       "4                   1       1   \n",
       "5                   0       3   \n",
       "\n",
       "                                                          Name     Sex   Age  \\\n",
       "PassengerId                                                                    \n",
       "1                                      Braund, Mr. Owen Harris    male  22.0   \n",
       "2            Cumings, Mrs. John Bradley (Florence Briggs Th...  female  38.0   \n",
       "3                                       Heikkinen, Miss. Laina  female  26.0   \n",
       "4                 Futrelle, Mrs. Jacques Heath (Lily May Peel)  female  35.0   \n",
       "5                                     Allen, Mr. William Henry    male  35.0   \n",
       "\n",
       "             SibSp  Parch            Ticket     Fare Cabin Embarked  Fsize  \n",
       "PassengerId                                                                 \n",
       "1                1      0         A/5 21171   7.2500   NaN        S      1  \n",
       "2                1      0          PC 17599  71.2833   C85        C      1  \n",
       "3                0      0  STON/O2. 3101282   7.9250   NaN        S      0  \n",
       "4                1      0            113803  53.1000  C123        S      1  \n",
       "5                0      0            373450   8.0500   NaN        S      0  "
      ]
     },
     "execution_count": 20,
     "metadata": {},
     "output_type": "execute_result"
    }
   ],
   "source": [
    "train.head()"
   ]
  },
  {
   "cell_type": "code",
   "execution_count": 21,
   "id": "53801257",
   "metadata": {
    "executionInfo": {
     "elapsed": 98,
     "status": "ok",
     "timestamp": 1653701371726,
     "user": {
      "displayName": "안상영",
      "userId": "03805254755243582882"
     },
     "user_tz": -540
    },
    "id": "53801257"
   },
   "outputs": [],
   "source": [
    "test.loc[test.Fsize ==0, 'Alone'] = 1\n",
    "test.loc[test.Fsize !=0, 'Alone'] = 0"
   ]
  },
  {
   "cell_type": "code",
   "execution_count": 22,
   "id": "25c245a3",
   "metadata": {
    "executionInfo": {
     "elapsed": 99,
     "status": "ok",
     "timestamp": 1653701371727,
     "user": {
      "displayName": "안상영",
      "userId": "03805254755243582882"
     },
     "user_tz": -540
    },
    "id": "25c245a3"
   },
   "outputs": [],
   "source": [
    "train.loc[train.Fsize ==0, 'Alone'] = 1\n",
    "train.loc[train.Fsize !=0, 'Alone'] = 0"
   ]
  },
  {
   "cell_type": "code",
   "execution_count": 23,
   "id": "5ca350a1",
   "metadata": {
    "colab": {
     "base_uri": "https://localhost:8080/",
     "height": 297
    },
    "executionInfo": {
     "elapsed": 99,
     "status": "ok",
     "timestamp": 1653701371727,
     "user": {
      "displayName": "안상영",
      "userId": "03805254755243582882"
     },
     "user_tz": -540
    },
    "id": "5ca350a1",
    "outputId": "ff2228fb-b166-4e85-b24c-b13ad363b8bb"
   },
   "outputs": [
    {
     "data": {
      "text/plain": [
       "<AxesSubplot:xlabel='Alone', ylabel='count'>"
      ]
     },
     "execution_count": 23,
     "metadata": {},
     "output_type": "execute_result"
    },
    {
     "data": {
      "image/png": "[encoded data removed]",
      "text/plain": [
       "<Figure size 1224x576 with 1 Axes>"
      ]
     },
     "metadata": {
      "needs_background": "light"
     },
     "output_type": "display_data"
    }
   ],
   "source": [
    "sns.countplot(data=train, x=\"Alone\", hue=\"Survived\")"
   ]
  },
  {
   "cell_type": "code",
   "execution_count": 24,
   "id": "4bd979c9",
   "metadata": {
    "colab": {
     "base_uri": "https://localhost:8080/",
     "height": 334
    },
    "executionInfo": {
     "elapsed": 95,
     "status": "ok",
     "timestamp": 1653701371728,
     "user": {
      "displayName": "안상영",
      "userId": "03805254755243582882"
     },
     "user_tz": -540
    },
    "id": "4bd979c9",
    "outputId": "5ac3ac8e-4ca1-4c46-e375-7e90156ff279"
   },
   "outputs": [
    {
     "data": {
      "text/html": [
       "<div>\n",
       "<style scoped>\n",
       "    .dataframe tbody tr th:only-of-type {\n",
       "        vertical-align: middle;\n",
       "    }\n",
       "\n",
       "    .dataframe tbody tr th {\n",
       "        vertical-align: top;\n",
       "    }\n",
       "\n",
       "    .dataframe thead th {\n",
       "        text-align: right;\n",
       "    }\n",
       "</style>\n",
       "<table border=\"1\" class=\"dataframe\">\n",
       "  <thead>\n",
       "    <tr style=\"text-align: right;\">\n",
       "      <th></th>\n",
       "      <th>Survived</th>\n",
       "      <th>Pclass</th>\n",
       "      <th>Name</th>\n",
       "      <th>Sex</th>\n",
       "      <th>Age</th>\n",
       "      <th>SibSp</th>\n",
       "      <th>Parch</th>\n",
       "      <th>Ticket</th>\n",
       "      <th>Fare</th>\n",
       "      <th>Cabin</th>\n",
       "      <th>Embarked</th>\n",
       "      <th>Fsize</th>\n",
       "      <th>Alone</th>\n",
       "    </tr>\n",
       "    <tr>\n",
       "      <th>PassengerId</th>\n",
       "      <th></th>\n",
       "      <th></th>\n",
       "      <th></th>\n",
       "      <th></th>\n",
       "      <th></th>\n",
       "      <th></th>\n",
       "      <th></th>\n",
       "      <th></th>\n",
       "      <th></th>\n",
       "      <th></th>\n",
       "      <th></th>\n",
       "      <th></th>\n",
       "      <th></th>\n",
       "    </tr>\n",
       "  </thead>\n",
       "  <tbody>\n",
       "    <tr>\n",
       "      <th>1</th>\n",
       "      <td>0</td>\n",
       "      <td>3</td>\n",
       "      <td>Braund, Mr. Owen Harris</td>\n",
       "      <td>male</td>\n",
       "      <td>22.0</td>\n",
       "      <td>1</td>\n",
       "      <td>0</td>\n",
       "      <td>A/5 21171</td>\n",
       "      <td>7.2500</td>\n",
       "      <td>NaN</td>\n",
       "      <td>S</td>\n",
       "      <td>1</td>\n",
       "      <td>0.0</td>\n",
       "    </tr>\n",
       "    <tr>\n",
       "      <th>2</th>\n",
       "      <td>1</td>\n",
       "      <td>1</td>\n",
       "      <td>Cumings, Mrs. John Bradley (Florence Briggs Th...</td>\n",
       "      <td>female</td>\n",
       "      <td>38.0</td>\n",
       "      <td>1</td>\n",
       "      <td>0</td>\n",
       "      <td>PC 17599</td>\n",
       "      <td>71.2833</td>\n",
       "      <td>C85</td>\n",
       "      <td>C</td>\n",
       "      <td>1</td>\n",
       "      <td>0.0</td>\n",
       "    </tr>\n",
       "    <tr>\n",
       "      <th>3</th>\n",
       "      <td>1</td>\n",
       "      <td>3</td>\n",
       "      <td>Heikkinen, Miss. Laina</td>\n",
       "      <td>female</td>\n",
       "      <td>26.0</td>\n",
       "      <td>0</td>\n",
       "      <td>0</td>\n",
       "      <td>STON/O2. 3101282</td>\n",
       "      <td>7.9250</td>\n",
       "      <td>NaN</td>\n",
       "      <td>S</td>\n",
       "      <td>0</td>\n",
       "      <td>1.0</td>\n",
       "    </tr>\n",
       "    <tr>\n",
       "      <th>4</th>\n",
       "      <td>1</td>\n",
       "      <td>1</td>\n",
       "      <td>Futrelle, Mrs. Jacques Heath (Lily May Peel)</td>\n",
       "      <td>female</td>\n",
       "      <td>35.0</td>\n",
       "      <td>1</td>\n",
       "      <td>0</td>\n",
       "      <td>113803</td>\n",
       "      <td>53.1000</td>\n",
       "      <td>C123</td>\n",
       "      <td>S</td>\n",
       "      <td>1</td>\n",
       "      <td>0.0</td>\n",
       "    </tr>\n",
       "    <tr>\n",
       "      <th>5</th>\n",
       "      <td>0</td>\n",
       "      <td>3</td>\n",
       "      <td>Allen, Mr. William Henry</td>\n",
       "      <td>male</td>\n",
       "      <td>35.0</td>\n",
       "      <td>0</td>\n",
       "      <td>0</td>\n",
       "      <td>373450</td>\n",
       "      <td>8.0500</td>\n",
       "      <td>NaN</td>\n",
       "      <td>S</td>\n",
       "      <td>0</td>\n",
       "      <td>1.0</td>\n",
       "    </tr>\n",
       "  </tbody>\n",
       "</table>\n",
       "</div>"
      ],
      "text/plain": [
       "             Survived  Pclass  \\\n",
       "PassengerId                     \n",
       "1                   0       3   \n",
       "2                   1       1   \n",
       "3                   1       3   \n",
       "4                   1       1   \n",
       "5                   0       3   \n",
       "\n",
       "                                                          Name     Sex   Age  \\\n",
       "PassengerId                                                                    \n",
       "1                                      Braund, Mr. Owen Harris    male  22.0   \n",
       "2            Cumings, Mrs. John Bradley (Florence Briggs Th...  female  38.0   \n",
       "3                                       Heikkinen, Miss. Laina  female  26.0   \n",
       "4                 Futrelle, Mrs. Jacques Heath (Lily May Peel)  female  35.0   \n",
       "5                                     Allen, Mr. William Henry    male  35.0   \n",
       "\n",
       "             SibSp  Parch            Ticket     Fare Cabin Embarked  Fsize  \\\n",
       "PassengerId                                                                  \n",
       "1                1      0         A/5 21171   7.2500   NaN        S      1   \n",
       "2                1      0          PC 17599  71.2833   C85        C      1   \n",
       "3                0      0  STON/O2. 3101282   7.9250   NaN        S      0   \n",
       "4                1      0            113803  53.1000  C123        S      1   \n",
       "5                0      0            373450   8.0500   NaN        S      0   \n",
       "\n",
       "             Alone  \n",
       "PassengerId         \n",
       "1              0.0  \n",
       "2              0.0  \n",
       "3              1.0  \n",
       "4              0.0  \n",
       "5              1.0  "
      ]
     },
     "execution_count": 24,
     "metadata": {},
     "output_type": "execute_result"
    }
   ],
   "source": [
    "train.head()"
   ]
  },
  {
   "cell_type": "code",
   "execution_count": 25,
   "id": "71045266",
   "metadata": {
    "colab": {
     "base_uri": "https://localhost:8080/",
     "height": 297
    },
    "executionInfo": {
     "elapsed": 721,
     "status": "ok",
     "timestamp": 1653701372355,
     "user": {
      "displayName": "안상영",
      "userId": "03805254755243582882"
     },
     "user_tz": -540
    },
    "id": "71045266",
    "outputId": "7d1df004-3b05-4681-c99c-b23daa5d8fc9"
   },
   "outputs": [
    {
     "data": {
      "text/plain": [
       "<AxesSubplot:xlabel='Fare', ylabel='Density'>"
      ]
     },
     "execution_count": 25,
     "metadata": {},
     "output_type": "execute_result"
    },
    {
     "data": {
      "image/png": "[encoded data removed]",
      "text/plain": [
       "<Figure size 1224x576 with 1 Axes>"
      ]
     },
     "metadata": {
      "needs_background": "light"
     },
     "output_type": "display_data"
    }
   ],
   "source": [
    "sns.distplot(train.Fare)"
   ]
  },
  {
   "cell_type": "markdown",
   "id": "94001645",
   "metadata": {
    "id": "94001645"
   },
   "source": [
    "# 500불에 대한 분석\n",
    "> ** Q. Fare를 500불 이상 낸 승객들을 찾아주세요 **"
   ]
  },
  {
   "cell_type": "code",
   "execution_count": 26,
   "id": "392d1e8f",
   "metadata": {
    "colab": {
     "base_uri": "https://localhost:8080/",
     "height": 219
    },
    "executionInfo": {
     "elapsed": 88,
     "status": "ok",
     "timestamp": 1653701372360,
     "user": {
      "displayName": "안상영",
      "userId": "03805254755243582882"
     },
     "user_tz": -540
    },
    "id": "392d1e8f",
    "outputId": "a05da360-a226-4318-f4d4-6c072527ac74"
   },
   "outputs": [
    {
     "data": {
      "text/html": [
       "<div>\n",
       "<style scoped>\n",
       "    .dataframe tbody tr th:only-of-type {\n",
       "        vertical-align: middle;\n",
       "    }\n",
       "\n",
       "    .dataframe tbody tr th {\n",
       "        vertical-align: top;\n",
       "    }\n",
       "\n",
       "    .dataframe thead th {\n",
       "        text-align: right;\n",
       "    }\n",
       "</style>\n",
       "<table border=\"1\" class=\"dataframe\">\n",
       "  <thead>\n",
       "    <tr style=\"text-align: right;\">\n",
       "      <th></th>\n",
       "      <th>Survived</th>\n",
       "      <th>Pclass</th>\n",
       "      <th>Name</th>\n",
       "      <th>Sex</th>\n",
       "      <th>Age</th>\n",
       "      <th>SibSp</th>\n",
       "      <th>Parch</th>\n",
       "      <th>Ticket</th>\n",
       "      <th>Fare</th>\n",
       "      <th>Cabin</th>\n",
       "      <th>Embarked</th>\n",
       "      <th>Fsize</th>\n",
       "      <th>Alone</th>\n",
       "    </tr>\n",
       "    <tr>\n",
       "      <th>PassengerId</th>\n",
       "      <th></th>\n",
       "      <th></th>\n",
       "      <th></th>\n",
       "      <th></th>\n",
       "      <th></th>\n",
       "      <th></th>\n",
       "      <th></th>\n",
       "      <th></th>\n",
       "      <th></th>\n",
       "      <th></th>\n",
       "      <th></th>\n",
       "      <th></th>\n",
       "      <th></th>\n",
       "    </tr>\n",
       "  </thead>\n",
       "  <tbody>\n",
       "    <tr>\n",
       "      <th>259</th>\n",
       "      <td>1</td>\n",
       "      <td>1</td>\n",
       "      <td>Ward, Miss. Anna</td>\n",
       "      <td>female</td>\n",
       "      <td>35.0</td>\n",
       "      <td>0</td>\n",
       "      <td>0</td>\n",
       "      <td>PC 17755</td>\n",
       "      <td>512.3292</td>\n",
       "      <td>NaN</td>\n",
       "      <td>C</td>\n",
       "      <td>0</td>\n",
       "      <td>1.0</td>\n",
       "    </tr>\n",
       "    <tr>\n",
       "      <th>680</th>\n",
       "      <td>1</td>\n",
       "      <td>1</td>\n",
       "      <td>Cardeza, Mr. Thomas Drake Martinez</td>\n",
       "      <td>male</td>\n",
       "      <td>36.0</td>\n",
       "      <td>0</td>\n",
       "      <td>1</td>\n",
       "      <td>PC 17755</td>\n",
       "      <td>512.3292</td>\n",
       "      <td>B51 B53 B55</td>\n",
       "      <td>C</td>\n",
       "      <td>1</td>\n",
       "      <td>0.0</td>\n",
       "    </tr>\n",
       "    <tr>\n",
       "      <th>738</th>\n",
       "      <td>1</td>\n",
       "      <td>1</td>\n",
       "      <td>Lesurer, Mr. Gustave J</td>\n",
       "      <td>male</td>\n",
       "      <td>35.0</td>\n",
       "      <td>0</td>\n",
       "      <td>0</td>\n",
       "      <td>PC 17755</td>\n",
       "      <td>512.3292</td>\n",
       "      <td>B101</td>\n",
       "      <td>C</td>\n",
       "      <td>0</td>\n",
       "      <td>1.0</td>\n",
       "    </tr>\n",
       "  </tbody>\n",
       "</table>\n",
       "</div>"
      ],
      "text/plain": [
       "             Survived  Pclass                                Name     Sex  \\\n",
       "PassengerId                                                                 \n",
       "259                 1       1                    Ward, Miss. Anna  female   \n",
       "680                 1       1  Cardeza, Mr. Thomas Drake Martinez    male   \n",
       "738                 1       1              Lesurer, Mr. Gustave J    male   \n",
       "\n",
       "              Age  SibSp  Parch    Ticket      Fare        Cabin Embarked  \\\n",
       "PassengerId                                                                 \n",
       "259          35.0      0      0  PC 17755  512.3292          NaN        C   \n",
       "680          36.0      0      1  PC 17755  512.3292  B51 B53 B55        C   \n",
       "738          35.0      0      0  PC 17755  512.3292         B101        C   \n",
       "\n",
       "             Fsize  Alone  \n",
       "PassengerId                \n",
       "259              0    1.0  \n",
       "680              1    0.0  \n",
       "738              0    1.0  "
      ]
     },
     "execution_count": 26,
     "metadata": {},
     "output_type": "execute_result"
    }
   ],
   "source": [
    "train.loc[train.Fare >= 500]"
   ]
  },
  {
   "cell_type": "code",
   "execution_count": 27,
   "id": "ec8f6d62",
   "metadata": {
    "executionInfo": {
     "elapsed": 89,
     "status": "ok",
     "timestamp": 1653701372361,
     "user": {
      "displayName": "안상영",
      "userId": "03805254755243582882"
     },
     "user_tz": -540
    },
    "id": "ec8f6d62"
   },
   "outputs": [],
   "source": [
    "# 요금이 동일티켓에 동일금액으로,  잘못된 입력값인지 찾는 것도 필요함"
   ]
  },
  {
   "cell_type": "code",
   "execution_count": 28,
   "id": "dc33ee03",
   "metadata": {
    "executionInfo": {
     "elapsed": 88,
     "status": "ok",
     "timestamp": 1653701372361,
     "user": {
      "displayName": "안상영",
      "userId": "03805254755243582882"
     },
     "user_tz": -540
    },
    "id": "dc33ee03"
   },
   "outputs": [],
   "source": [
    "test.loc[test.Fare >=500, 'Fare'] = 512/3"
   ]
  },
  {
   "cell_type": "code",
   "execution_count": 29,
   "id": "21fe84a7",
   "metadata": {
    "executionInfo": {
     "elapsed": 90,
     "status": "ok",
     "timestamp": 1653701372363,
     "user": {
      "displayName": "안상영",
      "userId": "03805254755243582882"
     },
     "user_tz": -540
    },
    "id": "21fe84a7"
   },
   "outputs": [],
   "source": [
    "train.loc[train.Fare >= 500, 'Fare'] = 512/3"
   ]
  },
  {
   "cell_type": "code",
   "execution_count": 30,
   "id": "d606d29d",
   "metadata": {
    "colab": {
     "base_uri": "https://localhost:8080/",
     "height": 81
    },
    "executionInfo": {
     "elapsed": 91,
     "status": "ok",
     "timestamp": 1653701372364,
     "user": {
      "displayName": "안상영",
      "userId": "03805254755243582882"
     },
     "user_tz": -540
    },
    "id": "d606d29d",
    "outputId": "b9bb1d66-2854-4e98-ae77-97250e08b08c"
   },
   "outputs": [
    {
     "data": {
      "text/html": [
       "<div>\n",
       "<style scoped>\n",
       "    .dataframe tbody tr th:only-of-type {\n",
       "        vertical-align: middle;\n",
       "    }\n",
       "\n",
       "    .dataframe tbody tr th {\n",
       "        vertical-align: top;\n",
       "    }\n",
       "\n",
       "    .dataframe thead th {\n",
       "        text-align: right;\n",
       "    }\n",
       "</style>\n",
       "<table border=\"1\" class=\"dataframe\">\n",
       "  <thead>\n",
       "    <tr style=\"text-align: right;\">\n",
       "      <th></th>\n",
       "      <th>Survived</th>\n",
       "      <th>Pclass</th>\n",
       "      <th>Name</th>\n",
       "      <th>Sex</th>\n",
       "      <th>Age</th>\n",
       "      <th>SibSp</th>\n",
       "      <th>Parch</th>\n",
       "      <th>Ticket</th>\n",
       "      <th>Fare</th>\n",
       "      <th>Cabin</th>\n",
       "      <th>Embarked</th>\n",
       "      <th>Fsize</th>\n",
       "      <th>Alone</th>\n",
       "    </tr>\n",
       "    <tr>\n",
       "      <th>PassengerId</th>\n",
       "      <th></th>\n",
       "      <th></th>\n",
       "      <th></th>\n",
       "      <th></th>\n",
       "      <th></th>\n",
       "      <th></th>\n",
       "      <th></th>\n",
       "      <th></th>\n",
       "      <th></th>\n",
       "      <th></th>\n",
       "      <th></th>\n",
       "      <th></th>\n",
       "      <th></th>\n",
       "    </tr>\n",
       "  </thead>\n",
       "  <tbody>\n",
       "  </tbody>\n",
       "</table>\n",
       "</div>"
      ],
      "text/plain": [
       "Empty DataFrame\n",
       "Columns: [Survived, Pclass, Name, Sex, Age, SibSp, Parch, Ticket, Fare, Cabin, Embarked, Fsize, Alone]\n",
       "Index: []"
      ]
     },
     "execution_count": 30,
     "metadata": {},
     "output_type": "execute_result"
    }
   ],
   "source": [
    "train.loc[train.Fare >= 300]"
   ]
  },
  {
   "cell_type": "code",
   "execution_count": 31,
   "id": "9a3af193",
   "metadata": {
    "executionInfo": {
     "elapsed": 90,
     "status": "ok",
     "timestamp": 1653701372364,
     "user": {
      "displayName": "안상영",
      "userId": "03805254755243582882"
     },
     "user_tz": -540
    },
    "id": "9a3af193"
   },
   "outputs": [],
   "source": [
    "survivor = train[train.Survived ==1]\n",
    "perish = train[train.Survived ==0]"
   ]
  },
  {
   "cell_type": "code",
   "execution_count": 32,
   "id": "f9a2d9bc",
   "metadata": {
    "colab": {
     "base_uri": "https://localhost:8080/",
     "height": 297
    },
    "executionInfo": {
     "elapsed": 91,
     "status": "ok",
     "timestamp": 1653701372365,
     "user": {
      "displayName": "안상영",
      "userId": "03805254755243582882"
     },
     "user_tz": -540
    },
    "id": "f9a2d9bc",
    "outputId": "7ed32e74-e857-42ab-b028-795afc3b05ca",
    "scrolled": true
   },
   "outputs": [
    {
     "data": {
      "text/plain": [
       "<AxesSubplot:xlabel='Fare', ylabel='Density'>"
      ]
     },
     "execution_count": 32,
     "metadata": {},
     "output_type": "execute_result"
    },
    {
     "data": {
      "image/png": "[encoded data removed]",
      "text/plain": [
       "<Figure size 1224x576 with 1 Axes>"
      ]
     },
     "metadata": {
      "needs_background": "light"
     },
     "output_type": "display_data"
    }
   ],
   "source": [
    "sns.distplot(survivor.Fare)\n",
    "sns.distplot(perish.Fare)"
   ]
  },
  {
   "cell_type": "markdown",
   "id": "4ce25bd9",
   "metadata": {
    "id": "4ce25bd9"
   },
   "source": [
    "## lmplot\n",
    " - 신규 데이터의 조합이 매우 중요.\n",
    " - 나이는 크게 중요하지 않지만 조합에 따라 중요해질 수 있음.\n"
   ]
  },
  {
   "cell_type": "code",
   "execution_count": 33,
   "id": "cceabb1b",
   "metadata": {
    "colab": {
     "base_uri": "https://localhost:8080/",
     "height": 387
    },
    "executionInfo": {
     "elapsed": 1633,
     "status": "ok",
     "timestamp": 1653701373916,
     "user": {
      "displayName": "안상영",
      "userId": "03805254755243582882"
     },
     "user_tz": -540
    },
    "id": "cceabb1b",
    "outputId": "d475aead-9d4b-489d-ccb0-550acc976a7a",
    "scrolled": true
   },
   "outputs": [
    {
     "data": {
      "text/plain": [
       "<seaborn.axisgrid.FacetGrid at 0x21c53cc2f70>"
      ]
     },
     "execution_count": 33,
     "metadata": {},
     "output_type": "execute_result"
    },
    {
     "data": {
      "image/png": "[encoded data removed]",
      "text/plain": [
       "<Figure size 411.875x360 with 1 Axes>"
      ]
     },
     "metadata": {
      "needs_background": "light"
     },
     "output_type": "display_data"
    }
   ],
   "source": [
    "sns.lmplot(data=train, x=\"Age\", y=\"Fare\", hue=\"Survived\")"
   ]
  },
  {
   "cell_type": "code",
   "execution_count": 34,
   "id": "8c9f587f",
   "metadata": {
    "colab": {
     "base_uri": "https://localhost:8080/",
     "height": 334
    },
    "executionInfo": {
     "elapsed": 211,
     "status": "ok",
     "timestamp": 1653701373917,
     "user": {
      "displayName": "안상영",
      "userId": "03805254755243582882"
     },
     "user_tz": -540
    },
    "id": "8c9f587f",
    "outputId": "e2d0f169-9b7b-4cfe-f192-99a685360290"
   },
   "outputs": [
    {
     "data": {
      "text/html": [
       "<div>\n",
       "<style scoped>\n",
       "    .dataframe tbody tr th:only-of-type {\n",
       "        vertical-align: middle;\n",
       "    }\n",
       "\n",
       "    .dataframe tbody tr th {\n",
       "        vertical-align: top;\n",
       "    }\n",
       "\n",
       "    .dataframe thead th {\n",
       "        text-align: right;\n",
       "    }\n",
       "</style>\n",
       "<table border=\"1\" class=\"dataframe\">\n",
       "  <thead>\n",
       "    <tr style=\"text-align: right;\">\n",
       "      <th></th>\n",
       "      <th>Survived</th>\n",
       "      <th>Pclass</th>\n",
       "      <th>Name</th>\n",
       "      <th>Sex</th>\n",
       "      <th>Age</th>\n",
       "      <th>SibSp</th>\n",
       "      <th>Parch</th>\n",
       "      <th>Ticket</th>\n",
       "      <th>Fare</th>\n",
       "      <th>Cabin</th>\n",
       "      <th>Embarked</th>\n",
       "      <th>Fsize</th>\n",
       "      <th>Alone</th>\n",
       "    </tr>\n",
       "    <tr>\n",
       "      <th>PassengerId</th>\n",
       "      <th></th>\n",
       "      <th></th>\n",
       "      <th></th>\n",
       "      <th></th>\n",
       "      <th></th>\n",
       "      <th></th>\n",
       "      <th></th>\n",
       "      <th></th>\n",
       "      <th></th>\n",
       "      <th></th>\n",
       "      <th></th>\n",
       "      <th></th>\n",
       "      <th></th>\n",
       "    </tr>\n",
       "  </thead>\n",
       "  <tbody>\n",
       "    <tr>\n",
       "      <th>1</th>\n",
       "      <td>0</td>\n",
       "      <td>3</td>\n",
       "      <td>Braund, Mr. Owen Harris</td>\n",
       "      <td>male</td>\n",
       "      <td>22.0</td>\n",
       "      <td>1</td>\n",
       "      <td>0</td>\n",
       "      <td>A/5 21171</td>\n",
       "      <td>7.2500</td>\n",
       "      <td>NaN</td>\n",
       "      <td>S</td>\n",
       "      <td>1</td>\n",
       "      <td>0.0</td>\n",
       "    </tr>\n",
       "    <tr>\n",
       "      <th>2</th>\n",
       "      <td>1</td>\n",
       "      <td>1</td>\n",
       "      <td>Cumings, Mrs. John Bradley (Florence Briggs Th...</td>\n",
       "      <td>female</td>\n",
       "      <td>38.0</td>\n",
       "      <td>1</td>\n",
       "      <td>0</td>\n",
       "      <td>PC 17599</td>\n",
       "      <td>71.2833</td>\n",
       "      <td>C85</td>\n",
       "      <td>C</td>\n",
       "      <td>1</td>\n",
       "      <td>0.0</td>\n",
       "    </tr>\n",
       "    <tr>\n",
       "      <th>3</th>\n",
       "      <td>1</td>\n",
       "      <td>3</td>\n",
       "      <td>Heikkinen, Miss. Laina</td>\n",
       "      <td>female</td>\n",
       "      <td>26.0</td>\n",
       "      <td>0</td>\n",
       "      <td>0</td>\n",
       "      <td>STON/O2. 3101282</td>\n",
       "      <td>7.9250</td>\n",
       "      <td>NaN</td>\n",
       "      <td>S</td>\n",
       "      <td>0</td>\n",
       "      <td>1.0</td>\n",
       "    </tr>\n",
       "    <tr>\n",
       "      <th>4</th>\n",
       "      <td>1</td>\n",
       "      <td>1</td>\n",
       "      <td>Futrelle, Mrs. Jacques Heath (Lily May Peel)</td>\n",
       "      <td>female</td>\n",
       "      <td>35.0</td>\n",
       "      <td>1</td>\n",
       "      <td>0</td>\n",
       "      <td>113803</td>\n",
       "      <td>53.1000</td>\n",
       "      <td>C123</td>\n",
       "      <td>S</td>\n",
       "      <td>1</td>\n",
       "      <td>0.0</td>\n",
       "    </tr>\n",
       "    <tr>\n",
       "      <th>5</th>\n",
       "      <td>0</td>\n",
       "      <td>3</td>\n",
       "      <td>Allen, Mr. William Henry</td>\n",
       "      <td>male</td>\n",
       "      <td>35.0</td>\n",
       "      <td>0</td>\n",
       "      <td>0</td>\n",
       "      <td>373450</td>\n",
       "      <td>8.0500</td>\n",
       "      <td>NaN</td>\n",
       "      <td>S</td>\n",
       "      <td>0</td>\n",
       "      <td>1.0</td>\n",
       "    </tr>\n",
       "  </tbody>\n",
       "</table>\n",
       "</div>"
      ],
      "text/plain": [
       "             Survived  Pclass  \\\n",
       "PassengerId                     \n",
       "1                   0       3   \n",
       "2                   1       1   \n",
       "3                   1       3   \n",
       "4                   1       1   \n",
       "5                   0       3   \n",
       "\n",
       "                                                          Name     Sex   Age  \\\n",
       "PassengerId                                                                    \n",
       "1                                      Braund, Mr. Owen Harris    male  22.0   \n",
       "2            Cumings, Mrs. John Bradley (Florence Briggs Th...  female  38.0   \n",
       "3                                       Heikkinen, Miss. Laina  female  26.0   \n",
       "4                 Futrelle, Mrs. Jacques Heath (Lily May Peel)  female  35.0   \n",
       "5                                     Allen, Mr. William Henry    male  35.0   \n",
       "\n",
       "             SibSp  Parch            Ticket     Fare Cabin Embarked  Fsize  \\\n",
       "PassengerId                                                                  \n",
       "1                1      0         A/5 21171   7.2500   NaN        S      1   \n",
       "2                1      0          PC 17599  71.2833   C85        C      1   \n",
       "3                0      0  STON/O2. 3101282   7.9250   NaN        S      0   \n",
       "4                1      0            113803  53.1000  C123        S      1   \n",
       "5                0      0            373450   8.0500   NaN        S      0   \n",
       "\n",
       "             Alone  \n",
       "PassengerId         \n",
       "1              0.0  \n",
       "2              0.0  \n",
       "3              1.0  \n",
       "4              0.0  \n",
       "5              1.0  "
      ]
     },
     "execution_count": 34,
     "metadata": {},
     "output_type": "execute_result"
    }
   ],
   "source": [
    "train.head()"
   ]
  },
  {
   "cell_type": "code",
   "execution_count": 35,
   "id": "76faca7f",
   "metadata": {
    "executionInfo": {
     "elapsed": 209,
     "status": "ok",
     "timestamp": 1653701373917,
     "user": {
      "displayName": "안상영",
      "userId": "03805254755243582882"
     },
     "user_tz": -540
    },
    "id": "76faca7f"
   },
   "outputs": [],
   "source": [
    "# 캐빈넘버의 경우, 있는 사람과 없는 사람을 나누어 줌"
   ]
  },
  {
   "cell_type": "code",
   "execution_count": 36,
   "id": "b50eec9a",
   "metadata": {
    "colab": {
     "base_uri": "https://localhost:8080/"
    },
    "executionInfo": {
     "elapsed": 209,
     "status": "ok",
     "timestamp": 1653701373918,
     "user": {
      "displayName": "안상영",
      "userId": "03805254755243582882"
     },
     "user_tz": -540
    },
    "id": "b50eec9a",
    "outputId": "259a76e9-c96e-4063-cd63-2a245e254091"
   },
   "outputs": [
    {
     "data": {
      "text/plain": [
       "0.7710437710437711"
      ]
     },
     "execution_count": 36,
     "metadata": {},
     "output_type": "execute_result"
    }
   ],
   "source": [
    "train.Cabin.isnull().sum() / train.shape[0]"
   ]
  },
  {
   "cell_type": "code",
   "execution_count": 37,
   "id": "bed64f8d",
   "metadata": {
    "executionInfo": {
     "elapsed": 203,
     "status": "ok",
     "timestamp": 1653701373918,
     "user": {
      "displayName": "안상영",
      "userId": "03805254755243582882"
     },
     "user_tz": -540
    },
    "id": "bed64f8d"
   },
   "outputs": [],
   "source": [
    "test.loc[test.Cabin.isnull(), 'Cabin_encode'] = 0\n",
    "test.loc[test.Cabin.notnull(), 'Cabin_encode'] = 1\n"
   ]
  },
  {
   "cell_type": "code",
   "execution_count": 38,
   "id": "3d1f6d4d",
   "metadata": {
    "executionInfo": {
     "elapsed": 204,
     "status": "ok",
     "timestamp": 1653701373919,
     "user": {
      "displayName": "안상영",
      "userId": "03805254755243582882"
     },
     "user_tz": -540
    },
    "id": "3d1f6d4d"
   },
   "outputs": [],
   "source": [
    "train.loc[train.Cabin.isnull(), 'Cabin_encode']=0\n",
    "train.loc[train.Cabin.notnull(), 'Cabin_encode']=1"
   ]
  },
  {
   "cell_type": "code",
   "execution_count": 39,
   "id": "08298cfc",
   "metadata": {
    "colab": {
     "base_uri": "https://localhost:8080/",
     "height": 300
    },
    "executionInfo": {
     "elapsed": 209,
     "status": "ok",
     "timestamp": 1653701373924,
     "user": {
      "displayName": "안상영",
      "userId": "03805254755243582882"
     },
     "user_tz": -540
    },
    "id": "08298cfc",
    "outputId": "92f7c1d7-18c6-494f-e7c2-a1fe898317eb"
   },
   "outputs": [
    {
     "data": {
      "text/plain": [
       "<AxesSubplot:xlabel='Cabin_encode', ylabel='count'>"
      ]
     },
     "execution_count": 39,
     "metadata": {},
     "output_type": "execute_result"
    },
    {
     "data": {
      "image/png": "[encoded data removed]",
      "text/plain": [
       "<Figure size 1224x576 with 1 Axes>"
      ]
     },
     "metadata": {
      "needs_background": "light"
     },
     "output_type": "display_data"
    }
   ],
   "source": [
    "sns.countplot(data=train, x='Cabin_encode', hue=\"Survived\")"
   ]
  },
  {
   "cell_type": "code",
   "execution_count": 40,
   "id": "ffa9dffd",
   "metadata": {
    "colab": {
     "base_uri": "https://localhost:8080/"
    },
    "executionInfo": {
     "elapsed": 205,
     "status": "ok",
     "timestamp": 1653701373925,
     "user": {
      "displayName": "안상영",
      "userId": "03805254755243582882"
     },
     "user_tz": -540
    },
    "id": "ffa9dffd",
    "outputId": "5ce4984c-bb8e-49f3-84bd-b311717c0378"
   },
   "outputs": [
    {
     "data": {
      "text/plain": [
       "1    176\n",
       "2     16\n",
       "3     12\n",
       "Name: Pclass, dtype: int64"
      ]
     },
     "execution_count": 40,
     "metadata": {},
     "output_type": "execute_result"
    }
   ],
   "source": [
    "train[train.Cabin.notnull()].Pclass.value_counts()     # 이미 1등석이 캐빈넘거가 많이 기록되어있어 추가한다고 영향을 많이 주지 않음"
   ]
  },
  {
   "cell_type": "code",
   "execution_count": 41,
   "id": "e0d6a38d",
   "metadata": {
    "colab": {
     "base_uri": "https://localhost:8080/"
    },
    "executionInfo": {
     "elapsed": 202,
     "status": "ok",
     "timestamp": 1653701373925,
     "user": {
      "displayName": "안상영",
      "userId": "03805254755243582882"
     },
     "user_tz": -540
    },
    "id": "e0d6a38d",
    "outputId": "d88266e0-8d01-4e72-b342-36733bd46ec5"
   },
   "outputs": [
    {
     "data": {
      "text/plain": [
       "PassengerId\n",
       "381                            Bidois, Miss. Rosalie\n",
       "347                        Smith, Miss. Marion Elsie\n",
       "855    Carter, Mrs. Ernest Courtenay (Lilian Hughes)\n",
       "13                    Saundercock, Mr. William Henry\n",
       "588                 Frolicher-Stehli, Mr. Maxmillian\n",
       "699                         Thayer, Mr. John Borland\n",
       "630                         O'Connell, Mr. Patrick D\n",
       "291                     Barber, Miss. Ellen \"Nellie\"\n",
       "71                        Jenkin, Mr. Stephen Curnow\n",
       "672                           Davidson, Mr. Thornton\n",
       "51                        Panula, Master. Juha Niilo\n",
       "137                     Newsom, Miss. Helen Monypeny\n",
       "218                     Jacobsohn, Mr. Sidney Samuel\n",
       "30                               Todoroff, Mr. Lalio\n",
       "84                           Carrau, Mr. Francisco M\n",
       "281                                 Duane, Mr. Frank\n",
       "680               Cardeza, Mr. Thomas Drake Martinez\n",
       "434                       Kallio, Mr. Nikolai Erland\n",
       "705                          Hansen, Mr. Henrik Juul\n",
       "530                      Hocking, Mr. Richard George\n",
       "158                                  Corn, Mr. Harry\n",
       "331                               McCoy, Miss. Agnes\n",
       "289                             Hosono, Mr. Masabumi\n",
       "314                           Hendekovic, Mr. Ignjac\n",
       "734                       Berriman, Mr. William John\n",
       "341                   Navratil, Master. Edmond Roger\n",
       "5                           Allen, Mr. William Henry\n",
       "57                                 Rugg, Miss. Emily\n",
       "334                  Vander Planke, Mr. Leo Edmondus\n",
       "40                       Nicola-Yarred, Miss. Jamila\n",
       "Name: Name, dtype: object"
      ]
     },
     "execution_count": 41,
     "metadata": {},
     "output_type": "execute_result"
    }
   ],
   "source": [
    "train.Name.sample(30)"
   ]
  },
  {
   "cell_type": "markdown",
   "id": "6a669d87",
   "metadata": {
    "id": "6a669d87"
   },
   "source": [
    "- Master  유럽귀족의 젊은 남자...\n",
    "# 호칭을 잘라내는 함수"
   ]
  },
  {
   "cell_type": "code",
   "execution_count": 42,
   "id": "2a7dca37",
   "metadata": {
    "executionInfo": {
     "elapsed": 199,
     "status": "ok",
     "timestamp": 1653701373926,
     "user": {
      "displayName": "안상영",
      "userId": "03805254755243582882"
     },
     "user_tz": -540
    },
    "id": "2a7dca37"
   },
   "outputs": [],
   "source": [
    "def find_title(name):\n",
    "    \n",
    "    return name.split(', ')[1].split('.')[0]\n"
   ]
  },
  {
   "cell_type": "code",
   "execution_count": 43,
   "id": "cad71412",
   "metadata": {
    "executionInfo": {
     "elapsed": 198,
     "status": "ok",
     "timestamp": 1653701373926,
     "user": {
      "displayName": "안상영",
      "userId": "03805254755243582882"
     },
     "user_tz": -540
    },
    "id": "cad71412"
   },
   "outputs": [],
   "source": [
    "test['Title'] = test.Name.apply(find_title)"
   ]
  },
  {
   "cell_type": "code",
   "execution_count": 44,
   "id": "5c920dc1",
   "metadata": {
    "executionInfo": {
     "elapsed": 198,
     "status": "ok",
     "timestamp": 1653701373926,
     "user": {
      "displayName": "안상영",
      "userId": "03805254755243582882"
     },
     "user_tz": -540
    },
    "id": "5c920dc1"
   },
   "outputs": [],
   "source": [
    "train['Title']= train.Name.apply(find_title)"
   ]
  },
  {
   "cell_type": "code",
   "execution_count": 45,
   "id": "477cd484",
   "metadata": {
    "colab": {
     "base_uri": "https://localhost:8080/",
     "height": 297
    },
    "executionInfo": {
     "elapsed": 199,
     "status": "ok",
     "timestamp": 1653701373927,
     "user": {
      "displayName": "안상영",
      "userId": "03805254755243582882"
     },
     "user_tz": -540
    },
    "id": "477cd484",
    "outputId": "a5498748-f9d3-4c26-db37-35202316f90d"
   },
   "outputs": [
    {
     "data": {
      "text/plain": [
       "<AxesSubplot:xlabel='Title', ylabel='count'>"
      ]
     },
     "execution_count": 45,
     "metadata": {},
     "output_type": "execute_result"
    },
    {
     "data": {
      "image/png": "[encoded data removed]",
      "text/plain": [
       "<Figure size 1224x576 with 1 Axes>"
      ]
     },
     "metadata": {
      "needs_background": "light"
     },
     "output_type": "display_data"
    }
   ],
   "source": [
    "sns.countplot(data=train, x='Title', hue=\"Survived\")"
   ]
  },
  {
   "cell_type": "markdown",
   "id": "4de5a0a6",
   "metadata": {
    "id": "4de5a0a6"
   },
   "source": [
    "> **Q. Master라는 컬럼을 만들어 주세요, 해당승객이 마스터면, 1로기록, 아니면 0으로 채워주세요"
   ]
  },
  {
   "cell_type": "code",
   "execution_count": 46,
   "id": "baa9bc8c",
   "metadata": {
    "executionInfo": {
     "elapsed": 193,
     "status": "ok",
     "timestamp": 1653701373927,
     "user": {
      "displayName": "안상영",
      "userId": "03805254755243582882"
     },
     "user_tz": -540
    },
    "id": "baa9bc8c"
   },
   "outputs": [],
   "source": [
    "test.loc[test.Title ==\"Master\", \"Master\"] = 1\n",
    "test.loc[test.Title !=\"Master\", \"Master\"] = 0"
   ]
  },
  {
   "cell_type": "code",
   "execution_count": 47,
   "id": "9a65c28a",
   "metadata": {
    "executionInfo": {
     "elapsed": 193,
     "status": "ok",
     "timestamp": 1653701373927,
     "user": {
      "displayName": "안상영",
      "userId": "03805254755243582882"
     },
     "user_tz": -540
    },
    "id": "9a65c28a"
   },
   "outputs": [],
   "source": [
    "train.loc[train.Title ==\"Master\", \"Master\"] = 1\n",
    "train.loc[train.Title !=\"Master\", \"Master\"] = 0"
   ]
  },
  {
   "cell_type": "markdown",
   "id": "dbc1b0fa",
   "metadata": {
    "id": "dbc1b0fa"
   },
   "source": [
    "# Embarked"
   ]
  },
  {
   "cell_type": "code",
   "execution_count": 48,
   "id": "24a3a3fc",
   "metadata": {
    "colab": {
     "base_uri": "https://localhost:8080/",
     "height": 297
    },
    "executionInfo": {
     "elapsed": 194,
     "status": "ok",
     "timestamp": 1653701373928,
     "user": {
      "displayName": "안상영",
      "userId": "03805254755243582882"
     },
     "user_tz": -540
    },
    "id": "24a3a3fc",
    "outputId": "3d999316-d8d7-4315-d967-8f050e4f97d4"
   },
   "outputs": [
    {
     "data": {
      "text/plain": [
       "<AxesSubplot:xlabel='Embarked', ylabel='count'>"
      ]
     },
     "execution_count": 48,
     "metadata": {},
     "output_type": "execute_result"
    },
    {
     "data": {
      "image/png": "[encoded data removed]",
      "text/plain": [
       "<Figure size 1224x576 with 1 Axes>"
      ]
     },
     "metadata": {
      "needs_background": "light"
     },
     "output_type": "display_data"
    }
   ],
   "source": [
    "sns.countplot(data=train, x=\"Embarked\", hue=\"Survived\")"
   ]
  },
  {
   "cell_type": "markdown",
   "id": "b95a2ce4",
   "metadata": {
    "id": "b95a2ce4"
   },
   "source": [
    "> ** Q. Embarkded 컬럼을 원핫인코딩해주세요 ,   E_S, E_C, E_Q라는 컬럼을 만들어주세요"
   ]
  },
  {
   "cell_type": "code",
   "execution_count": 49,
   "id": "455df83d",
   "metadata": {
    "executionInfo": {
     "elapsed": 190,
     "status": "ok",
     "timestamp": 1653701373928,
     "user": {
      "displayName": "안상영",
      "userId": "03805254755243582882"
     },
     "user_tz": -540
    },
    "id": "455df83d"
   },
   "outputs": [],
   "source": [
    "embarked = pd.get_dummies(test.Embarked, prefix=\"Embarked\")\n",
    "test = pd.concat([test, embarked], axis=1)"
   ]
  },
  {
   "cell_type": "code",
   "execution_count": 50,
   "id": "4a2b83cc",
   "metadata": {
    "colab": {
     "base_uri": "https://localhost:8080/",
     "height": 455
    },
    "executionInfo": {
     "elapsed": 191,
     "status": "ok",
     "timestamp": 1653701373929,
     "user": {
      "displayName": "안상영",
      "userId": "03805254755243582882"
     },
     "user_tz": -540
    },
    "id": "4a2b83cc",
    "outputId": "ca02a542-8b52-4cd9-c22d-63f8935a93f8"
   },
   "outputs": [
    {
     "data": {
      "text/html": [
       "<div>\n",
       "<style scoped>\n",
       "    .dataframe tbody tr th:only-of-type {\n",
       "        vertical-align: middle;\n",
       "    }\n",
       "\n",
       "    .dataframe tbody tr th {\n",
       "        vertical-align: top;\n",
       "    }\n",
       "\n",
       "    .dataframe thead th {\n",
       "        text-align: right;\n",
       "    }\n",
       "</style>\n",
       "<table border=\"1\" class=\"dataframe\">\n",
       "  <thead>\n",
       "    <tr style=\"text-align: right;\">\n",
       "      <th></th>\n",
       "      <th>Embarked_C</th>\n",
       "      <th>Embarked_Q</th>\n",
       "      <th>Embarked_S</th>\n",
       "    </tr>\n",
       "    <tr>\n",
       "      <th>PassengerId</th>\n",
       "      <th></th>\n",
       "      <th></th>\n",
       "      <th></th>\n",
       "    </tr>\n",
       "  </thead>\n",
       "  <tbody>\n",
       "    <tr>\n",
       "      <th>1</th>\n",
       "      <td>0</td>\n",
       "      <td>0</td>\n",
       "      <td>1</td>\n",
       "    </tr>\n",
       "    <tr>\n",
       "      <th>2</th>\n",
       "      <td>1</td>\n",
       "      <td>0</td>\n",
       "      <td>0</td>\n",
       "    </tr>\n",
       "    <tr>\n",
       "      <th>3</th>\n",
       "      <td>0</td>\n",
       "      <td>0</td>\n",
       "      <td>1</td>\n",
       "    </tr>\n",
       "    <tr>\n",
       "      <th>4</th>\n",
       "      <td>0</td>\n",
       "      <td>0</td>\n",
       "      <td>1</td>\n",
       "    </tr>\n",
       "    <tr>\n",
       "      <th>5</th>\n",
       "      <td>0</td>\n",
       "      <td>0</td>\n",
       "      <td>1</td>\n",
       "    </tr>\n",
       "    <tr>\n",
       "      <th>...</th>\n",
       "      <td>...</td>\n",
       "      <td>...</td>\n",
       "      <td>...</td>\n",
       "    </tr>\n",
       "    <tr>\n",
       "      <th>887</th>\n",
       "      <td>0</td>\n",
       "      <td>0</td>\n",
       "      <td>1</td>\n",
       "    </tr>\n",
       "    <tr>\n",
       "      <th>888</th>\n",
       "      <td>0</td>\n",
       "      <td>0</td>\n",
       "      <td>1</td>\n",
       "    </tr>\n",
       "    <tr>\n",
       "      <th>889</th>\n",
       "      <td>0</td>\n",
       "      <td>0</td>\n",
       "      <td>1</td>\n",
       "    </tr>\n",
       "    <tr>\n",
       "      <th>890</th>\n",
       "      <td>1</td>\n",
       "      <td>0</td>\n",
       "      <td>0</td>\n",
       "    </tr>\n",
       "    <tr>\n",
       "      <th>891</th>\n",
       "      <td>0</td>\n",
       "      <td>1</td>\n",
       "      <td>0</td>\n",
       "    </tr>\n",
       "  </tbody>\n",
       "</table>\n",
       "<p>891 rows × 3 columns</p>\n",
       "</div>"
      ],
      "text/plain": [
       "             Embarked_C  Embarked_Q  Embarked_S\n",
       "PassengerId                                    \n",
       "1                     0           0           1\n",
       "2                     1           0           0\n",
       "3                     0           0           1\n",
       "4                     0           0           1\n",
       "5                     0           0           1\n",
       "...                 ...         ...         ...\n",
       "887                   0           0           1\n",
       "888                   0           0           1\n",
       "889                   0           0           1\n",
       "890                   1           0           0\n",
       "891                   0           1           0\n",
       "\n",
       "[891 rows x 3 columns]"
      ]
     },
     "execution_count": 50,
     "metadata": {},
     "output_type": "execute_result"
    }
   ],
   "source": [
    "embarked = pd.get_dummies(train.Embarked, prefix=\"Embarked\")\n",
    "train = pd.concat([train, embarked], axis=1)\n",
    "train.head()\n",
    "embarked"
   ]
  },
  {
   "cell_type": "code",
   "execution_count": null,
   "id": "b1c9324f",
   "metadata": {
    "executionInfo": {
     "elapsed": 190,
     "status": "ok",
     "timestamp": 1653701373929,
     "user": {
      "displayName": "안상영",
      "userId": "03805254755243582882"
     },
     "user_tz": -540
    },
    "id": "b1c9324f"
   },
   "outputs": [],
   "source": []
  },
  {
   "cell_type": "code",
   "execution_count": 51,
   "id": "bdc8d065",
   "metadata": {
    "executionInfo": {
     "elapsed": 190,
     "status": "ok",
     "timestamp": 1653701373929,
     "user": {
      "displayName": "안상영",
      "userId": "03805254755243582882"
     },
     "user_tz": -540
    },
    "id": "bdc8d065"
   },
   "outputs": [],
   "source": [
    "test.loc[test.Sex=='male', 'Sex_encode'] = 0\n",
    "test.loc[test.Sex=='female', 'Sex_encode'] = 1\n"
   ]
  },
  {
   "cell_type": "code",
   "execution_count": 52,
   "id": "9a3ca1d3",
   "metadata": {
    "executionInfo": {
     "elapsed": 190,
     "status": "ok",
     "timestamp": 1653701373930,
     "user": {
      "displayName": "안상영",
      "userId": "03805254755243582882"
     },
     "user_tz": -540
    },
    "id": "9a3ca1d3"
   },
   "outputs": [],
   "source": [
    "train.loc[train.Sex=='male', 'Sex_encode']=0\n",
    "train.loc[train.Sex=='female', 'Sex_encode']=1"
   ]
  },
  {
   "cell_type": "code",
   "execution_count": 53,
   "id": "367cc2f7",
   "metadata": {
    "colab": {
     "base_uri": "https://localhost:8080/",
     "height": 579
    },
    "executionInfo": {
     "elapsed": 760,
     "status": "ok",
     "timestamp": 1653701374500,
     "user": {
      "displayName": "안상영",
      "userId": "03805254755243582882"
     },
     "user_tz": -540
    },
    "id": "367cc2f7",
    "outputId": "fa28035a-387d-4e2b-8d32-dd24ef4a1b5d"
   },
   "outputs": [
    {
     "data": {
      "text/html": [
       "<div>\n",
       "<style scoped>\n",
       "    .dataframe tbody tr th:only-of-type {\n",
       "        vertical-align: middle;\n",
       "    }\n",
       "\n",
       "    .dataframe tbody tr th {\n",
       "        vertical-align: top;\n",
       "    }\n",
       "\n",
       "    .dataframe thead th {\n",
       "        text-align: right;\n",
       "    }\n",
       "</style>\n",
       "<table border=\"1\" class=\"dataframe\">\n",
       "  <thead>\n",
       "    <tr style=\"text-align: right;\">\n",
       "      <th></th>\n",
       "      <th>Survived</th>\n",
       "      <th>Pclass</th>\n",
       "      <th>Name</th>\n",
       "      <th>Sex</th>\n",
       "      <th>Age</th>\n",
       "      <th>SibSp</th>\n",
       "      <th>Parch</th>\n",
       "      <th>Ticket</th>\n",
       "      <th>Fare</th>\n",
       "      <th>Cabin</th>\n",
       "      <th>Embarked</th>\n",
       "      <th>Fsize</th>\n",
       "      <th>Alone</th>\n",
       "      <th>Cabin_encode</th>\n",
       "      <th>Title</th>\n",
       "      <th>Master</th>\n",
       "      <th>Embarked_C</th>\n",
       "      <th>Embarked_Q</th>\n",
       "      <th>Embarked_S</th>\n",
       "      <th>Sex_encode</th>\n",
       "    </tr>\n",
       "    <tr>\n",
       "      <th>PassengerId</th>\n",
       "      <th></th>\n",
       "      <th></th>\n",
       "      <th></th>\n",
       "      <th></th>\n",
       "      <th></th>\n",
       "      <th></th>\n",
       "      <th></th>\n",
       "      <th></th>\n",
       "      <th></th>\n",
       "      <th></th>\n",
       "      <th></th>\n",
       "      <th></th>\n",
       "      <th></th>\n",
       "      <th></th>\n",
       "      <th></th>\n",
       "      <th></th>\n",
       "      <th></th>\n",
       "      <th></th>\n",
       "      <th></th>\n",
       "      <th></th>\n",
       "    </tr>\n",
       "  </thead>\n",
       "  <tbody>\n",
       "    <tr>\n",
       "      <th>1</th>\n",
       "      <td>0</td>\n",
       "      <td>3</td>\n",
       "      <td>Braund, Mr. Owen Harris</td>\n",
       "      <td>male</td>\n",
       "      <td>22.0</td>\n",
       "      <td>1</td>\n",
       "      <td>0</td>\n",
       "      <td>A/5 21171</td>\n",
       "      <td>7.2500</td>\n",
       "      <td>NaN</td>\n",
       "      <td>S</td>\n",
       "      <td>1</td>\n",
       "      <td>0.0</td>\n",
       "      <td>0.0</td>\n",
       "      <td>Mr</td>\n",
       "      <td>0.0</td>\n",
       "      <td>0</td>\n",
       "      <td>0</td>\n",
       "      <td>1</td>\n",
       "      <td>0.0</td>\n",
       "    </tr>\n",
       "    <tr>\n",
       "      <th>2</th>\n",
       "      <td>1</td>\n",
       "      <td>1</td>\n",
       "      <td>Cumings, Mrs. John Bradley (Florence Briggs Th...</td>\n",
       "      <td>female</td>\n",
       "      <td>38.0</td>\n",
       "      <td>1</td>\n",
       "      <td>0</td>\n",
       "      <td>PC 17599</td>\n",
       "      <td>71.2833</td>\n",
       "      <td>C85</td>\n",
       "      <td>C</td>\n",
       "      <td>1</td>\n",
       "      <td>0.0</td>\n",
       "      <td>1.0</td>\n",
       "      <td>Mrs</td>\n",
       "      <td>0.0</td>\n",
       "      <td>1</td>\n",
       "      <td>0</td>\n",
       "      <td>0</td>\n",
       "      <td>1.0</td>\n",
       "    </tr>\n",
       "    <tr>\n",
       "      <th>3</th>\n",
       "      <td>1</td>\n",
       "      <td>3</td>\n",
       "      <td>Heikkinen, Miss. Laina</td>\n",
       "      <td>female</td>\n",
       "      <td>26.0</td>\n",
       "      <td>0</td>\n",
       "      <td>0</td>\n",
       "      <td>STON/O2. 3101282</td>\n",
       "      <td>7.9250</td>\n",
       "      <td>NaN</td>\n",
       "      <td>S</td>\n",
       "      <td>0</td>\n",
       "      <td>1.0</td>\n",
       "      <td>0.0</td>\n",
       "      <td>Miss</td>\n",
       "      <td>0.0</td>\n",
       "      <td>0</td>\n",
       "      <td>0</td>\n",
       "      <td>1</td>\n",
       "      <td>1.0</td>\n",
       "    </tr>\n",
       "    <tr>\n",
       "      <th>4</th>\n",
       "      <td>1</td>\n",
       "      <td>1</td>\n",
       "      <td>Futrelle, Mrs. Jacques Heath (Lily May Peel)</td>\n",
       "      <td>female</td>\n",
       "      <td>35.0</td>\n",
       "      <td>1</td>\n",
       "      <td>0</td>\n",
       "      <td>113803</td>\n",
       "      <td>53.1000</td>\n",
       "      <td>C123</td>\n",
       "      <td>S</td>\n",
       "      <td>1</td>\n",
       "      <td>0.0</td>\n",
       "      <td>1.0</td>\n",
       "      <td>Mrs</td>\n",
       "      <td>0.0</td>\n",
       "      <td>0</td>\n",
       "      <td>0</td>\n",
       "      <td>1</td>\n",
       "      <td>1.0</td>\n",
       "    </tr>\n",
       "    <tr>\n",
       "      <th>5</th>\n",
       "      <td>0</td>\n",
       "      <td>3</td>\n",
       "      <td>Allen, Mr. William Henry</td>\n",
       "      <td>male</td>\n",
       "      <td>35.0</td>\n",
       "      <td>0</td>\n",
       "      <td>0</td>\n",
       "      <td>373450</td>\n",
       "      <td>8.0500</td>\n",
       "      <td>NaN</td>\n",
       "      <td>S</td>\n",
       "      <td>0</td>\n",
       "      <td>1.0</td>\n",
       "      <td>0.0</td>\n",
       "      <td>Mr</td>\n",
       "      <td>0.0</td>\n",
       "      <td>0</td>\n",
       "      <td>0</td>\n",
       "      <td>1</td>\n",
       "      <td>0.0</td>\n",
       "    </tr>\n",
       "  </tbody>\n",
       "</table>\n",
       "</div>"
      ],
      "text/plain": [
       "             Survived  Pclass  \\\n",
       "PassengerId                     \n",
       "1                   0       3   \n",
       "2                   1       1   \n",
       "3                   1       3   \n",
       "4                   1       1   \n",
       "5                   0       3   \n",
       "\n",
       "                                                          Name     Sex   Age  \\\n",
       "PassengerId                                                                    \n",
       "1                                      Braund, Mr. Owen Harris    male  22.0   \n",
       "2            Cumings, Mrs. John Bradley (Florence Briggs Th...  female  38.0   \n",
       "3                                       Heikkinen, Miss. Laina  female  26.0   \n",
       "4                 Futrelle, Mrs. Jacques Heath (Lily May Peel)  female  35.0   \n",
       "5                                     Allen, Mr. William Henry    male  35.0   \n",
       "\n",
       "             SibSp  Parch            Ticket     Fare Cabin Embarked  Fsize  \\\n",
       "PassengerId                                                                  \n",
       "1                1      0         A/5 21171   7.2500   NaN        S      1   \n",
       "2                1      0          PC 17599  71.2833   C85        C      1   \n",
       "3                0      0  STON/O2. 3101282   7.9250   NaN        S      0   \n",
       "4                1      0            113803  53.1000  C123        S      1   \n",
       "5                0      0            373450   8.0500   NaN        S      0   \n",
       "\n",
       "             Alone  Cabin_encode Title  Master  Embarked_C  Embarked_Q  \\\n",
       "PassengerId                                                              \n",
       "1              0.0           0.0    Mr     0.0           0           0   \n",
       "2              0.0           1.0   Mrs     0.0           1           0   \n",
       "3              1.0           0.0  Miss     0.0           0           0   \n",
       "4              0.0           1.0   Mrs     0.0           0           0   \n",
       "5              1.0           0.0    Mr     0.0           0           0   \n",
       "\n",
       "             Embarked_S  Sex_encode  \n",
       "PassengerId                          \n",
       "1                     1         0.0  \n",
       "2                     0         1.0  \n",
       "3                     1         1.0  \n",
       "4                     1         1.0  \n",
       "5                     1         0.0  "
      ]
     },
     "execution_count": 53,
     "metadata": {},
     "output_type": "execute_result"
    }
   ],
   "source": [
    "train.head()"
   ]
  },
  {
   "cell_type": "markdown",
   "id": "f7e3473f",
   "metadata": {
    "id": "f7e3473f"
   },
   "source": [
    "# Age"
   ]
  },
  {
   "cell_type": "code",
   "execution_count": 54,
   "id": "0ba28b5e",
   "metadata": {
    "colab": {
     "base_uri": "https://localhost:8080/"
    },
    "executionInfo": {
     "elapsed": 221,
     "status": "ok",
     "timestamp": 1653701374501,
     "user": {
      "displayName": "안상영",
      "userId": "03805254755243582882"
     },
     "user_tz": -540
    },
    "id": "0ba28b5e",
    "outputId": "037b5ae7-a10b-40a9-e9a1-d435d762e77a"
   },
   "outputs": [
    {
     "data": {
      "text/plain": [
       "0.19865319865319866"
      ]
     },
     "execution_count": 54,
     "metadata": {},
     "output_type": "execute_result"
    }
   ],
   "source": [
    "train.Age.isnull().sum() / train.shape[0]"
   ]
  },
  {
   "cell_type": "code",
   "execution_count": 55,
   "id": "b06dbdca",
   "metadata": {
    "colab": {
     "base_uri": "https://localhost:8080/"
    },
    "executionInfo": {
     "elapsed": 218,
     "status": "ok",
     "timestamp": 1653701374502,
     "user": {
      "displayName": "안상영",
      "userId": "03805254755243582882"
     },
     "user_tz": -540
    },
    "id": "b06dbdca",
    "outputId": "2eb1edee-4851-40c7-d331-87386508946f"
   },
   "outputs": [
    {
     "data": {
      "text/plain": [
       "29.69911764705882"
      ]
     },
     "execution_count": 55,
     "metadata": {},
     "output_type": "execute_result"
    }
   ],
   "source": [
    "train.Age.mean()"
   ]
  },
  {
   "cell_type": "code",
   "execution_count": 56,
   "id": "e2e1eb53",
   "metadata": {
    "colab": {
     "base_uri": "https://localhost:8080/"
    },
    "executionInfo": {
     "elapsed": 212,
     "status": "ok",
     "timestamp": 1653701374502,
     "user": {
      "displayName": "안상영",
      "userId": "03805254755243582882"
     },
     "user_tz": -540
    },
    "id": "e2e1eb53",
    "outputId": "aaf3ea3d-9ebf-4d0e-cfd7-77d896e761a1"
   },
   "outputs": [
    {
     "data": {
      "text/plain": [
       "38.233440860215055"
      ]
     },
     "execution_count": 56,
     "metadata": {},
     "output_type": "execute_result"
    }
   ],
   "source": [
    "train[train.Pclass==1].Age.mean()"
   ]
  },
  {
   "cell_type": "code",
   "execution_count": 57,
   "id": "ea7700a1",
   "metadata": {
    "colab": {
     "base_uri": "https://localhost:8080/"
    },
    "executionInfo": {
     "elapsed": 208,
     "status": "ok",
     "timestamp": 1653701374503,
     "user": {
      "displayName": "안상영",
      "userId": "03805254755243582882"
     },
     "user_tz": -540
    },
    "id": "ea7700a1",
    "outputId": "5a6ccd21-4bad-4721-e555-8d3f7bd4989f"
   },
   "outputs": [
    {
     "data": {
      "text/plain": [
       "29.87763005780347"
      ]
     },
     "execution_count": 57,
     "metadata": {},
     "output_type": "execute_result"
    }
   ],
   "source": [
    "train[train.Pclass==2].Age.mean()"
   ]
  },
  {
   "cell_type": "code",
   "execution_count": 58,
   "id": "5f588201",
   "metadata": {
    "colab": {
     "base_uri": "https://localhost:8080/"
    },
    "executionInfo": {
     "elapsed": 203,
     "status": "ok",
     "timestamp": 1653701374503,
     "user": {
      "displayName": "안상영",
      "userId": "03805254755243582882"
     },
     "user_tz": -540
    },
    "id": "5f588201",
    "outputId": "74ee9d42-1f4e-4951-af7f-d1a8782d800e"
   },
   "outputs": [
    {
     "data": {
      "text/plain": [
       "25.14061971830986"
      ]
     },
     "execution_count": 58,
     "metadata": {},
     "output_type": "execute_result"
    }
   ],
   "source": [
    "train[train.Pclass==3].Age.mean()"
   ]
  },
  {
   "cell_type": "markdown",
   "id": "3c0db6f9",
   "metadata": {
    "id": "3c0db6f9"
   },
   "source": [
    "> ** Q. Pclass와 성별을 둘다 고려해서 평균나이를 찾아주세요, 예를 1등석 남자의 평균, 2등석 여자의 평균은 다를까?"
   ]
  },
  {
   "cell_type": "code",
   "execution_count": 59,
   "id": "91c9b652",
   "metadata": {
    "colab": {
     "base_uri": "https://localhost:8080/"
    },
    "executionInfo": {
     "elapsed": 199,
     "status": "ok",
     "timestamp": 1653701374504,
     "user": {
      "displayName": "안상영",
      "userId": "03805254755243582882"
     },
     "user_tz": -540
    },
    "id": "91c9b652",
    "outputId": "b7e716e7-d58a-4fd6-a354-eb1d0f3e3ad0"
   },
   "outputs": [
    {
     "data": {
      "text/plain": [
       "34.61176470588235"
      ]
     },
     "execution_count": 59,
     "metadata": {},
     "output_type": "execute_result"
    }
   ],
   "source": [
    "train[(train.Sex=='female')&(train.Pclass==1)].Age.mean()"
   ]
  },
  {
   "cell_type": "code",
   "execution_count": 60,
   "id": "fe5db32f",
   "metadata": {
    "colab": {
     "base_uri": "https://localhost:8080/"
    },
    "executionInfo": {
     "elapsed": 195,
     "status": "ok",
     "timestamp": 1653701374504,
     "user": {
      "displayName": "안상영",
      "userId": "03805254755243582882"
     },
     "user_tz": -540
    },
    "id": "fe5db32f",
    "outputId": "7ab63876-0638-41ce-94b1-1d661b45ccde"
   },
   "outputs": [
    {
     "data": {
      "text/plain": [
       "28.722972972972972"
      ]
     },
     "execution_count": 60,
     "metadata": {},
     "output_type": "execute_result"
    }
   ],
   "source": [
    "train[(train.Sex=='female')&(train.Pclass==2)].Age.mean()"
   ]
  },
  {
   "cell_type": "code",
   "execution_count": 61,
   "id": "4fd1a4a1",
   "metadata": {
    "colab": {
     "base_uri": "https://localhost:8080/"
    },
    "executionInfo": {
     "elapsed": 192,
     "status": "ok",
     "timestamp": 1653701374505,
     "user": {
      "displayName": "안상영",
      "userId": "03805254755243582882"
     },
     "user_tz": -540
    },
    "id": "4fd1a4a1",
    "outputId": "567664e6-6e3d-411d-844d-6c967e8f9bb5"
   },
   "outputs": [
    {
     "data": {
      "text/plain": [
       "21.75"
      ]
     },
     "execution_count": 61,
     "metadata": {},
     "output_type": "execute_result"
    }
   ],
   "source": [
    "train[(train.Sex=='female')&(train.Pclass==3)].Age.mean()"
   ]
  },
  {
   "cell_type": "code",
   "execution_count": 62,
   "id": "64a2a847",
   "metadata": {
    "colab": {
     "base_uri": "https://localhost:8080/"
    },
    "executionInfo": {
     "elapsed": 189,
     "status": "ok",
     "timestamp": 1653701374505,
     "user": {
      "displayName": "안상영",
      "userId": "03805254755243582882"
     },
     "user_tz": -540
    },
    "id": "64a2a847",
    "outputId": "33abc2c7-f423-407a-e387-9833fc080005"
   },
   "outputs": [
    {
     "data": {
      "text/plain": [
       "41.28138613861386"
      ]
     },
     "execution_count": 62,
     "metadata": {},
     "output_type": "execute_result"
    }
   ],
   "source": [
    "train[(train.Sex=='male')&(train.Pclass==1)].Age.mean()"
   ]
  },
  {
   "cell_type": "code",
   "execution_count": 63,
   "id": "82d3cfe8",
   "metadata": {
    "colab": {
     "base_uri": "https://localhost:8080/"
    },
    "executionInfo": {
     "elapsed": 185,
     "status": "ok",
     "timestamp": 1653701374505,
     "user": {
      "displayName": "안상영",
      "userId": "03805254755243582882"
     },
     "user_tz": -540
    },
    "id": "82d3cfe8",
    "outputId": "a1fb051a-8c34-4239-e3fc-2257c3bd9364"
   },
   "outputs": [
    {
     "data": {
      "text/plain": [
       "30.74070707070707"
      ]
     },
     "execution_count": 63,
     "metadata": {},
     "output_type": "execute_result"
    }
   ],
   "source": [
    "train[(train.Sex=='male')&(train.Pclass==2)].Age.mean()"
   ]
  },
  {
   "cell_type": "code",
   "execution_count": 64,
   "id": "8af3948e",
   "metadata": {
    "colab": {
     "base_uri": "https://localhost:8080/"
    },
    "executionInfo": {
     "elapsed": 183,
     "status": "ok",
     "timestamp": 1653701374506,
     "user": {
      "displayName": "안상영",
      "userId": "03805254755243582882"
     },
     "user_tz": -540
    },
    "id": "8af3948e",
    "outputId": "36bd1296-54c5-4b2b-ee65-8f961f59243f"
   },
   "outputs": [
    {
     "data": {
      "text/plain": [
       "26.507588932806325"
      ]
     },
     "execution_count": 64,
     "metadata": {},
     "output_type": "execute_result"
    }
   ],
   "source": [
    "train[(train.Sex=='male')&(train.Pclass==3)].Age.mean()"
   ]
  },
  {
   "cell_type": "code",
   "execution_count": null,
   "id": "2cc4dcca",
   "metadata": {
    "executionInfo": {
     "elapsed": 179,
     "status": "ok",
     "timestamp": 1653701374506,
     "user": {
      "displayName": "안상영",
      "userId": "03805254755243582882"
     },
     "user_tz": -540
    },
    "id": "2cc4dcca"
   },
   "outputs": [],
   "source": []
  },
  {
   "cell_type": "code",
   "execution_count": 65,
   "id": "706b1880",
   "metadata": {
    "executionInfo": {
     "elapsed": 179,
     "status": "ok",
     "timestamp": 1653701374506,
     "user": {
      "displayName": "안상영",
      "userId": "03805254755243582882"
     },
     "user_tz": -540
    },
    "id": "706b1880"
   },
   "outputs": [],
   "source": [
    "m1=train[(train.Sex=='male')&(train.Pclass==1)].Age.mean()\n",
    "f1=train[(train.Sex=='female')&(train.Pclass==1)].Age.mean()\n",
    "m2=train[(train.Sex=='male')&(train.Pclass==2)].Age.mean()\n",
    "f2=train[(train.Sex=='female')&(train.Pclass==2)].Age.mean()\n",
    "m3=train[(train.Sex=='male')&(train.Pclass==3)].Age.mean()\n",
    "f3=train[(train.Sex=='female')&(train.Pclass==3)].Age.mean()"
   ]
  },
  {
   "cell_type": "code",
   "execution_count": 66,
   "id": "dbf67335",
   "metadata": {
    "executionInfo": {
     "elapsed": 179,
     "status": "ok",
     "timestamp": 1653701374507,
     "user": {
      "displayName": "안상영",
      "userId": "03805254755243582882"
     },
     "user_tz": -540
    },
    "id": "dbf67335"
   },
   "outputs": [],
   "source": [
    "test.loc[(test.Age.isnull())\n",
    "          &(test.Sex=='male')\n",
    "          &(test.Pclass==1), 'Age'] = m1\n",
    "test.loc[(test.Age.isnull())\n",
    "          &(test.Sex=='female')\n",
    "          &(test.Pclass==1), 'Age'] = f1\n",
    "test.loc[(test.Age.isnull())\n",
    "          &(test.Sex=='male')\n",
    "          &(test.Pclass==2), 'Age'] = m2\n",
    "test.loc[(test.Age.isnull())\n",
    "          &(test.Sex=='female')\n",
    "          &(test.Pclass==2), 'Age'] = f2\n",
    "test.loc[(test.Age.isnull())\n",
    "          &(test.Sex=='male')\n",
    "          &(test.Pclass==3), 'Age'] = m3\n",
    "test.loc[(test.Age.isnull())\n",
    "          &(test.Sex=='female')\n",
    "          &(test.Pclass==3), 'Age'] = f3"
   ]
  },
  {
   "cell_type": "code",
   "execution_count": 67,
   "id": "d595efbd",
   "metadata": {
    "executionInfo": {
     "elapsed": 179,
     "status": "ok",
     "timestamp": 1653701374507,
     "user": {
      "displayName": "안상영",
      "userId": "03805254755243582882"
     },
     "user_tz": -540
    },
    "id": "d595efbd"
   },
   "outputs": [],
   "source": [
    "train.loc[(train.Age.isnull())\n",
    "          &(train.Sex=='male')\n",
    "          &(train.Pclass==1),'Age'] = m1\n",
    "train.loc[(train.Age.isnull())\n",
    "          &(train.Sex=='female')\n",
    "          &(train.Pclass==1),'Age'] = f1\n",
    "train.loc[(train.Age.isnull())\n",
    "          &(train.Sex=='male')\n",
    "          &(train.Pclass==2),'Age'] = m2\n",
    "train.loc[(train.Age.isnull())\n",
    "          &(train.Sex=='female')\n",
    "          &(train.Pclass==2),'Age'] = f2\n",
    "train.loc[(train.Age.isnull())\n",
    "          &(train.Sex=='male')\n",
    "          &(train.Pclass==3),'Age'] = m3\n",
    "train.loc[(train.Age.isnull())\n",
    "          &(train.Sex=='female')\n",
    "          &(train.Pclass==3),'Age'] = f3"
   ]
  },
  {
   "cell_type": "code",
   "execution_count": 68,
   "id": "01b76c73",
   "metadata": {
    "colab": {
     "base_uri": "https://localhost:8080/"
    },
    "executionInfo": {
     "elapsed": 179,
     "status": "ok",
     "timestamp": 1653701374507,
     "user": {
      "displayName": "안상영",
      "userId": "03805254755243582882"
     },
     "user_tz": -540
    },
    "id": "01b76c73",
    "outputId": "1a7a118c-6185-4e80-9be9-a54ec8b74c03"
   },
   "outputs": [
    {
     "data": {
      "text/plain": [
       "0"
      ]
     },
     "execution_count": 68,
     "metadata": {},
     "output_type": "execute_result"
    }
   ],
   "source": [
    "train.Age.isnull().sum()"
   ]
  },
  {
   "cell_type": "markdown",
   "id": "0e07a853",
   "metadata": {
    "id": "0e07a853"
   },
   "source": [
    "### 상관관계 분석"
   ]
  },
  {
   "cell_type": "code",
   "execution_count": 69,
   "id": "78825c35",
   "metadata": {
    "colab": {
     "base_uri": "https://localhost:8080/",
     "height": 0
    },
    "executionInfo": {
     "elapsed": 182,
     "status": "ok",
     "timestamp": 1653701374514,
     "user": {
      "displayName": "안상영",
      "userId": "03805254755243582882"
     },
     "user_tz": -540
    },
    "id": "78825c35",
    "outputId": "1029fa1d-821d-4d5d-e100-a15833a9ebcb"
   },
   "outputs": [
    {
     "data": {
      "text/html": [
       "<div>\n",
       "<style scoped>\n",
       "    .dataframe tbody tr th:only-of-type {\n",
       "        vertical-align: middle;\n",
       "    }\n",
       "\n",
       "    .dataframe tbody tr th {\n",
       "        vertical-align: top;\n",
       "    }\n",
       "\n",
       "    .dataframe thead th {\n",
       "        text-align: right;\n",
       "    }\n",
       "</style>\n",
       "<table border=\"1\" class=\"dataframe\">\n",
       "  <thead>\n",
       "    <tr style=\"text-align: right;\">\n",
       "      <th></th>\n",
       "      <th>Survived</th>\n",
       "      <th>Pclass</th>\n",
       "      <th>Age</th>\n",
       "      <th>SibSp</th>\n",
       "      <th>Parch</th>\n",
       "      <th>Fare</th>\n",
       "      <th>Fsize</th>\n",
       "      <th>Alone</th>\n",
       "      <th>Cabin_encode</th>\n",
       "      <th>Master</th>\n",
       "      <th>Embarked_C</th>\n",
       "      <th>Embarked_Q</th>\n",
       "      <th>Embarked_S</th>\n",
       "      <th>Sex_encode</th>\n",
       "    </tr>\n",
       "  </thead>\n",
       "  <tbody>\n",
       "    <tr>\n",
       "      <th>Survived</th>\n",
       "      <td>1.000000</td>\n",
       "      <td>-0.338481</td>\n",
       "      <td>-0.067485</td>\n",
       "      <td>-0.035322</td>\n",
       "      <td>0.081629</td>\n",
       "      <td>0.270353</td>\n",
       "      <td>0.016639</td>\n",
       "      <td>-0.203367</td>\n",
       "      <td>0.316912</td>\n",
       "      <td>0.085221</td>\n",
       "      <td>0.168240</td>\n",
       "      <td>0.003650</td>\n",
       "      <td>-0.155660</td>\n",
       "      <td>0.543351</td>\n",
       "    </tr>\n",
       "    <tr>\n",
       "      <th>Pclass</th>\n",
       "      <td>-0.338481</td>\n",
       "      <td>1.000000</td>\n",
       "      <td>-0.407015</td>\n",
       "      <td>0.083081</td>\n",
       "      <td>0.018443</td>\n",
       "      <td>-0.608669</td>\n",
       "      <td>0.065997</td>\n",
       "      <td>0.135207</td>\n",
       "      <td>-0.725541</td>\n",
       "      <td>0.082081</td>\n",
       "      <td>-0.243292</td>\n",
       "      <td>0.221009</td>\n",
       "      <td>0.081720</td>\n",
       "      <td>-0.131900</td>\n",
       "    </tr>\n",
       "    <tr>\n",
       "      <th>Age</th>\n",
       "      <td>-0.067485</td>\n",
       "      <td>-0.407015</td>\n",
       "      <td>1.000000</td>\n",
       "      <td>-0.251313</td>\n",
       "      <td>-0.180705</td>\n",
       "      <td>0.127862</td>\n",
       "      <td>-0.262041</td>\n",
       "      <td>0.183628</td>\n",
       "      <td>0.271987</td>\n",
       "      <td>-0.368335</td>\n",
       "      <td>0.041504</td>\n",
       "      <td>-0.084069</td>\n",
       "      <td>0.008690</td>\n",
       "      <td>-0.112851</td>\n",
       "    </tr>\n",
       "    <tr>\n",
       "      <th>SibSp</th>\n",
       "      <td>-0.035322</td>\n",
       "      <td>0.083081</td>\n",
       "      <td>-0.251313</td>\n",
       "      <td>1.000000</td>\n",
       "      <td>0.414838</td>\n",
       "      <td>0.202377</td>\n",
       "      <td>0.890712</td>\n",
       "      <td>-0.584471</td>\n",
       "      <td>-0.040460</td>\n",
       "      <td>0.349559</td>\n",
       "      <td>-0.059528</td>\n",
       "      <td>-0.026354</td>\n",
       "      <td>0.070941</td>\n",
       "      <td>0.114631</td>\n",
       "    </tr>\n",
       "    <tr>\n",
       "      <th>Parch</th>\n",
       "      <td>0.081629</td>\n",
       "      <td>0.018443</td>\n",
       "      <td>-0.180705</td>\n",
       "      <td>0.414838</td>\n",
       "      <td>1.000000</td>\n",
       "      <td>0.258082</td>\n",
       "      <td>0.783111</td>\n",
       "      <td>-0.583398</td>\n",
       "      <td>0.036987</td>\n",
       "      <td>0.267344</td>\n",
       "      <td>-0.011069</td>\n",
       "      <td>-0.081228</td>\n",
       "      <td>0.063036</td>\n",
       "      <td>0.245489</td>\n",
       "    </tr>\n",
       "    <tr>\n",
       "      <th>Fare</th>\n",
       "      <td>0.270353</td>\n",
       "      <td>-0.608669</td>\n",
       "      <td>0.127862</td>\n",
       "      <td>0.202377</td>\n",
       "      <td>0.258082</td>\n",
       "      <td>1.000000</td>\n",
       "      <td>0.267251</td>\n",
       "      <td>-0.325976</td>\n",
       "      <td>0.543109</td>\n",
       "      <td>0.018893</td>\n",
       "      <td>0.262436</td>\n",
       "      <td>-0.130566</td>\n",
       "      <td>-0.153230</td>\n",
       "      <td>0.217338</td>\n",
       "    </tr>\n",
       "    <tr>\n",
       "      <th>Fsize</th>\n",
       "      <td>0.016639</td>\n",
       "      <td>0.065997</td>\n",
       "      <td>-0.262041</td>\n",
       "      <td>0.890712</td>\n",
       "      <td>0.783111</td>\n",
       "      <td>0.267251</td>\n",
       "      <td>1.000000</td>\n",
       "      <td>-0.690922</td>\n",
       "      <td>-0.009175</td>\n",
       "      <td>0.372472</td>\n",
       "      <td>-0.046215</td>\n",
       "      <td>-0.058592</td>\n",
       "      <td>0.079977</td>\n",
       "      <td>0.200988</td>\n",
       "    </tr>\n",
       "    <tr>\n",
       "      <th>Alone</th>\n",
       "      <td>-0.203367</td>\n",
       "      <td>0.135207</td>\n",
       "      <td>0.183628</td>\n",
       "      <td>-0.584471</td>\n",
       "      <td>-0.583398</td>\n",
       "      <td>-0.325976</td>\n",
       "      <td>-0.690922</td>\n",
       "      <td>1.000000</td>\n",
       "      <td>-0.158029</td>\n",
       "      <td>-0.267024</td>\n",
       "      <td>-0.095298</td>\n",
       "      <td>0.086464</td>\n",
       "      <td>0.024929</td>\n",
       "      <td>-0.303646</td>\n",
       "    </tr>\n",
       "    <tr>\n",
       "      <th>Cabin_encode</th>\n",
       "      <td>0.316912</td>\n",
       "      <td>-0.725541</td>\n",
       "      <td>0.271987</td>\n",
       "      <td>-0.040460</td>\n",
       "      <td>0.036987</td>\n",
       "      <td>0.543109</td>\n",
       "      <td>-0.009175</td>\n",
       "      <td>-0.158029</td>\n",
       "      <td>1.000000</td>\n",
       "      <td>-0.027841</td>\n",
       "      <td>0.208528</td>\n",
       "      <td>-0.129572</td>\n",
       "      <td>-0.110087</td>\n",
       "      <td>0.140391</td>\n",
       "    </tr>\n",
       "    <tr>\n",
       "      <th>Master</th>\n",
       "      <td>0.085221</td>\n",
       "      <td>0.082081</td>\n",
       "      <td>-0.368335</td>\n",
       "      <td>0.349559</td>\n",
       "      <td>0.267344</td>\n",
       "      <td>0.018893</td>\n",
       "      <td>0.372472</td>\n",
       "      <td>-0.267024</td>\n",
       "      <td>-0.027841</td>\n",
       "      <td>1.000000</td>\n",
       "      <td>-0.035225</td>\n",
       "      <td>0.010478</td>\n",
       "      <td>0.025291</td>\n",
       "      <td>-0.159934</td>\n",
       "    </tr>\n",
       "    <tr>\n",
       "      <th>Embarked_C</th>\n",
       "      <td>0.168240</td>\n",
       "      <td>-0.243292</td>\n",
       "      <td>0.041504</td>\n",
       "      <td>-0.059528</td>\n",
       "      <td>-0.011069</td>\n",
       "      <td>0.262436</td>\n",
       "      <td>-0.046215</td>\n",
       "      <td>-0.095298</td>\n",
       "      <td>0.208528</td>\n",
       "      <td>-0.035225</td>\n",
       "      <td>1.000000</td>\n",
       "      <td>-0.148258</td>\n",
       "      <td>-0.778359</td>\n",
       "      <td>0.082853</td>\n",
       "    </tr>\n",
       "    <tr>\n",
       "      <th>Embarked_Q</th>\n",
       "      <td>0.003650</td>\n",
       "      <td>0.221009</td>\n",
       "      <td>-0.084069</td>\n",
       "      <td>-0.026354</td>\n",
       "      <td>-0.081228</td>\n",
       "      <td>-0.130566</td>\n",
       "      <td>-0.058592</td>\n",
       "      <td>0.086464</td>\n",
       "      <td>-0.129572</td>\n",
       "      <td>0.010478</td>\n",
       "      <td>-0.148258</td>\n",
       "      <td>1.000000</td>\n",
       "      <td>-0.496624</td>\n",
       "      <td>0.074115</td>\n",
       "    </tr>\n",
       "    <tr>\n",
       "      <th>Embarked_S</th>\n",
       "      <td>-0.155660</td>\n",
       "      <td>0.081720</td>\n",
       "      <td>0.008690</td>\n",
       "      <td>0.070941</td>\n",
       "      <td>0.063036</td>\n",
       "      <td>-0.153230</td>\n",
       "      <td>0.079977</td>\n",
       "      <td>0.024929</td>\n",
       "      <td>-0.110087</td>\n",
       "      <td>0.025291</td>\n",
       "      <td>-0.778359</td>\n",
       "      <td>-0.496624</td>\n",
       "      <td>1.000000</td>\n",
       "      <td>-0.125722</td>\n",
       "    </tr>\n",
       "    <tr>\n",
       "      <th>Sex_encode</th>\n",
       "      <td>0.543351</td>\n",
       "      <td>-0.131900</td>\n",
       "      <td>-0.112851</td>\n",
       "      <td>0.114631</td>\n",
       "      <td>0.245489</td>\n",
       "      <td>0.217338</td>\n",
       "      <td>0.200988</td>\n",
       "      <td>-0.303646</td>\n",
       "      <td>0.140391</td>\n",
       "      <td>-0.159934</td>\n",
       "      <td>0.082853</td>\n",
       "      <td>0.074115</td>\n",
       "      <td>-0.125722</td>\n",
       "      <td>1.000000</td>\n",
       "    </tr>\n",
       "  </tbody>\n",
       "</table>\n",
       "</div>"
      ],
      "text/plain": [
       "              Survived    Pclass       Age     SibSp     Parch      Fare  \\\n",
       "Survived      1.000000 -0.338481 -0.067485 -0.035322  0.081629  0.270353   \n",
       "Pclass       -0.338481  1.000000 -0.407015  0.083081  0.018443 -0.608669   \n",
       "Age          -0.067485 -0.407015  1.000000 -0.251313 -0.180705  0.127862   \n",
       "SibSp        -0.035322  0.083081 -0.251313  1.000000  0.414838  0.202377   \n",
       "Parch         0.081629  0.018443 -0.180705  0.414838  1.000000  0.258082   \n",
       "Fare          0.270353 -0.608669  0.127862  0.202377  0.258082  1.000000   \n",
       "Fsize         0.016639  0.065997 -0.262041  0.890712  0.783111  0.267251   \n",
       "Alone        -0.203367  0.135207  0.183628 -0.584471 -0.583398 -0.325976   \n",
       "Cabin_encode  0.316912 -0.725541  0.271987 -0.040460  0.036987  0.543109   \n",
       "Master        0.085221  0.082081 -0.368335  0.349559  0.267344  0.018893   \n",
       "Embarked_C    0.168240 -0.243292  0.041504 -0.059528 -0.011069  0.262436   \n",
       "Embarked_Q    0.003650  0.221009 -0.084069 -0.026354 -0.081228 -0.130566   \n",
       "Embarked_S   -0.155660  0.081720  0.008690  0.070941  0.063036 -0.153230   \n",
       "Sex_encode    0.543351 -0.131900 -0.112851  0.114631  0.245489  0.217338   \n",
       "\n",
       "                 Fsize     Alone  Cabin_encode    Master  Embarked_C  \\\n",
       "Survived      0.016639 -0.203367      0.316912  0.085221    0.168240   \n",
       "Pclass        0.065997  0.135207     -0.725541  0.082081   -0.243292   \n",
       "Age          -0.262041  0.183628      0.271987 -0.368335    0.041504   \n",
       "SibSp         0.890712 -0.584471     -0.040460  0.349559   -0.059528   \n",
       "Parch         0.783111 -0.583398      0.036987  0.267344   -0.011069   \n",
       "Fare          0.267251 -0.325976      0.543109  0.018893    0.262436   \n",
       "Fsize         1.000000 -0.690922     -0.009175  0.372472   -0.046215   \n",
       "Alone        -0.690922  1.000000     -0.158029 -0.267024   -0.095298   \n",
       "Cabin_encode -0.009175 -0.158029      1.000000 -0.027841    0.208528   \n",
       "Master        0.372472 -0.267024     -0.027841  1.000000   -0.035225   \n",
       "Embarked_C   -0.046215 -0.095298      0.208528 -0.035225    1.000000   \n",
       "Embarked_Q   -0.058592  0.086464     -0.129572  0.010478   -0.148258   \n",
       "Embarked_S    0.079977  0.024929     -0.110087  0.025291   -0.778359   \n",
       "Sex_encode    0.200988 -0.303646      0.140391 -0.159934    0.082853   \n",
       "\n",
       "              Embarked_Q  Embarked_S  Sex_encode  \n",
       "Survived        0.003650   -0.155660    0.543351  \n",
       "Pclass          0.221009    0.081720   -0.131900  \n",
       "Age            -0.084069    0.008690   -0.112851  \n",
       "SibSp          -0.026354    0.070941    0.114631  \n",
       "Parch          -0.081228    0.063036    0.245489  \n",
       "Fare           -0.130566   -0.153230    0.217338  \n",
       "Fsize          -0.058592    0.079977    0.200988  \n",
       "Alone           0.086464    0.024929   -0.303646  \n",
       "Cabin_encode   -0.129572   -0.110087    0.140391  \n",
       "Master          0.010478    0.025291   -0.159934  \n",
       "Embarked_C     -0.148258   -0.778359    0.082853  \n",
       "Embarked_Q      1.000000   -0.496624    0.074115  \n",
       "Embarked_S     -0.496624    1.000000   -0.125722  \n",
       "Sex_encode      0.074115   -0.125722    1.000000  "
      ]
     },
     "execution_count": 69,
     "metadata": {},
     "output_type": "execute_result"
    }
   ],
   "source": [
    "train.corr()"
   ]
  },
  {
   "cell_type": "code",
   "execution_count": 70,
   "id": "4f8e4711",
   "metadata": {
    "colab": {
     "base_uri": "https://localhost:8080/",
     "height": 0
    },
    "executionInfo": {
     "elapsed": 1352,
     "status": "ok",
     "timestamp": 1653701375685,
     "user": {
      "displayName": "안상영",
      "userId": "03805254755243582882"
     },
     "user_tz": -540
    },
    "id": "4f8e4711",
    "outputId": "da557d0d-4db7-4b45-9e45-294434e4093b"
   },
   "outputs": [
    {
     "data": {
      "text/plain": [
       "<AxesSubplot:>"
      ]
     },
     "execution_count": 70,
     "metadata": {},
     "output_type": "execute_result"
    },
    {
     "data": {
      "image/png": "[encoded data removed]",
      "text/plain": [
       "<Figure size 1224x576 with 2 Axes>"
      ]
     },
     "metadata": {
      "needs_background": "light"
     },
     "output_type": "display_data"
    }
   ],
   "source": [
    "sns.heatmap(train.corr(), annot=True, cmap = 'coolwarm')"
   ]
  },
  {
   "cell_type": "code",
   "execution_count": 71,
   "id": "3bcc3ae5",
   "metadata": {
    "colab": {
     "base_uri": "https://localhost:8080/"
    },
    "executionInfo": {
     "elapsed": 83,
     "status": "ok",
     "timestamp": 1653701375686,
     "user": {
      "displayName": "안상영",
      "userId": "03805254755243582882"
     },
     "user_tz": -540
    },
    "id": "3bcc3ae5",
    "outputId": "40489211-8efc-4f34-af98-329acdb1636d",
    "scrolled": true
   },
   "outputs": [
    {
     "data": {
      "text/plain": [
       "Pclass         -0.338481\n",
       "Alone          -0.203367\n",
       "Embarked_S     -0.155660\n",
       "Age            -0.067485\n",
       "SibSp          -0.035322\n",
       "Embarked_Q      0.003650\n",
       "Fsize           0.016639\n",
       "Parch           0.081629\n",
       "Master          0.085221\n",
       "Embarked_C      0.168240\n",
       "Fare            0.270353\n",
       "Cabin_encode    0.316912\n",
       "Sex_encode      0.543351\n",
       "Survived        1.000000\n",
       "dtype: float64"
      ]
     },
     "execution_count": 71,
     "metadata": {},
     "output_type": "execute_result"
    }
   ],
   "source": [
    "train.corrwith(train.Survived).sort_values()"
   ]
  },
  {
   "cell_type": "code",
   "execution_count": 72,
   "id": "1a6531e1",
   "metadata": {
    "executionInfo": {
     "elapsed": 79,
     "status": "ok",
     "timestamp": 1653701375687,
     "user": {
      "displayName": "안상영",
      "userId": "03805254755243582882"
     },
     "user_tz": -540
    },
    "id": "1a6531e1"
   },
   "outputs": [],
   "source": [
    "features = [\"Sex_encode\", 'Pclass', 'Alone', \n",
    "           \"Embarked_C\", 'Embarked_Q', \"Embarked_S\",\n",
    "           \"Age\", \"Master\", 'Fare']"
   ]
  },
  {
   "cell_type": "code",
   "execution_count": 73,
   "id": "e6964ced",
   "metadata": {
    "executionInfo": {
     "elapsed": 78,
     "status": "ok",
     "timestamp": 1653701375687,
     "user": {
      "displayName": "안상영",
      "userId": "03805254755243582882"
     },
     "user_tz": -540
    },
    "id": "e6964ced",
    "scrolled": true
   },
   "outputs": [],
   "source": [
    "X_test = test[features]"
   ]
  },
  {
   "cell_type": "code",
   "execution_count": 74,
   "id": "4f76350d",
   "metadata": {
    "executionInfo": {
     "elapsed": 79,
     "status": "ok",
     "timestamp": 1653701375688,
     "user": {
      "displayName": "안상영",
      "userId": "03805254755243582882"
     },
     "user_tz": -540
    },
    "id": "4f76350d"
   },
   "outputs": [],
   "source": [
    "X_train = train[features]"
   ]
  },
  {
   "cell_type": "code",
   "execution_count": 75,
   "id": "4b0ec7fa",
   "metadata": {
    "colab": {
     "base_uri": "https://localhost:8080/"
    },
    "executionInfo": {
     "elapsed": 79,
     "status": "ok",
     "timestamp": 1653701375688,
     "user": {
      "displayName": "안상영",
      "userId": "03805254755243582882"
     },
     "user_tz": -540
    },
    "id": "4b0ec7fa",
    "outputId": "33048e45-217c-4e71-eb4c-b4e52c227c4d"
   },
   "outputs": [
    {
     "name": "stdout",
     "output_type": "stream",
     "text": [
      "<class 'pandas.core.frame.DataFrame'>\n",
      "Int64Index: 418 entries, 892 to 1309\n",
      "Data columns (total 9 columns):\n",
      " #   Column      Non-Null Count  Dtype  \n",
      "---  ------      --------------  -----  \n",
      " 0   Sex_encode  418 non-null    float64\n",
      " 1   Pclass      418 non-null    int64  \n",
      " 2   Alone       418 non-null    float64\n",
      " 3   Embarked_C  418 non-null    uint8  \n",
      " 4   Embarked_Q  418 non-null    uint8  \n",
      " 5   Embarked_S  418 non-null    uint8  \n",
      " 6   Age         418 non-null    float64\n",
      " 7   Master      418 non-null    float64\n",
      " 8   Fare        417 non-null    float64\n",
      "dtypes: float64(5), int64(1), uint8(3)\n",
      "memory usage: 24.1 KB\n"
     ]
    }
   ],
   "source": [
    "X_test.info()"
   ]
  },
  {
   "cell_type": "code",
   "execution_count": 76,
   "id": "1fff0d1c",
   "metadata": {
    "executionInfo": {
     "elapsed": 79,
     "status": "ok",
     "timestamp": 1653701375689,
     "user": {
      "displayName": "안상영",
      "userId": "03805254755243582882"
     },
     "user_tz": -540
    },
    "id": "1fff0d1c"
   },
   "outputs": [],
   "source": [
    "X_test.loc[X_test.Fare.isnull(), 'Fare'] = train.Fare.mean()"
   ]
  },
  {
   "cell_type": "code",
   "execution_count": 77,
   "id": "1bf0cb52",
   "metadata": {
    "executionInfo": {
     "elapsed": 78,
     "status": "ok",
     "timestamp": 1653701375689,
     "user": {
      "displayName": "안상영",
      "userId": "03805254755243582882"
     },
     "user_tz": -540
    },
    "id": "1bf0cb52"
   },
   "outputs": [],
   "source": [
    "y_train = train.Survived"
   ]
  },
  {
   "cell_type": "code",
   "execution_count": 78,
   "id": "00812c32",
   "metadata": {
    "colab": {
     "base_uri": "https://localhost:8080/"
    },
    "executionInfo": {
     "elapsed": 79,
     "status": "ok",
     "timestamp": 1653701375690,
     "user": {
      "displayName": "안상영",
      "userId": "03805254755243582882"
     },
     "user_tz": -540
    },
    "id": "00812c32",
    "outputId": "902fb9d5-e0b8-434a-e8cb-62961e6eaee3"
   },
   "outputs": [
    {
     "data": {
      "text/plain": [
       "PassengerId\n",
       "1    0\n",
       "2    1\n",
       "3    1\n",
       "4    1\n",
       "5    0\n",
       "Name: Survived, dtype: int64"
      ]
     },
     "execution_count": 78,
     "metadata": {},
     "output_type": "execute_result"
    }
   ],
   "source": [
    "y_train.head()"
   ]
  },
  {
   "cell_type": "markdown",
   "id": "be249601",
   "metadata": {
    "id": "be249601"
   },
   "source": [
    "머신러닝의 처리 개념\n",
    "\n"
   ]
  },
  {
   "cell_type": "markdown",
   "id": "2447f78a",
   "metadata": {
    "id": "2447f78a"
   },
   "source": [
    "과대적합(overfitting)이란 머신러닝 모델을 학습할 때 학습 데이터셋에 지나치게 최적화하여 발생하는 문제입니다. 즉, 모델을 지나치게 복잡하게 학습하여 학습 데이터셋에서는 모델 성능이 높게 나타나지만 정작 새로운 데이터가 주어졌을 때 정확한 예측/분류를 수행하지 못합니다"
   ]
  },
  {
   "cell_type": "markdown",
   "id": "309fc6d3",
   "metadata": {
    "id": "309fc6d3"
   },
   "source": [
    "그래서 과대적합(복잡성)을 피하기 위해서 \n",
    "머신러닝할 때 모든 것을 학습시키지 않음. \n",
    "* max_depth를 두거나, min_Sample_split을 하거나.... min_sample_leaf \n",
    "\n",
    "자동화기술로  앞으로 머신러닝 같은 경우는 \n",
    "- EDA, 핏쳐셀렉션, 핏쳐엔지니어링이 매우 중요한 역량으로 판단할 수 있음\n",
    "   "
   ]
  },
  {
   "cell_type": "markdown",
   "id": "c59a9df4",
   "metadata": {
    "id": "c59a9df4"
   },
   "source": [
    "### AI 모델을 만들어보자\n",
    "- sklearn"
   ]
  },
  {
   "cell_type": "code",
   "execution_count": 79,
   "id": "ef910c3b",
   "metadata": {
    "executionInfo": {
     "elapsed": 582,
     "status": "ok",
     "timestamp": 1653701376194,
     "user": {
      "displayName": "안상영",
      "userId": "03805254755243582882"
     },
     "user_tz": -540
    },
    "id": "ef910c3b"
   },
   "outputs": [],
   "source": [
    "from sklearn.tree import DecisionTreeClassifier             #의사결정기법 라이브러리"
   ]
  },
  {
   "cell_type": "code",
   "execution_count": 80,
   "id": "9a692b6a",
   "metadata": {
    "executionInfo": {
     "elapsed": 72,
     "status": "ok",
     "timestamp": 1653701376195,
     "user": {
      "displayName": "안상영",
      "userId": "03805254755243582882"
     },
     "user_tz": -540
    },
    "id": "9a692b6a"
   },
   "outputs": [],
   "source": [
    "model = DecisionTreeClassifier(max_depth=9)                 # 기본 머신러닝 값에서.   옵션값으로 튜닝을 하여서 과대적합 등에 대한 가지치기해야함.\n"
   ]
  },
  {
   "cell_type": "markdown",
   "id": "4e6ea2be",
   "metadata": {
    "id": "4e6ea2be"
   },
   "source": [
    "# 교차검증(cross Validation)"
   ]
  },
  {
   "cell_type": "code",
   "execution_count": 81,
   "id": "01225ca6",
   "metadata": {
    "executionInfo": {
     "elapsed": 71,
     "status": "ok",
     "timestamp": 1653701376195,
     "user": {
      "displayName": "안상영",
      "userId": "03805254755243582882"
     },
     "user_tz": -540
    },
    "id": "01225ca6"
   },
   "outputs": [],
   "source": [
    "from sklearn.model_selection import cross_val_score"
   ]
  },
  {
   "cell_type": "code",
   "execution_count": 82,
   "id": "485b67ea",
   "metadata": {
    "colab": {
     "base_uri": "https://localhost:8080/"
    },
    "executionInfo": {
     "elapsed": 72,
     "status": "ok",
     "timestamp": 1653701376196,
     "user": {
      "displayName": "안상영",
      "userId": "03805254755243582882"
     },
     "user_tz": -540
    },
    "id": "485b67ea",
    "outputId": "2dd31c84-25f0-452f-9119-f6119f1dfcfb"
   },
   "outputs": [
    {
     "data": {
      "text/plain": [
       "array([0.74301676, 0.78651685, 0.85955056, 0.78089888, 0.8258427 ])"
      ]
     },
     "execution_count": 82,
     "metadata": {},
     "output_type": "execute_result"
    }
   ],
   "source": [
    "cross_val_score(model, X_train, y_train, cv=5)"
   ]
  },
  {
   "cell_type": "code",
   "execution_count": 83,
   "id": "f01d7913",
   "metadata": {
    "colab": {
     "base_uri": "https://localhost:8080/"
    },
    "executionInfo": {
     "elapsed": 71,
     "status": "ok",
     "timestamp": 1653701376196,
     "user": {
      "displayName": "안상영",
      "userId": "03805254755243582882"
     },
     "user_tz": -540
    },
    "id": "f01d7913",
    "outputId": "cd40ad13-4b0f-4d24-9731-3bdfaa5ac446"
   },
   "outputs": [
    {
     "data": {
      "text/plain": [
       "0.801418617789216"
      ]
     },
     "execution_count": 83,
     "metadata": {},
     "output_type": "execute_result"
    }
   ],
   "source": [
    "cross_val_score(model, X_train, y_train, cv=5).mean()"
   ]
  },
  {
   "cell_type": "markdown",
   "id": "ba5fe68d",
   "metadata": {
    "id": "ba5fe68d"
   },
   "source": [
    "모델학습\n"
   ]
  },
  {
   "cell_type": "markdown",
   "id": "8f3047ee",
   "metadata": {
    "id": "8f3047ee"
   },
   "source": [
    "- 그러나....\n",
    "더 최적화된 학습방법을 이용하여 학습과 모델링함\n",
    "- Bagging    RandomForest 기법 :   의사결정나무를 한 번만하는 것이 아니라  수만개의 의사결정을 만듦\n",
    "- 샘플만 bagging 하는 것이 아니라\n",
    "- Features 도 랜덤하게 배깅랜덤포레스트 함. \n",
    "   >> 이렇게 할 경우 과거 결과에 집착하기 보다는 일반화된 의사결정을 받기 위함\n",
    "   >>"
   ]
  },
  {
   "cell_type": "markdown",
   "id": "e6158a10",
   "metadata": {
    "id": "e6158a10"
   },
   "source": [
    "한단계 더 나아가   Boosting   기법을 개발하게 됨\n",
    "- xgboost\n",
    "- GradientBoosting\n",
    "- LightGBM\n",
    "\n",
    "> - 하이퍼 파라메터 튜닝으로 더 많이 할 수 록 배깅랜덤포레스팅보다 점점 성능이 더 좋아짐(즉, 처음에는 배깅랜덤포레스팅이 좋긴 함)\n",
    "> - 부스팅 방법은..... 맞는것과 맞지 않는 것들에 대해 추가 재분석을 함."
   ]
  },
  {
   "cell_type": "code",
   "execution_count": 84,
   "id": "263fda22",
   "metadata": {
    "executionInfo": {
     "elapsed": 68,
     "status": "ok",
     "timestamp": 1653701376197,
     "user": {
      "displayName": "안상영",
      "userId": "03805254755243582882"
     },
     "user_tz": -540
    },
    "id": "263fda22"
   },
   "outputs": [],
   "source": [
    "from sklearn.ensemble import RandomForestClassifier\n",
    "from sklearn.ensemble import GradientBoostingClassifier\n",
    "from sklearn.linear_model import LogisticRegression"
   ]
  },
  {
   "cell_type": "code",
   "execution_count": 85,
   "id": "5b145ba9",
   "metadata": {
    "executionInfo": {
     "elapsed": 67,
     "status": "ok",
     "timestamp": 1653701376197,
     "user": {
      "displayName": "안상영",
      "userId": "03805254755243582882"
     },
     "user_tz": -540
    },
    "id": "5b145ba9"
   },
   "outputs": [],
   "source": [
    "# model = RandomForestClassifier(n_estimators = 500,\n",
    "#                              max_depth = 7,\n",
    "#                              max_features = 0.7,\n",
    "#                              random_state =31,\n",
    "#                              n_jobs=-1)\n",
    "#                                             #random_state  추가를 하는 것은 이것 조차 랜덤하게함. 왜 코드를 너무 잘 만들 수 있어"
   ]
  },
  {
   "cell_type": "code",
   "execution_count": 86,
   "id": "5977e08b",
   "metadata": {
    "executionInfo": {
     "elapsed": 67,
     "status": "ok",
     "timestamp": 1653701376197,
     "user": {
      "displayName": "안상영",
      "userId": "03805254755243582882"
     },
     "user_tz": -540
    },
    "id": "5977e08b"
   },
   "outputs": [],
   "source": [
    "model = GradientBoostingClassifier(n_estimators = 300, \n",
    "                                  max_depth = 10, \n",
    "                                  max_features =0.9,\n",
    "                                  random_state=31)\n",
    "\n",
    "# 자동화 코드짜는 법\n",
    "# 1. 그리드 서치\n",
    "# max_depth = [1,3,5,7,9]\n",
    "# max_features = [0.5,0.6,0.7,0.8,0.9]\n",
    "# \n",
    "# 2. fosejatjcl"
   ]
  },
  {
   "cell_type": "code",
   "execution_count": 87,
   "id": "5e7aad12",
   "metadata": {
    "colab": {
     "base_uri": "https://localhost:8080/"
    },
    "executionInfo": {
     "elapsed": 8001,
     "status": "ok",
     "timestamp": 1653701384132,
     "user": {
      "displayName": "안상영",
      "userId": "03805254755243582882"
     },
     "user_tz": -540
    },
    "id": "5e7aad12",
    "outputId": "9cfb708c-b40e-40bb-a133-8532882df39c"
   },
   "outputs": [
    {
     "data": {
      "text/plain": [
       "array([0.77653631, 0.81460674, 0.83707865, 0.7752809 , 0.83146067])"
      ]
     },
     "execution_count": 87,
     "metadata": {},
     "output_type": "execute_result"
    }
   ],
   "source": [
    "cross_val_score(model, X_train, y_train, cv=5)                              # 점수 측정"
   ]
  },
  {
   "cell_type": "code",
   "execution_count": 88,
   "id": "b1269bb2",
   "metadata": {
    "colab": {
     "base_uri": "https://localhost:8080/"
    },
    "executionInfo": {
     "elapsed": 8422,
     "status": "ok",
     "timestamp": 1653701392532,
     "user": {
      "displayName": "안상영",
      "userId": "03805254755243582882"
     },
     "user_tz": -540
    },
    "id": "b1269bb2",
    "outputId": "5634e12b-42fd-405f-f65a-20a5ef463652"
   },
   "outputs": [
    {
     "data": {
      "text/plain": [
       "0.8069926558282594"
      ]
     },
     "execution_count": 88,
     "metadata": {},
     "output_type": "execute_result"
    }
   ],
   "source": [
    "cross_val_score(model, X_train, y_train, cv=5).mean()                      #점수 측정 평균"
   ]
  },
  {
   "cell_type": "markdown",
   "id": "a5f7de70",
   "metadata": {
    "id": "a5f7de70"
   },
   "source": [
    "# 하이퍼 파라미터 튜닝자동화 "
   ]
  },
  {
   "cell_type": "code",
   "execution_count": 89,
   "id": "9d651f46",
   "metadata": {
    "colab": {
     "base_uri": "https://localhost:8080/"
    },
    "executionInfo": {
     "elapsed": 990997,
     "status": "ok",
     "timestamp": 1653702383506,
     "user": {
      "displayName": "안상영",
      "userId": "03805254755243582882"
     },
     "user_tz": -540
    },
    "id": "9d651f46",
    "outputId": "f3d93084-89c2-45b5-b778-0e7d4ace2f62",
    "scrolled": true
   },
   "outputs": [],
   "source": [
    "# # 그리드서치 자동화 방법 코드\n",
    "\n",
    "# hyper_result1 =[]\n",
    "\n",
    "# #수업기본형:max_depth = [3,5,7,9,11,13]\n",
    "# #수업기본형:max_feature = [0.7,0.8,0.9,1.0]\n",
    "# max_depth = list(range(20))\n",
    "# max_feature = [0.3,0.4,0.5,0.6,0.7,0.8,0.9,1.0]\n",
    "\n",
    "\n",
    "# for a in max_depth:\n",
    "#     for b in max_feature:\n",
    "#         model1 = RandomForestClassifier(n_estimators = 300, \n",
    "#                                       max_depth = a, \n",
    "#                                       max_features =b, \n",
    "#                                       random_state=31,\n",
    "#                                       n_jobs=-1)\n",
    "        \n",
    "#         #기본형:score = cross_val_score(model1, X_train, y_train, cv=5).mean()\n",
    "#         score = cross_val_score(model1, X_train, y_train, cv=9).mean()\n",
    "        \n",
    "#         hyper_result1.append({'점수' : score,\n",
    "#                             'MAX_depth': a,\n",
    "#                             'MAX_features': b})\n",
    "        \n",
    "#         print(\"현재 스코어는 {0:.5f}\".format(score))\n"
   ]
  },
  {
   "cell_type": "code",
   "execution_count": 90,
   "id": "4bcd60ed",
   "metadata": {
    "colab": {
     "base_uri": "https://localhost:8080/",
     "height": 424
    },
    "executionInfo": {
     "elapsed": 67,
     "status": "ok",
     "timestamp": 1653702383508,
     "user": {
      "displayName": "안상영",
      "userId": "03805254755243582882"
     },
     "user_tz": -540
    },
    "id": "4bcd60ed",
    "outputId": "eb26848d-8f7d-4d3a-f977-5d1d24eebc2e",
    "scrolled": true
   },
   "outputs": [],
   "source": [
    "# pd.DataFrame(hyper_result1).sort_values(by='점수', ascending=False)           #자동화 점수결과를 pd로 정리"
   ]
  },
  {
   "cell_type": "code",
   "execution_count": 112,
   "id": "4f8e51c0",
   "metadata": {
    "colab": {
     "base_uri": "https://localhost:8080/"
    },
    "executionInfo": {
     "elapsed": 575754,
     "status": "ok",
     "timestamp": 1653702959198,
     "user": {
      "displayName": "안상영",
      "userId": "03805254755243582882"
     },
     "user_tz": -540
    },
    "id": "4f8e51c0",
    "outputId": "e8384d74-1d33-451b-9aeb-d7d2cfc609ae",
    "scrolled": true
   },
   "outputs": [
    {
     "name": "stdout",
     "output_type": "stream",
     "text": [
      "현재 스코어는 0.79800\n",
      "현재 스코어는 0.79912\n",
      "현재 스코어는 0.80362\n",
      "현재 스코어는 0.79912\n",
      "현재 스코어는 0.80585\n",
      "현재 스코어는 0.80362\n",
      "현재 스코어는 0.80473\n",
      "현재 스코어는 0.79914\n",
      "현재 스코어는 0.79914\n",
      "현재 스코어는 0.80362\n",
      "현재 스코어는 0.79800\n",
      "현재 스코어는 0.80249\n",
      "현재 스코어는 0.80362\n",
      "현재 스코어는 0.79800\n",
      "현재 스코어는 0.80249\n",
      "현재 스코어는 0.80249\n",
      "현재 스코어는 0.80247\n",
      "현재 스코어는 0.80362\n",
      "현재 스코어는 0.79914\n",
      "현재 스코어는 0.80249\n",
      "현재 스코어는 0.80360\n",
      "현재 스코어는 0.80362\n",
      "현재 스코어는 0.80585\n",
      "현재 스코어는 0.79914\n",
      "현재 스코어는 0.79912\n",
      "현재 스코어는 0.80362\n",
      "현재 스코어는 0.79912\n",
      "현재 스코어는 0.80360\n",
      "현재 스코어는 0.80360\n",
      "현재 스코어는 0.80249\n"
     ]
    }
   ],
   "source": [
    "# 랜덤서치 자동화 방법 코드\n",
    "\n",
    "hyper_result2 =[]\n",
    "\n",
    "\n",
    "\n",
    "for i in range(30):\n",
    "    #수업기본형:a = np.random.randint(6,15)\n",
    "    #수업기본형b = np.random.uniform(0.5,1.0)\n",
    "    a = np.random.randint(7,10)\n",
    "    b = np.random.uniform(0.5,1.0)\n",
    "    model2 = GradientBoostingClassifier(n_estimators = 500, \n",
    "                                  max_depth = a, \n",
    "                                  max_features =b, \n",
    "                                  random_state=31)\n",
    "        \n",
    "    score = cross_val_score(model2, X_train, y_train, cv=5).mean()\n",
    "        \n",
    "    hyper_result2.append({'점수' : score,\n",
    "                        'MAX_depth': a,\n",
    "                        'MAX_features': b})\n",
    "        \n",
    "    print(\"현재 스코어는 {0:.5f}\".format(score))\n"
   ]
  },
  {
   "cell_type": "code",
   "execution_count": 113,
   "id": "1013d7d8",
   "metadata": {
    "colab": {
     "base_uri": "https://localhost:8080/",
     "height": 990
    },
    "executionInfo": {
     "elapsed": 65,
     "status": "ok",
     "timestamp": 1653702959200,
     "user": {
      "displayName": "안상영",
      "userId": "03805254755243582882"
     },
     "user_tz": -540
    },
    "id": "1013d7d8",
    "outputId": "74e78fa4-90b4-4aed-cdc6-9431e8f68b7d",
    "scrolled": true
   },
   "outputs": [
    {
     "data": {
      "text/html": [
       "<div>\n",
       "<style scoped>\n",
       "    .dataframe tbody tr th:only-of-type {\n",
       "        vertical-align: middle;\n",
       "    }\n",
       "\n",
       "    .dataframe tbody tr th {\n",
       "        vertical-align: top;\n",
       "    }\n",
       "\n",
       "    .dataframe thead th {\n",
       "        text-align: right;\n",
       "    }\n",
       "</style>\n",
       "<table border=\"1\" class=\"dataframe\">\n",
       "  <thead>\n",
       "    <tr style=\"text-align: right;\">\n",
       "      <th></th>\n",
       "      <th>점수</th>\n",
       "      <th>MAX_depth</th>\n",
       "      <th>MAX_features</th>\n",
       "    </tr>\n",
       "  </thead>\n",
       "  <tbody>\n",
       "    <tr>\n",
       "      <th>4</th>\n",
       "      <td>0.805850</td>\n",
       "      <td>8</td>\n",
       "      <td>0.829082</td>\n",
       "    </tr>\n",
       "    <tr>\n",
       "      <th>22</th>\n",
       "      <td>0.805850</td>\n",
       "      <td>9</td>\n",
       "      <td>0.758371</td>\n",
       "    </tr>\n",
       "    <tr>\n",
       "      <th>6</th>\n",
       "      <td>0.804733</td>\n",
       "      <td>9</td>\n",
       "      <td>0.618100</td>\n",
       "    </tr>\n",
       "    <tr>\n",
       "      <th>17</th>\n",
       "      <td>0.803616</td>\n",
       "      <td>7</td>\n",
       "      <td>0.584964</td>\n",
       "    </tr>\n",
       "    <tr>\n",
       "      <th>2</th>\n",
       "      <td>0.803616</td>\n",
       "      <td>8</td>\n",
       "      <td>0.996658</td>\n",
       "    </tr>\n",
       "    <tr>\n",
       "      <th>5</th>\n",
       "      <td>0.803616</td>\n",
       "      <td>7</td>\n",
       "      <td>0.625718</td>\n",
       "    </tr>\n",
       "    <tr>\n",
       "      <th>25</th>\n",
       "      <td>0.803616</td>\n",
       "      <td>8</td>\n",
       "      <td>0.970265</td>\n",
       "    </tr>\n",
       "    <tr>\n",
       "      <th>9</th>\n",
       "      <td>0.803616</td>\n",
       "      <td>7</td>\n",
       "      <td>0.639338</td>\n",
       "    </tr>\n",
       "    <tr>\n",
       "      <th>21</th>\n",
       "      <td>0.803616</td>\n",
       "      <td>7</td>\n",
       "      <td>0.643831</td>\n",
       "    </tr>\n",
       "    <tr>\n",
       "      <th>12</th>\n",
       "      <td>0.803616</td>\n",
       "      <td>8</td>\n",
       "      <td>0.941697</td>\n",
       "    </tr>\n",
       "    <tr>\n",
       "      <th>28</th>\n",
       "      <td>0.803603</td>\n",
       "      <td>8</td>\n",
       "      <td>0.631086</td>\n",
       "    </tr>\n",
       "    <tr>\n",
       "      <th>27</th>\n",
       "      <td>0.803603</td>\n",
       "      <td>8</td>\n",
       "      <td>0.611746</td>\n",
       "    </tr>\n",
       "    <tr>\n",
       "      <th>20</th>\n",
       "      <td>0.803603</td>\n",
       "      <td>8</td>\n",
       "      <td>0.622933</td>\n",
       "    </tr>\n",
       "    <tr>\n",
       "      <th>14</th>\n",
       "      <td>0.802492</td>\n",
       "      <td>9</td>\n",
       "      <td>0.849020</td>\n",
       "    </tr>\n",
       "    <tr>\n",
       "      <th>15</th>\n",
       "      <td>0.802492</td>\n",
       "      <td>7</td>\n",
       "      <td>0.687898</td>\n",
       "    </tr>\n",
       "    <tr>\n",
       "      <th>19</th>\n",
       "      <td>0.802492</td>\n",
       "      <td>7</td>\n",
       "      <td>0.752218</td>\n",
       "    </tr>\n",
       "    <tr>\n",
       "      <th>29</th>\n",
       "      <td>0.802492</td>\n",
       "      <td>7</td>\n",
       "      <td>0.683221</td>\n",
       "    </tr>\n",
       "    <tr>\n",
       "      <th>11</th>\n",
       "      <td>0.802486</td>\n",
       "      <td>8</td>\n",
       "      <td>0.516925</td>\n",
       "    </tr>\n",
       "    <tr>\n",
       "      <th>16</th>\n",
       "      <td>0.802473</td>\n",
       "      <td>9</td>\n",
       "      <td>0.511512</td>\n",
       "    </tr>\n",
       "    <tr>\n",
       "      <th>18</th>\n",
       "      <td>0.799140</td>\n",
       "      <td>8</td>\n",
       "      <td>0.695420</td>\n",
       "    </tr>\n",
       "    <tr>\n",
       "      <th>23</th>\n",
       "      <td>0.799140</td>\n",
       "      <td>8</td>\n",
       "      <td>0.701508</td>\n",
       "    </tr>\n",
       "    <tr>\n",
       "      <th>8</th>\n",
       "      <td>0.799140</td>\n",
       "      <td>8</td>\n",
       "      <td>0.742282</td>\n",
       "    </tr>\n",
       "    <tr>\n",
       "      <th>7</th>\n",
       "      <td>0.799140</td>\n",
       "      <td>8</td>\n",
       "      <td>0.750780</td>\n",
       "    </tr>\n",
       "    <tr>\n",
       "      <th>1</th>\n",
       "      <td>0.799121</td>\n",
       "      <td>7</td>\n",
       "      <td>0.802763</td>\n",
       "    </tr>\n",
       "    <tr>\n",
       "      <th>24</th>\n",
       "      <td>0.799121</td>\n",
       "      <td>7</td>\n",
       "      <td>0.852147</td>\n",
       "    </tr>\n",
       "    <tr>\n",
       "      <th>26</th>\n",
       "      <td>0.799121</td>\n",
       "      <td>7</td>\n",
       "      <td>0.797484</td>\n",
       "    </tr>\n",
       "    <tr>\n",
       "      <th>3</th>\n",
       "      <td>0.799121</td>\n",
       "      <td>7</td>\n",
       "      <td>0.823941</td>\n",
       "    </tr>\n",
       "    <tr>\n",
       "      <th>13</th>\n",
       "      <td>0.797998</td>\n",
       "      <td>9</td>\n",
       "      <td>0.962838</td>\n",
       "    </tr>\n",
       "    <tr>\n",
       "      <th>10</th>\n",
       "      <td>0.797998</td>\n",
       "      <td>9</td>\n",
       "      <td>0.955559</td>\n",
       "    </tr>\n",
       "    <tr>\n",
       "      <th>0</th>\n",
       "      <td>0.797998</td>\n",
       "      <td>9</td>\n",
       "      <td>0.896271</td>\n",
       "    </tr>\n",
       "  </tbody>\n",
       "</table>\n",
       "</div>"
      ],
      "text/plain": [
       "          점수  MAX_depth  MAX_features\n",
       "4   0.805850          8      0.829082\n",
       "22  0.805850          9      0.758371\n",
       "6   0.804733          9      0.618100\n",
       "17  0.803616          7      0.584964\n",
       "2   0.803616          8      0.996658\n",
       "5   0.803616          7      0.625718\n",
       "25  0.803616          8      0.970265\n",
       "9   0.803616          7      0.639338\n",
       "21  0.803616          7      0.643831\n",
       "12  0.803616          8      0.941697\n",
       "28  0.803603          8      0.631086\n",
       "27  0.803603          8      0.611746\n",
       "20  0.803603          8      0.622933\n",
       "14  0.802492          9      0.849020\n",
       "15  0.802492          7      0.687898\n",
       "19  0.802492          7      0.752218\n",
       "29  0.802492          7      0.683221\n",
       "11  0.802486          8      0.516925\n",
       "16  0.802473          9      0.511512\n",
       "18  0.799140          8      0.695420\n",
       "23  0.799140          8      0.701508\n",
       "8   0.799140          8      0.742282\n",
       "7   0.799140          8      0.750780\n",
       "1   0.799121          7      0.802763\n",
       "24  0.799121          7      0.852147\n",
       "26  0.799121          7      0.797484\n",
       "3   0.799121          7      0.823941\n",
       "13  0.797998          9      0.962838\n",
       "10  0.797998          9      0.955559\n",
       "0   0.797998          9      0.896271"
      ]
     },
     "execution_count": 113,
     "metadata": {},
     "output_type": "execute_result"
    }
   ],
   "source": [
    "pd.DataFrame(hyper_result2).sort_values(by='점수', ascending=False)           #자동화 점수결과를 pd로 정리"
   ]
  },
  {
   "cell_type": "markdown",
   "id": "9171b562",
   "metadata": {
    "id": "9171b562"
   },
   "source": [
    "모델학습"
   ]
  },
  {
   "cell_type": "code",
   "execution_count": 93,
   "id": "c7cf3646",
   "metadata": {
    "colab": {
     "base_uri": "https://localhost:8080/"
    },
    "executionInfo": {
     "elapsed": 541,
     "status": "ok",
     "timestamp": 1653702959679,
     "user": {
      "displayName": "안상영",
      "userId": "03805254755243582882"
     },
     "user_tz": -540
    },
    "id": "c7cf3646",
    "outputId": "a60850ec-ab59-4582-cc27-68bc53dec4fb"
   },
   "outputs": [],
   "source": [
    "# model1.fit(X_train, y_train)"
   ]
  },
  {
   "cell_type": "code",
   "execution_count": 114,
   "id": "93bce040",
   "metadata": {
    "colab": {
     "base_uri": "https://localhost:8080/"
    },
    "executionInfo": {
     "elapsed": 3059,
     "status": "ok",
     "timestamp": 1653702962712,
     "user": {
      "displayName": "안상영",
      "userId": "03805254755243582882"
     },
     "user_tz": -540
    },
    "id": "93bce040",
    "outputId": "20f42d35-251f-461a-be2b-52104eb822df"
   },
   "outputs": [
    {
     "data": {
      "text/plain": [
       "GradientBoostingClassifier(max_depth=7, max_features=0.683220855089829,\n",
       "                           n_estimators=500, random_state=31)"
      ]
     },
     "execution_count": 114,
     "metadata": {},
     "output_type": "execute_result"
    }
   ],
   "source": [
    "model2.fit(X_train, y_train)"
   ]
  },
  {
   "cell_type": "code",
   "execution_count": 115,
   "id": "5525e829",
   "metadata": {},
   "outputs": [],
   "source": [
    "model = GradientBoostingClassifier(n_estimators = 500, \n",
    "                                  max_depth = 8, \n",
    "                                  max_features =0.829082,\n",
    "                                  random_state=31)\n",
    "\n",
    "# 자동화 코드짜는 법\n",
    "# 1. 그리드 서치\n",
    "# max_depth = [1,3,5,7,9]\n",
    "# max_features = [0.5,0.6,0.7,0.8,0.9]\n",
    "# \n",
    "# 2. fosejatjcl"
   ]
  },
  {
   "cell_type": "code",
   "execution_count": 142,
   "id": "2a25eb6d",
   "metadata": {},
   "outputs": [
    {
     "data": {
      "text/plain": [
       "array([0.76666667, 0.82022472, 0.76404494, 0.83146067, 0.87640449,\n",
       "       0.7752809 , 0.84269663, 0.75280899, 0.85393258, 0.85393258])"
      ]
     },
     "execution_count": 142,
     "metadata": {},
     "output_type": "execute_result"
    }
   ],
   "source": [
    "cross_val_score(model2, X_train, y_train, cv=10)                              # 점수 측정"
   ]
  },
  {
   "cell_type": "code",
   "execution_count": 143,
   "id": "36e5282a",
   "metadata": {},
   "outputs": [
    {
     "data": {
      "text/plain": [
       "0.81374531835206"
      ]
     },
     "execution_count": 143,
     "metadata": {},
     "output_type": "execute_result"
    }
   ],
   "source": [
    "cross_val_score(model2, X_train, y_train, cv=10).mean()                      #점수 측정 평균"
   ]
  },
  {
   "cell_type": "code",
   "execution_count": 144,
   "id": "c716ea0f",
   "metadata": {
    "executionInfo": {
     "elapsed": 129,
     "status": "ok",
     "timestamp": 1653702962714,
     "user": {
      "displayName": "안상영",
      "userId": "03805254755243582882"
     },
     "user_tz": -540
    },
    "id": "c716ea0f"
   },
   "outputs": [],
   "source": [
    "# prediction1 = model1.predict(X_test)"
   ]
  },
  {
   "cell_type": "code",
   "execution_count": 145,
   "id": "6c416658",
   "metadata": {
    "executionInfo": {
     "elapsed": 129,
     "status": "ok",
     "timestamp": 1653702962716,
     "user": {
      "displayName": "안상영",
      "userId": "03805254755243582882"
     },
     "user_tz": -540
    },
    "id": "6c416658"
   },
   "outputs": [],
   "source": [
    "prediction2 = model2.predict(X_test)"
   ]
  },
  {
   "cell_type": "markdown",
   "id": "89d6688d",
   "metadata": {
    "id": "89d6688d"
   },
   "source": [
    "### 캐글에 제출해보자"
   ]
  },
  {
   "cell_type": "code",
   "execution_count": 146,
   "id": "57ce9809",
   "metadata": {
    "executionInfo": {
     "elapsed": 129,
     "status": "ok",
     "timestamp": 1653702962717,
     "user": {
      "displayName": "안상영",
      "userId": "03805254755243582882"
     },
     "user_tz": -540
    },
    "id": "57ce9809"
   },
   "outputs": [],
   "source": [
    "# submission1 = pd.read_csv(\"gender_submission.csv\", index_col=0)"
   ]
  },
  {
   "cell_type": "code",
   "execution_count": 147,
   "id": "4409a44b",
   "metadata": {
    "executionInfo": {
     "elapsed": 130,
     "status": "ok",
     "timestamp": 1653702962718,
     "user": {
      "displayName": "안상영",
      "userId": "03805254755243582882"
     },
     "user_tz": -540
    },
    "id": "4409a44b"
   },
   "outputs": [],
   "source": [
    "submission2 = pd.read_csv(\"gender_submission.csv\", index_col=0)"
   ]
  },
  {
   "cell_type": "code",
   "execution_count": 148,
   "id": "a53670e5",
   "metadata": {
    "colab": {
     "base_uri": "https://localhost:8080/",
     "height": 238
    },
    "executionInfo": {
     "elapsed": 130,
     "status": "ok",
     "timestamp": 1653702962719,
     "user": {
      "displayName": "안상영",
      "userId": "03805254755243582882"
     },
     "user_tz": -540
    },
    "id": "a53670e5",
    "outputId": "7f5f4fe4-9495-47db-b080-f45b501c0c80"
   },
   "outputs": [],
   "source": [
    "# submission1.head()   # 샘플 답안"
   ]
  },
  {
   "cell_type": "code",
   "execution_count": 149,
   "id": "d4aed76b",
   "metadata": {
    "colab": {
     "base_uri": "https://localhost:8080/",
     "height": 238
    },
    "executionInfo": {
     "elapsed": 136,
     "status": "ok",
     "timestamp": 1653702962726,
     "user": {
      "displayName": "안상영",
      "userId": "03805254755243582882"
     },
     "user_tz": -540
    },
    "id": "d4aed76b",
    "outputId": "c793cfe0-0e8a-410f-c317-21e72cf3d9fe"
   },
   "outputs": [
    {
     "data": {
      "text/html": [
       "<div>\n",
       "<style scoped>\n",
       "    .dataframe tbody tr th:only-of-type {\n",
       "        vertical-align: middle;\n",
       "    }\n",
       "\n",
       "    .dataframe tbody tr th {\n",
       "        vertical-align: top;\n",
       "    }\n",
       "\n",
       "    .dataframe thead th {\n",
       "        text-align: right;\n",
       "    }\n",
       "</style>\n",
       "<table border=\"1\" class=\"dataframe\">\n",
       "  <thead>\n",
       "    <tr style=\"text-align: right;\">\n",
       "      <th></th>\n",
       "      <th>Survived</th>\n",
       "    </tr>\n",
       "    <tr>\n",
       "      <th>PassengerId</th>\n",
       "      <th></th>\n",
       "    </tr>\n",
       "  </thead>\n",
       "  <tbody>\n",
       "    <tr>\n",
       "      <th>892</th>\n",
       "      <td>0</td>\n",
       "    </tr>\n",
       "    <tr>\n",
       "      <th>893</th>\n",
       "      <td>1</td>\n",
       "    </tr>\n",
       "    <tr>\n",
       "      <th>894</th>\n",
       "      <td>0</td>\n",
       "    </tr>\n",
       "    <tr>\n",
       "      <th>895</th>\n",
       "      <td>0</td>\n",
       "    </tr>\n",
       "    <tr>\n",
       "      <th>896</th>\n",
       "      <td>1</td>\n",
       "    </tr>\n",
       "  </tbody>\n",
       "</table>\n",
       "</div>"
      ],
      "text/plain": [
       "             Survived\n",
       "PassengerId          \n",
       "892                 0\n",
       "893                 1\n",
       "894                 0\n",
       "895                 0\n",
       "896                 1"
      ]
     },
     "execution_count": 149,
     "metadata": {},
     "output_type": "execute_result"
    }
   ],
   "source": [
    "submission2.head()   # 샘플 답안"
   ]
  },
  {
   "cell_type": "code",
   "execution_count": 150,
   "id": "8a534905",
   "metadata": {
    "executionInfo": {
     "elapsed": 431,
     "status": "ok",
     "timestamp": 1653703385552,
     "user": {
      "displayName": "안상영",
      "userId": "03805254755243582882"
     },
     "user_tz": -540
    },
    "id": "8a534905"
   },
   "outputs": [],
   "source": [
    "# submission1['Survived'] = prediction1"
   ]
  },
  {
   "cell_type": "code",
   "execution_count": 151,
   "id": "0b7a9a66",
   "metadata": {
    "executionInfo": {
     "elapsed": 428,
     "status": "ok",
     "timestamp": 1653703390362,
     "user": {
      "displayName": "안상영",
      "userId": "03805254755243582882"
     },
     "user_tz": -540
    },
    "id": "0b7a9a66"
   },
   "outputs": [],
   "source": [
    "submission2['Survived'] = prediction2"
   ]
  },
  {
   "cell_type": "code",
   "execution_count": 152,
   "id": "0311eb03",
   "metadata": {
    "executionInfo": {
     "elapsed": 442,
     "status": "ok",
     "timestamp": 1653703518969,
     "user": {
      "displayName": "안상영",
      "userId": "03805254755243582882"
     },
     "user_tz": -540
    },
    "id": "0311eb03"
   },
   "outputs": [],
   "source": [
    "# submission1.to_csv(\"ASYRFC_4rd_Submission.csv\")"
   ]
  },
  {
   "cell_type": "code",
   "execution_count": 153,
   "id": "60e41035",
   "metadata": {
    "executionInfo": {
     "elapsed": 9,
     "status": "ok",
     "timestamp": 1653703519479,
     "user": {
      "displayName": "안상영",
      "userId": "03805254755243582882"
     },
     "user_tz": -540
    },
    "id": "60e41035"
   },
   "outputs": [],
   "source": [
    "submission2.to_csv(\"ASYGBC_7rd_Submission_22020528.csv\")"
   ]
  },
  {
   "cell_type": "code",
   "execution_count": null,
   "id": "12966c08",
   "metadata": {
    "executionInfo": {
     "elapsed": 10,
     "status": "ok",
     "timestamp": 1653703522665,
     "user": {
      "displayName": "안상영",
      "userId": "03805254755243582882"
     },
     "user_tz": -540
    },
    "id": "12966c08"
   },
   "outputs": [],
   "source": []
  },
  {
   "cell_type": "code",
   "execution_count": null,
   "id": "989c9ee0",
   "metadata": {
    "executionInfo": {
     "elapsed": 10,
     "status": "ok",
     "timestamp": 1653703523139,
     "user": {
      "displayName": "안상영",
      "userId": "03805254755243582882"
     },
     "user_tz": -540
    },
    "id": "989c9ee0"
   },
   "outputs": [],
   "source": []
  }
 ],
 "metadata": {
  "accelerator": "GPU",
  "colab": {
   "history_visible": true,
   "name": "타이타닉 분류 예측모형_11주차_5월14일(중요).ipynb의 사본",
   "provenance": [
    {
     "file_id": "14WCvtIJmeOLxcCEXLevafqiN2D1gbR_H",
     "timestamp": 1653704015377
    }
   ]
  },
  "kernelspec": {
   "display_name": "Python 3 (ipykernel)",
   "language": "python",
   "name": "python3"
  },
  "language_info": {
   "codemirror_mode": {
    "name": "ipython",
    "version": 3
   },
   "file_extension": ".py",
   "mimetype": "text/x-python",
   "name": "python",
   "nbconvert_exporter": "python",
   "pygments_lexer": "ipython3",
   "version": "3.9.7"
  }
 },
 "nbformat": 4,
 "nbformat_minor": 5
}
