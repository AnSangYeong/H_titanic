{
 "cells": [
  {
   "cell_type": "markdown",
   "id": "4fff0b5a",
   "metadata": {},
   "source": [
    "## 파이썬 기초문법 복습"
   ]
  },
  {
   "cell_type": "markdown",
   "id": "717aa88f",
   "metadata": {},
   "source": [
    "### 오늘의 학습목표\n",
    " - 사칙연산, 변수계산, 조건문, IF, 반복문 for, while, 함수 등의 기초문법을 이해해보자\n",
    " - 나는 오늘 파이썬 기초문법을 살펴봤고, 프로그래밍이라는게 뭔지 알겠다"
   ]
  },
  {
   "cell_type": "code",
   "execution_count": 7,
   "id": "40b453aa",
   "metadata": {},
   "outputs": [
    {
     "data": {
      "text/plain": [
       "3"
      ]
     },
     "execution_count": 7,
     "metadata": {},
     "output_type": "execute_result"
    }
   ],
   "source": [
    "1+2"
   ]
  },
  {
   "cell_type": "code",
   "execution_count": 8,
   "id": "26303259",
   "metadata": {},
   "outputs": [
    {
     "data": {
      "text/plain": [
       "8.0"
      ]
     },
     "execution_count": 8,
     "metadata": {},
     "output_type": "execute_result"
    }
   ],
   "source": [
    "16/2"
   ]
  },
  {
   "cell_type": "code",
   "execution_count": 10,
   "id": "6a07000c",
   "metadata": {},
   "outputs": [
    {
     "data": {
      "text/plain": [
       "5"
      ]
     },
     "execution_count": 10,
     "metadata": {},
     "output_type": "execute_result"
    }
   ],
   "source": [
    "16//3"
   ]
  },
  {
   "cell_type": "code",
   "execution_count": 12,
   "id": "7afccb0a",
   "metadata": {},
   "outputs": [
    {
     "data": {
      "text/plain": [
       "1"
      ]
     },
     "execution_count": 12,
     "metadata": {},
     "output_type": "execute_result"
    }
   ],
   "source": [
    "16%3"
   ]
  },
  {
   "cell_type": "markdown",
   "id": "e8b5c208",
   "metadata": {},
   "source": [
    "### 변수에 문자열 또는 숫자 할당"
   ]
  },
  {
   "cell_type": "code",
   "execution_count": 29,
   "id": "57bca178",
   "metadata": {},
   "outputs": [
    {
     "name": "stdout",
     "output_type": "stream",
     "text": [
      "15\n"
     ]
    },
    {
     "data": {
      "text/plain": [
       "0.6"
      ]
     },
     "execution_count": 29,
     "metadata": {},
     "output_type": "execute_result"
    }
   ],
   "source": [
    "a = 3\n",
    "b = 5\n",
    "\n",
    "print(a*b)\n",
    "a/b      # 참고 : 마지막줄은 무조건 실행하도록 함. 그래서 프린트 명령을 안해도 결과가 나타남"
   ]
  },
  {
   "cell_type": "code",
   "execution_count": 32,
   "id": "0031e036",
   "metadata": {},
   "outputs": [
    {
     "name": "stdout",
     "output_type": "stream",
     "text": [
      "6\n"
     ]
    }
   ],
   "source": [
    "a = 4 \n",
    "a = a+2\n",
    "print(a)"
   ]
  },
  {
   "cell_type": "code",
   "execution_count": 34,
   "id": "d71df8a0",
   "metadata": {},
   "outputs": [
    {
     "data": {
      "text/plain": [
       "23"
      ]
     },
     "execution_count": 34,
     "metadata": {},
     "output_type": "execute_result"
    }
   ],
   "source": [
    "x = 3\n",
    "a*x+b    # 위에 값들을 계속 값들을 저장하고 있음"
   ]
  },
  {
   "cell_type": "code",
   "execution_count": 35,
   "id": "615dc9b4",
   "metadata": {},
   "outputs": [],
   "source": [
    "naver = 601000"
   ]
  },
  {
   "cell_type": "code",
   "execution_count": 36,
   "id": "a88b96ec",
   "metadata": {},
   "outputs": [
    {
     "data": {
      "text/plain": [
       "601001"
      ]
     },
     "execution_count": 36,
     "metadata": {},
     "output_type": "execute_result"
    }
   ],
   "source": [
    "naver+1"
   ]
  },
  {
   "cell_type": "code",
   "execution_count": 40,
   "id": "914bb63d",
   "metadata": {},
   "outputs": [],
   "source": [
    "#문자할당\n",
    "hanyang = \"한양대학교\""
   ]
  },
  {
   "cell_type": "code",
   "execution_count": 39,
   "id": "7d7c3289",
   "metadata": {},
   "outputs": [
    {
     "data": {
      "text/plain": [
       "'한양대학교'"
      ]
     },
     "execution_count": 39,
     "metadata": {},
     "output_type": "execute_result"
    }
   ],
   "source": [
    "hanyang"
   ]
  },
  {
   "cell_type": "code",
   "execution_count": 42,
   "id": "c0345769",
   "metadata": {},
   "outputs": [
    {
     "data": {
      "text/plain": [
       "\"kyung's husband's name?\""
      ]
     },
     "execution_count": 42,
     "metadata": {},
     "output_type": "execute_result"
    }
   ],
   "source": [
    "\"kyung's husband's name?\""
   ]
  },
  {
   "cell_type": "markdown",
   "id": "a5bf5e5c",
   "metadata": {},
   "source": [
    "# 출력하기\n",
    "- integer : 숫자\n",
    "- string : 문자\n",
    "- float : 소수점"
   ]
  },
  {
   "cell_type": "code",
   "execution_count": 50,
   "id": "59c255b1",
   "metadata": {},
   "outputs": [
    {
     "name": "stdout",
     "output_type": "stream",
     "text": [
      "3\n",
      "5\n",
      "<class 'int'>\n",
      "<class 'str'>\n",
      "<class 'float'>\n"
     ]
    }
   ],
   "source": [
    "i = 3 \n",
    "print(i)\n",
    "print(i+2)\n",
    "\n",
    "print(type(i))\n",
    "print(type(hanyang))\n",
    "\n",
    "j = 0.3\n",
    "print(type(j))"
   ]
  },
  {
   "cell_type": "code",
   "execution_count": 51,
   "id": "5009ffc1",
   "metadata": {},
   "outputs": [
    {
     "data": {
      "text/plain": [
       "'12'"
      ]
     },
     "execution_count": 51,
     "metadata": {},
     "output_type": "execute_result"
    }
   ],
   "source": [
    "'1'+'2'"
   ]
  },
  {
   "cell_type": "code",
   "execution_count": 52,
   "id": "7a366343",
   "metadata": {},
   "outputs": [],
   "source": [
    "hanyang = '한양대학교'  "
   ]
  },
  {
   "cell_type": "code",
   "execution_count": 53,
   "id": "22b53adc",
   "metadata": {},
   "outputs": [],
   "source": [
    "hanyang = hanyang + ' 서울캠퍼스'"
   ]
  },
  {
   "cell_type": "code",
   "execution_count": 54,
   "id": "90d4d68e",
   "metadata": {},
   "outputs": [
    {
     "data": {
      "text/plain": [
       "'한양대학교 서울캠퍼스'"
      ]
     },
     "execution_count": 54,
     "metadata": {},
     "output_type": "execute_result"
    }
   ],
   "source": [
    "hanyang"
   ]
  },
  {
   "cell_type": "code",
   "execution_count": 55,
   "id": "18c889ae",
   "metadata": {},
   "outputs": [
    {
     "data": {
      "text/plain": [
       "str"
      ]
     },
     "execution_count": 55,
     "metadata": {},
     "output_type": "execute_result"
    }
   ],
   "source": [
    "type(hanyang)"
   ]
  },
  {
   "cell_type": "code",
   "execution_count": 58,
   "id": "6c9058a1",
   "metadata": {},
   "outputs": [
    {
     "data": {
      "text/plain": [
       "False"
      ]
     },
     "execution_count": 58,
     "metadata": {},
     "output_type": "execute_result"
    }
   ],
   "source": [
    "isinstance(hanyang, int)"
   ]
  },
  {
   "cell_type": "code",
   "execution_count": 59,
   "id": "840c3942",
   "metadata": {},
   "outputs": [],
   "source": [
    "### 포멧팅"
   ]
  },
  {
   "cell_type": "code",
   "execution_count": 82,
   "id": "48d71861",
   "metadata": {},
   "outputs": [
    {
     "data": {
      "text/plain": [
       "'kyung jin ate 5 banana and 4 apples and 10 pineapple 6 days'"
      ]
     },
     "execution_count": 82,
     "metadata": {},
     "output_type": "execute_result"
    }
   ],
   "source": [
    "banana=5\n",
    "apple=4\n",
    "pineapple =10\n",
    "days=6                           # 포멧 채우기\n",
    "\"kyung jin ate {0} banana and {1} apples and {2} pineapple {3} days\".format(banana, apple, pineapple, days)   # 0부터시작, 순번"
   ]
  },
  {
   "cell_type": "code",
   "execution_count": 83,
   "id": "f74b9063",
   "metadata": {},
   "outputs": [
    {
     "data": {
      "text/plain": [
       "'Kyung Jin ate 5 bananas and 4 apples and 10 pineapple for 6 days'"
      ]
     },
     "execution_count": 83,
     "metadata": {},
     "output_type": "execute_result"
    }
   ],
   "source": [
    "name = \"Kyung Jin\"               #pyhton 3.0부터 가능한 %로  포멧대체하기\n",
    "\"%s ate %d bananas and %d apples and %d pineapple for %d days\"%(name, banana, apple, pineapple, days)\n"
   ]
  },
  {
   "cell_type": "code",
   "execution_count": 75,
   "id": "992d5efb",
   "metadata": {},
   "outputs": [],
   "source": [
    "model_a = 4.456457667446\n",
    "model_b = 8.32543634253463"
   ]
  },
  {
   "cell_type": "code",
   "execution_count": 81,
   "id": "5b98ae9f",
   "metadata": {},
   "outputs": [
    {
     "data": {
      "text/plain": [
       "'A의 결과값은 4.456이고 B의 결과값은 8.3이다'"
      ]
     },
     "execution_count": 81,
     "metadata": {},
     "output_type": "execute_result"
    }
   ],
   "source": [
    "'A의 결과값은 {0:.3f}이고 B의 결과값은 {1:.1f}이다'.format(model_a, model_b)        #소수점 보여주기 제한"
   ]
  },
  {
   "cell_type": "markdown",
   "id": "2bb57dee",
   "metadata": {},
   "source": [
    "### 리스트"
   ]
  },
  {
   "cell_type": "code",
   "execution_count": 85,
   "id": "c4f58a3e",
   "metadata": {},
   "outputs": [],
   "source": [
    "a = 5"
   ]
  },
  {
   "cell_type": "code",
   "execution_count": 101,
   "id": "a73f99fb",
   "metadata": {},
   "outputs": [
    {
     "data": {
      "text/plain": [
       "['윤석열', '문재인', '박근혜', '노무현', '김대중']"
      ]
     },
     "execution_count": 101,
     "metadata": {},
     "output_type": "execute_result"
    }
   ],
   "source": [
    "korean_president = ['윤석열', '문재인', '박근혜', '노무현', '김대중']           # [ ]리스트\n",
    "korean_president"
   ]
  },
  {
   "cell_type": "code",
   "execution_count": 89,
   "id": "bb520157",
   "metadata": {},
   "outputs": [
    {
     "data": {
      "text/plain": [
       "'김대중'"
      ]
     },
     "execution_count": 89,
     "metadata": {},
     "output_type": "execute_result"
    }
   ],
   "source": [
    "korean_president[-1]"
   ]
  },
  {
   "cell_type": "markdown",
   "id": "dbaaaa89",
   "metadata": {},
   "source": [
    "- append() : 리스트의 끝에 새로운 원소 x를 추가"
   ]
  },
  {
   "cell_type": "code",
   "execution_count": 100,
   "id": "b844dd18",
   "metadata": {},
   "outputs": [],
   "source": [
    "korean_president.append('이명박')                         # 값 추가   append(값)"
   ]
  },
  {
   "cell_type": "code",
   "execution_count": 92,
   "id": "63e704e6",
   "metadata": {},
   "outputs": [
    {
     "data": {
      "text/plain": [
       "['윤석열', '문재인', '박근혜', '노무현', '김대중', '이명박']"
      ]
     },
     "execution_count": 92,
     "metadata": {},
     "output_type": "execute_result"
    }
   ],
   "source": [
    "korean_president"
   ]
  },
  {
   "cell_type": "code",
   "execution_count": 93,
   "id": "c13aa161",
   "metadata": {},
   "outputs": [],
   "source": [
    "korean_president.remove('이명박')"
   ]
  },
  {
   "cell_type": "code",
   "execution_count": 94,
   "id": "9b6651aa",
   "metadata": {},
   "outputs": [
    {
     "data": {
      "text/plain": [
       "['윤석열', '문재인', '박근혜', '노무현', '김대중']"
      ]
     },
     "execution_count": 94,
     "metadata": {},
     "output_type": "execute_result"
    }
   ],
   "source": [
    "korean_president"
   ]
  },
  {
   "cell_type": "markdown",
   "id": "493851c2",
   "metadata": {},
   "source": [
    "- insert(위치,값)"
   ]
  },
  {
   "cell_type": "code",
   "execution_count": 251,
   "id": "3f3fe92e",
   "metadata": {},
   "outputs": [],
   "source": [
    "korean_president.insert(3,'이명박')                      # 값 삽입  insert(위치,값)"
   ]
  },
  {
   "cell_type": "code",
   "execution_count": 252,
   "id": "6f5d7113",
   "metadata": {},
   "outputs": [
    {
     "data": {
      "text/plain": [
       "['윤석열', '문재인', '박근혜', '이명박', '노무현', '김대중']"
      ]
     },
     "execution_count": 252,
     "metadata": {},
     "output_type": "execute_result"
    }
   ],
   "source": [
    "korean_president"
   ]
  },
  {
   "cell_type": "code",
   "execution_count": 104,
   "id": "fa131915",
   "metadata": {},
   "outputs": [],
   "source": [
    "from random import randint"
   ]
  },
  {
   "cell_type": "code",
   "execution_count": 137,
   "id": "22a1852f",
   "metadata": {},
   "outputs": [
    {
     "data": {
      "text/plain": [
       "7"
      ]
     },
     "execution_count": 137,
     "metadata": {},
     "output_type": "execute_result"
    }
   ],
   "source": [
    "randint (0,7)"
   ]
  },
  {
   "cell_type": "markdown",
   "id": "e210ada2",
   "metadata": {},
   "source": [
    ">> **Q. 위 함수와 리스트를 사용해서 korean_president 리스트중에 대통령을 랜덤하게 선택해서 출력해보자"
   ]
  },
  {
   "cell_type": "code",
   "execution_count": 212,
   "id": "81697f36",
   "metadata": {},
   "outputs": [
    {
     "data": {
      "text/plain": [
       "'문재인'"
      ]
     },
     "execution_count": 212,
     "metadata": {},
     "output_type": "execute_result"
    }
   ],
   "source": [
    "korean_president[randint(0,5)]"
   ]
  },
  {
   "cell_type": "markdown",
   "id": "947d0d15",
   "metadata": {},
   "source": [
    "### 논리형\n",
    " - True/False -Boolean\n",
    " - True:1, False:0"
   ]
  },
  {
   "cell_type": "code",
   "execution_count": 213,
   "id": "a65f345d",
   "metadata": {},
   "outputs": [],
   "source": [
    "a = True\n",
    "b = False"
   ]
  },
  {
   "cell_type": "code",
   "execution_count": 214,
   "id": "1c1be9cf",
   "metadata": {},
   "outputs": [
    {
     "data": {
      "text/plain": [
       "1"
      ]
     },
     "execution_count": 214,
     "metadata": {},
     "output_type": "execute_result"
    }
   ],
   "source": [
    "a+b"
   ]
  },
  {
   "cell_type": "code",
   "execution_count": 215,
   "id": "9a110ee8",
   "metadata": {},
   "outputs": [
    {
     "data": {
      "text/plain": [
       "True"
      ]
     },
     "execution_count": 215,
     "metadata": {},
     "output_type": "execute_result"
    }
   ],
   "source": [
    "a or b"
   ]
  },
  {
   "cell_type": "code",
   "execution_count": 216,
   "id": "c8d76c03",
   "metadata": {},
   "outputs": [
    {
     "data": {
      "text/plain": [
       "False"
      ]
     },
     "execution_count": 216,
     "metadata": {},
     "output_type": "execute_result"
    }
   ],
   "source": [
    "a and b"
   ]
  },
  {
   "cell_type": "code",
   "execution_count": 217,
   "id": "06c0e20c",
   "metadata": {},
   "outputs": [
    {
     "data": {
      "text/plain": [
       "False"
      ]
     },
     "execution_count": 217,
     "metadata": {},
     "output_type": "execute_result"
    }
   ],
   "source": [
    "not a"
   ]
  },
  {
   "cell_type": "code",
   "execution_count": 218,
   "id": "bbf7dd07",
   "metadata": {},
   "outputs": [
    {
     "data": {
      "text/plain": [
       "True"
      ]
     },
     "execution_count": 218,
     "metadata": {},
     "output_type": "execute_result"
    }
   ],
   "source": [
    "not b"
   ]
  },
  {
   "cell_type": "code",
   "execution_count": 219,
   "id": "4df519f0",
   "metadata": {},
   "outputs": [
    {
     "data": {
      "text/plain": [
       "False"
      ]
     },
     "execution_count": 219,
     "metadata": {},
     "output_type": "execute_result"
    }
   ],
   "source": [
    "a == b"
   ]
  },
  {
   "cell_type": "code",
   "execution_count": 220,
   "id": "569551d4",
   "metadata": {},
   "outputs": [
    {
     "data": {
      "text/plain": [
       "True"
      ]
     },
     "execution_count": 220,
     "metadata": {},
     "output_type": "execute_result"
    }
   ],
   "source": [
    "a != b"
   ]
  },
  {
   "cell_type": "code",
   "execution_count": 221,
   "id": "950dd8b3",
   "metadata": {},
   "outputs": [
    {
     "data": {
      "text/plain": [
       "True"
      ]
     },
     "execution_count": 221,
     "metadata": {},
     "output_type": "execute_result"
    }
   ],
   "source": [
    "'A' == 'A'"
   ]
  },
  {
   "cell_type": "code",
   "execution_count": 222,
   "id": "3e0f6df9",
   "metadata": {},
   "outputs": [
    {
     "data": {
      "text/plain": [
       "True"
      ]
     },
     "execution_count": 222,
     "metadata": {},
     "output_type": "execute_result"
    }
   ],
   "source": [
    "1 != '1'"
   ]
  },
  {
   "cell_type": "code",
   "execution_count": 223,
   "id": "a76d1f8e",
   "metadata": {},
   "outputs": [
    {
     "data": {
      "text/plain": [
       "False"
      ]
     },
     "execution_count": 223,
     "metadata": {},
     "output_type": "execute_result"
    }
   ],
   "source": [
    "1 >+ 3"
   ]
  },
  {
   "cell_type": "markdown",
   "id": "015bf765",
   "metadata": {},
   "source": [
    "- 리스트내에 어떤 항목이 있는지를 확인하고 들어있는 True를 리턴하게 해보자"
   ]
  },
  {
   "cell_type": "code",
   "execution_count": 225,
   "id": "30b1fec3",
   "metadata": {},
   "outputs": [
    {
     "data": {
      "text/plain": [
       "True"
      ]
     },
     "execution_count": 225,
     "metadata": {},
     "output_type": "execute_result"
    }
   ],
   "source": [
    "'윤석열' in korean_president"
   ]
  },
  {
   "cell_type": "code",
   "execution_count": 226,
   "id": "0f450298",
   "metadata": {},
   "outputs": [
    {
     "data": {
      "text/plain": [
       "False"
      ]
     },
     "execution_count": 226,
     "metadata": {},
     "output_type": "execute_result"
    }
   ],
   "source": [
    "'이재명' in korean_president"
   ]
  },
  {
   "cell_type": "code",
   "execution_count": 227,
   "id": "f8d93bfd",
   "metadata": {},
   "outputs": [
    {
     "data": {
      "text/plain": [
       "['박근혜', '노무현', '김대중']"
      ]
     },
     "execution_count": 227,
     "metadata": {},
     "output_type": "execute_result"
    }
   ],
   "source": [
    "korean_president[2:5]"
   ]
  },
  {
   "cell_type": "code",
   "execution_count": 229,
   "id": "f86b0e73",
   "metadata": {},
   "outputs": [
    {
     "data": {
      "text/plain": [
       "['윤석열', '문재인', '박근혜']"
      ]
     },
     "execution_count": 229,
     "metadata": {},
     "output_type": "execute_result"
    }
   ],
   "source": [
    "korean_president[2:]\n",
    "korean_president[:3]"
   ]
  },
  {
   "cell_type": "markdown",
   "id": "aa67c8bb",
   "metadata": {},
   "source": [
    "### 반복문\n",
    "1) while\n",
    "- while 조건문 : \n",
    "- 조건문이 True인 경우에만 실행함\n",
    "- 거짓인 경우 while문이 반복문을 빠져나옴\n",
    "- 따라서, 조건문이 변경되는 로직이 있어야 함\n",
    "- 조건문이 변경되지 않으면 영원히 반복문을 빠져나오지 못 함\n",
    "\n",
    "2) for"
   ]
  },
  {
   "cell_type": "code",
   "execution_count": 231,
   "id": "a0542cf0",
   "metadata": {},
   "outputs": [
    {
     "name": "stdout",
     "output_type": "stream",
     "text": [
      "현재 i의 값은 0입니다\n",
      "현재 i의 값은 1입니다\n",
      "현재 i의 값은 2입니다\n",
      "현재 i의 값은 3입니다\n",
      "현재 i의 값은 4입니다\n",
      "현재 i의 값은 5입니다\n",
      "현재 i의 값은 6입니다\n",
      "현재 i의 값은 7입니다\n",
      "현재 i의 값은 8입니다\n",
      "현재 i의 값은 9입니다\n"
     ]
    }
   ],
   "source": [
    "i = 0\n",
    "while i < 10:\n",
    "    print(\"현재 i의 값은 %d입니다\"%i)\n",
    "    i += 1       #i=i+1"
   ]
  },
  {
   "cell_type": "code",
   "execution_count": 234,
   "id": "6105fc3b",
   "metadata": {},
   "outputs": [
    {
     "name": "stdout",
     "output_type": "stream",
     "text": [
      "현재 i의 값은 10입니다\n",
      "현재 i의 값은 9입니다\n",
      "현재 i의 값은 8입니다\n",
      "현재 i의 값은 7입니다\n",
      "현재 i의 값은 6입니다\n",
      "현재 i의 값은 5입니다\n",
      "현재 i의 값은 4입니다\n",
      "현재 i의 값은 3입니다\n",
      "현재 i의 값은 2입니다\n",
      "현재 i의 값은 1입니다\n"
     ]
    }
   ],
   "source": [
    "i = 10\n",
    "while i > 0:\n",
    "    print(\"현재 i의 값은 %d입니다\"%i)\n",
    "    i -= 1       #i=i+1"
   ]
  },
  {
   "cell_type": "code",
   "execution_count": 239,
   "id": "3c03a539",
   "metadata": {},
   "outputs": [
    {
     "data": {
      "text/plain": [
       "range(0, 9)"
      ]
     },
     "execution_count": 239,
     "metadata": {},
     "output_type": "execute_result"
    }
   ],
   "source": [
    "range(9)"
   ]
  },
  {
   "cell_type": "code",
   "execution_count": 238,
   "id": "1cc22224",
   "metadata": {},
   "outputs": [
    {
     "name": "stdout",
     "output_type": "stream",
     "text": [
      "현재 i의 값은 0입니다\n",
      "현재 i의 값은 1입니다\n",
      "현재 i의 값은 2입니다\n",
      "현재 i의 값은 3입니다\n",
      "현재 i의 값은 4입니다\n",
      "현재 i의 값은 5입니다\n",
      "현재 i의 값은 6입니다\n",
      "현재 i의 값은 7입니다\n",
      "현재 i의 값은 8입니다\n",
      "현재 i의 값은 9입니다\n"
     ]
    }
   ],
   "source": [
    "for i in range(10):\n",
    "    print(\"현재 i의 값은 %d입니다\"%i)"
   ]
  },
  {
   "cell_type": "code",
   "execution_count": 240,
   "id": "a24e1890",
   "metadata": {},
   "outputs": [
    {
     "name": "stdout",
     "output_type": "stream",
     "text": [
      "1\n",
      "2\n",
      "3\n"
     ]
    }
   ],
   "source": [
    "for i in range(1,4):\n",
    "    print(i)"
   ]
  },
  {
   "cell_type": "code",
   "execution_count": 253,
   "id": "206869d8",
   "metadata": {},
   "outputs": [
    {
     "name": "stdout",
     "output_type": "stream",
     "text": [
      "윤석열\n",
      "문재인\n",
      "박근혜\n",
      "이명박\n",
      "노무현\n",
      "김대중\n"
     ]
    }
   ],
   "source": [
    "for i in korean_president:\n",
    "    print(i)"
   ]
  },
  {
   "cell_type": "markdown",
   "id": "135dc299",
   "metadata": {},
   "source": [
    "> ** Q. 아래 코드를 수정해서 \"19대 대통령은 윤석열입니다\". \"18대 대통령은 문재인입니다\""
   ]
  },
  {
   "cell_type": "code",
   "execution_count": 254,
   "id": "24688bdf",
   "metadata": {},
   "outputs": [
    {
     "name": "stdout",
     "output_type": "stream",
     "text": [
      "19대 대통령은 윤석열입니다\n",
      "18대 대통령은 문재인입니다\n",
      "17대 대통령은 박근혜입니다\n",
      "16대 대통령은 이명박입니다\n",
      "15대 대통령은 노무현입니다\n",
      "14대 대통령은 김대중입니다\n"
     ]
    }
   ],
   "source": [
    "j = 19\n",
    "for i in korean_president:\n",
    "    print(\"%d대 대통령은 %s입니다\"%(j,i))\n",
    "    j -=1 "
   ]
  },
  {
   "cell_type": "code",
   "execution_count": 256,
   "id": "c04bac39",
   "metadata": {},
   "outputs": [
    {
     "name": "stdout",
     "output_type": "stream",
     "text": [
      "2\n",
      "3\n",
      "4\n",
      "5\n"
     ]
    }
   ],
   "source": [
    "for i in range(2,8):\n",
    "    if i == 6:\n",
    "        break\n",
    "    print(i)\n",
    "    "
   ]
  },
  {
   "cell_type": "code",
   "execution_count": 257,
   "id": "0f37fec7",
   "metadata": {},
   "outputs": [
    {
     "name": "stdout",
     "output_type": "stream",
     "text": [
      "0\n",
      "2\n",
      "4\n",
      "6\n",
      "8\n",
      "10\n",
      "12\n",
      "14\n",
      "16\n",
      "18\n",
      "20\n"
     ]
    }
   ],
   "source": [
    "for i in range(0,11):\n",
    "    print(i*2)"
   ]
  },
  {
   "cell_type": "markdown",
   "id": "2c41ed75",
   "metadata": {},
   "source": [
    "### 구구단 3단과 4단을 아래와 같이 출력해 주세요 \n",
    "1) for 문속에 for문이 들어가야함. 첫번째 for문은 3,4 단 관련. 두번째 for문은 1,10까지 의 범위\n",
    "2) 출력은 (%d X %d  = %d %(a,b,a*b))"
   ]
  },
  {
   "cell_type": "code",
   "execution_count": 268,
   "id": "fa64de65",
   "metadata": {},
   "outputs": [
    {
     "name": "stdout",
     "output_type": "stream",
     "text": [
      "--- 3단 시작 ---\n",
      "3 x 1 = 3\n",
      "3 x 2 = 6\n",
      "3 x 3 = 9\n",
      "3 x 4 = 12\n",
      "3 x 5 = 15\n",
      "3 x 6 = 18\n",
      "3 x 7 = 21\n",
      "3 x 8 = 24\n",
      "3 x 9 = 27\n",
      "--- 4단 시작 ---\n",
      "4 x 1 = 4\n",
      "4 x 2 = 8\n",
      "4 x 3 = 12\n",
      "4 x 4 = 16\n",
      "4 x 5 = 20\n",
      "4 x 6 = 24\n",
      "4 x 7 = 28\n",
      "4 x 8 = 32\n",
      "4 x 9 = 36\n"
     ]
    }
   ],
   "source": [
    "for a in range(3,5):\n",
    "    print(\"--- %d단 시작 ---\" %a)\n",
    "    for b in range(1,10):\n",
    "        print(\"%d x %d = %d\" %(a,b,a*b))"
   ]
  },
  {
   "cell_type": "markdown",
   "id": "11de2fc3",
   "metadata": {},
   "source": [
    "### 딕셔너리\n",
    "- 딕셔너리는 { }중괄호를 사용\n",
    "- 모든 항목이 {key:value}로 이루어져있다."
   ]
  },
  {
   "cell_type": "code",
   "execution_count": 276,
   "id": "d1ae8277",
   "metadata": {},
   "outputs": [],
   "source": [
    "professor = {'name':['차경진','임규건','조남재'], 'phone':['2220-1038','2222-2222','3333-3333'], 'Age':[40,51,62]}"
   ]
  },
  {
   "cell_type": "code",
   "execution_count": 277,
   "id": "5c5c2672",
   "metadata": {},
   "outputs": [
    {
     "data": {
      "text/plain": [
       "['차경진', '임규건', '조남재']"
      ]
     },
     "execution_count": 277,
     "metadata": {},
     "output_type": "execute_result"
    }
   ],
   "source": [
    "professor['name']"
   ]
  },
  {
   "cell_type": "code",
   "execution_count": 278,
   "id": "01222982",
   "metadata": {},
   "outputs": [
    {
     "data": {
      "text/plain": [
       "[40, 51, 62]"
      ]
     },
     "execution_count": 278,
     "metadata": {},
     "output_type": "execute_result"
    }
   ],
   "source": [
    "professor['Age']"
   ]
  },
  {
   "cell_type": "code",
   "execution_count": 279,
   "id": "e84eeb8b",
   "metadata": {},
   "outputs": [],
   "source": [
    "professor['주소'] = [\"동대문구\",\"강남구\",'서초구']"
   ]
  },
  {
   "cell_type": "code",
   "execution_count": 280,
   "id": "8947b456",
   "metadata": {},
   "outputs": [
    {
     "data": {
      "text/plain": [
       "{'name': ['차경진', '임규건', '조남재'],\n",
       " 'phone': ['2220-1038', '2222-2222', '3333-3333'],\n",
       " 'Age': [40, 51, 62],\n",
       " '주소': ['동대문구', '강남구', '서초구']}"
      ]
     },
     "execution_count": 280,
     "metadata": {},
     "output_type": "execute_result"
    }
   ],
   "source": [
    "professor"
   ]
  },
  {
   "cell_type": "code",
   "execution_count": 281,
   "id": "b705c047",
   "metadata": {},
   "outputs": [
    {
     "data": {
      "text/plain": [
       "dict_keys(['name', 'phone', 'Age', '주소'])"
      ]
     },
     "execution_count": 281,
     "metadata": {},
     "output_type": "execute_result"
    }
   ],
   "source": [
    "professor.keys()"
   ]
  },
  {
   "cell_type": "code",
   "execution_count": 282,
   "id": "e5d7954f",
   "metadata": {},
   "outputs": [
    {
     "data": {
      "text/plain": [
       "dict_values([['차경진', '임규건', '조남재'], ['2220-1038', '2222-2222', '3333-3333'], [40, 51, 62], ['동대문구', '강남구', '서초구']])"
      ]
     },
     "execution_count": 282,
     "metadata": {},
     "output_type": "execute_result"
    }
   ],
   "source": [
    "professor.values()"
   ]
  },
  {
   "cell_type": "code",
   "execution_count": 283,
   "id": "c433ed5d",
   "metadata": {},
   "outputs": [
    {
     "data": {
      "text/plain": [
       "False"
      ]
     },
     "execution_count": 283,
     "metadata": {},
     "output_type": "execute_result"
    }
   ],
   "source": [
    "'백승익' in professor.values()"
   ]
  },
  {
   "cell_type": "code",
   "execution_count": 286,
   "id": "c5f30a2e",
   "metadata": {},
   "outputs": [
    {
     "data": {
      "text/plain": [
       "True"
      ]
     },
     "execution_count": 286,
     "metadata": {},
     "output_type": "execute_result"
    }
   ],
   "source": [
    "'임규건' in professor['name']"
   ]
  },
  {
   "cell_type": "code",
   "execution_count": 288,
   "id": "6a17bd32",
   "metadata": {},
   "outputs": [
    {
     "data": {
      "text/plain": [
       "True"
      ]
     },
     "execution_count": 288,
     "metadata": {},
     "output_type": "execute_result"
    }
   ],
   "source": [
    "'주소' in professor.keys()"
   ]
  },
  {
   "cell_type": "code",
   "execution_count": null,
   "id": "f124f936",
   "metadata": {},
   "outputs": [],
   "source": []
  }
 ],
 "metadata": {
  "kernelspec": {
   "display_name": "Python 3 (ipykernel)",
   "language": "python",
   "name": "python3"
  },
  "language_info": {
   "codemirror_mode": {
    "name": "ipython",
    "version": 3
   },
   "file_extension": ".py",
   "mimetype": "text/x-python",
   "name": "python",
   "nbconvert_exporter": "python",
   "pygments_lexer": "ipython3",
   "version": "3.9.7"
  }
 },
 "nbformat": 4,
 "nbformat_minor": 5
}
