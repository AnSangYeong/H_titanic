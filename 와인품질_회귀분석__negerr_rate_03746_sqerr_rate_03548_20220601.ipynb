{
 "cells": [
  {
   "cell_type": "code",
   "execution_count": 1,
   "id": "dc40797c",
   "metadata": {
    "id": "dc40797c"
   },
   "outputs": [],
   "source": [
    "import pandas as pd\n",
    "import matplotlib.pyplot as plt\n",
    "import seaborn as sns\n",
    "import numpy as np\n",
    "\n",
    "from matplotlib.pylab import rcParams\n",
    "rcParams['figure.figsize'] = 18,9\n",
    "rcParams['font.family'] = 'AppleGothic' #malgun Gothic\n",
    "\n",
    "\n",
    "# from google.colab import files     #colab 돌릴때\n",
    "# uploaded = files.upload()          #colab 돌릴때"
   ]
  },
  {
   "cell_type": "code",
   "execution_count": 2,
   "id": "3d3d71e0",
   "metadata": {
    "colab": {
     "base_uri": "https://localhost:8080/",
     "height": 224
    },
    "id": "3d3d71e0",
    "outputId": "3f392715-c57c-4a6c-ab8b-252bceb9dd5a"
   },
   "outputs": [
    {
     "name": "stdout",
     "output_type": "stream",
     "text": [
      "(1599, 12)\n"
     ]
    },
    {
     "data": {
      "text/html": [
       "<div>\n",
       "<style scoped>\n",
       "    .dataframe tbody tr th:only-of-type {\n",
       "        vertical-align: middle;\n",
       "    }\n",
       "\n",
       "    .dataframe tbody tr th {\n",
       "        vertical-align: top;\n",
       "    }\n",
       "\n",
       "    .dataframe thead th {\n",
       "        text-align: right;\n",
       "    }\n",
       "</style>\n",
       "<table border=\"1\" class=\"dataframe\">\n",
       "  <thead>\n",
       "    <tr style=\"text-align: right;\">\n",
       "      <th></th>\n",
       "      <th>fixed acidity</th>\n",
       "      <th>volatile acidity</th>\n",
       "      <th>citric acid</th>\n",
       "      <th>residual sugar</th>\n",
       "      <th>chlorides</th>\n",
       "      <th>free sulfur dioxide</th>\n",
       "      <th>total sulfur dioxide</th>\n",
       "      <th>density</th>\n",
       "      <th>pH</th>\n",
       "      <th>sulphates</th>\n",
       "      <th>alcohol</th>\n",
       "      <th>quality</th>\n",
       "    </tr>\n",
       "  </thead>\n",
       "  <tbody>\n",
       "    <tr>\n",
       "      <th>0</th>\n",
       "      <td>7.4</td>\n",
       "      <td>0.70</td>\n",
       "      <td>0.00</td>\n",
       "      <td>1.9</td>\n",
       "      <td>0.076</td>\n",
       "      <td>11.0</td>\n",
       "      <td>34.0</td>\n",
       "      <td>0.9978</td>\n",
       "      <td>3.51</td>\n",
       "      <td>0.56</td>\n",
       "      <td>9.4</td>\n",
       "      <td>5</td>\n",
       "    </tr>\n",
       "    <tr>\n",
       "      <th>1</th>\n",
       "      <td>7.8</td>\n",
       "      <td>0.88</td>\n",
       "      <td>0.00</td>\n",
       "      <td>2.6</td>\n",
       "      <td>0.098</td>\n",
       "      <td>25.0</td>\n",
       "      <td>67.0</td>\n",
       "      <td>0.9968</td>\n",
       "      <td>3.20</td>\n",
       "      <td>0.68</td>\n",
       "      <td>9.8</td>\n",
       "      <td>5</td>\n",
       "    </tr>\n",
       "    <tr>\n",
       "      <th>2</th>\n",
       "      <td>7.8</td>\n",
       "      <td>0.76</td>\n",
       "      <td>0.04</td>\n",
       "      <td>2.3</td>\n",
       "      <td>0.092</td>\n",
       "      <td>15.0</td>\n",
       "      <td>54.0</td>\n",
       "      <td>0.9970</td>\n",
       "      <td>3.26</td>\n",
       "      <td>0.65</td>\n",
       "      <td>9.8</td>\n",
       "      <td>5</td>\n",
       "    </tr>\n",
       "    <tr>\n",
       "      <th>3</th>\n",
       "      <td>11.2</td>\n",
       "      <td>0.28</td>\n",
       "      <td>0.56</td>\n",
       "      <td>1.9</td>\n",
       "      <td>0.075</td>\n",
       "      <td>17.0</td>\n",
       "      <td>60.0</td>\n",
       "      <td>0.9980</td>\n",
       "      <td>3.16</td>\n",
       "      <td>0.58</td>\n",
       "      <td>9.8</td>\n",
       "      <td>6</td>\n",
       "    </tr>\n",
       "    <tr>\n",
       "      <th>4</th>\n",
       "      <td>7.4</td>\n",
       "      <td>0.70</td>\n",
       "      <td>0.00</td>\n",
       "      <td>1.9</td>\n",
       "      <td>0.076</td>\n",
       "      <td>11.0</td>\n",
       "      <td>34.0</td>\n",
       "      <td>0.9978</td>\n",
       "      <td>3.51</td>\n",
       "      <td>0.56</td>\n",
       "      <td>9.4</td>\n",
       "      <td>5</td>\n",
       "    </tr>\n",
       "  </tbody>\n",
       "</table>\n",
       "</div>"
      ],
      "text/plain": [
       "   fixed acidity  volatile acidity  citric acid  residual sugar  chlorides  \\\n",
       "0            7.4              0.70         0.00             1.9      0.076   \n",
       "1            7.8              0.88         0.00             2.6      0.098   \n",
       "2            7.8              0.76         0.04             2.3      0.092   \n",
       "3           11.2              0.28         0.56             1.9      0.075   \n",
       "4            7.4              0.70         0.00             1.9      0.076   \n",
       "\n",
       "   free sulfur dioxide  total sulfur dioxide  density    pH  sulphates  \\\n",
       "0                 11.0                  34.0   0.9978  3.51       0.56   \n",
       "1                 25.0                  67.0   0.9968  3.20       0.68   \n",
       "2                 15.0                  54.0   0.9970  3.26       0.65   \n",
       "3                 17.0                  60.0   0.9980  3.16       0.58   \n",
       "4                 11.0                  34.0   0.9978  3.51       0.56   \n",
       "\n",
       "   alcohol  quality  \n",
       "0      9.4        5  \n",
       "1      9.8        5  \n",
       "2      9.8        5  \n",
       "3      9.8        6  \n",
       "4      9.4        5  "
      ]
     },
     "execution_count": 2,
     "metadata": {},
     "output_type": "execute_result"
    }
   ],
   "source": [
    "red = pd.read_csv(\"winequality-red.csv\", sep=';')             # 구분자가 콤마, 가 아닌....  세미콜론;임\n",
    "print(red.shape)\n",
    "red.head()"
   ]
  },
  {
   "cell_type": "code",
   "execution_count": 3,
   "id": "17cabaeb",
   "metadata": {
    "id": "17cabaeb"
   },
   "outputs": [],
   "source": [
    "import glob      # 묶어주는 라이브러리\n",
    "import os        # 폴더를 컨트롤"
   ]
  },
  {
   "cell_type": "code",
   "execution_count": 4,
   "id": "b69ed2d0",
   "metadata": {
    "colab": {
     "base_uri": "https://localhost:8080/"
    },
    "id": "b69ed2d0",
    "outputId": "1efbfbb3-29bc-42b1-9f4c-3539bce4879a"
   },
   "outputs": [
    {
     "data": {
      "text/plain": [
       "['winequality-red.csv', 'winequality-white.csv']"
      ]
     },
     "execution_count": 4,
     "metadata": {},
     "output_type": "execute_result"
    }
   ],
   "source": [
    "all_files = glob.glob(os.path.join('wine*'))\n",
    "all_files"
   ]
  },
  {
   "cell_type": "code",
   "execution_count": 5,
   "id": "1ee66cc5",
   "metadata": {
    "id": "1ee66cc5"
   },
   "outputs": [],
   "source": [
    "all_data = []     # 모든 데이터를 저장하기 위해 빈리스트를 만들어둠\n",
    "\n",
    "i=0\n",
    "\n",
    "for file in all_files:\n",
    "    data = pd.read_csv(file, sep=';')\n",
    "    data['type']=i\n",
    "    all_data.append(data)\n",
    "    i+=1         # 타입을 확인함.   레드는 0, 화이트는 1로 정의하여 와인 구분함.\n",
    "    \n",
    "wine = pd.concat(all_data, ignore_index=True)      # 데이터를 합침concat, concat은 axis가 기본값이   0임,  \n",
    "                                                    #기존인데스를 가지고 와서 6천여개중 4900여개로 표시됨, 그래서 기존 인데스 무시처리"
   ]
  },
  {
   "cell_type": "code",
   "execution_count": 6,
   "id": "4828df38",
   "metadata": {
    "colab": {
     "base_uri": "https://localhost:8080/",
     "height": 423
    },
    "id": "4828df38",
    "outputId": "5305f208-cf37-4b80-b13e-4040bffd6e95",
    "scrolled": true
   },
   "outputs": [
    {
     "data": {
      "text/html": [
       "<div>\n",
       "<style scoped>\n",
       "    .dataframe tbody tr th:only-of-type {\n",
       "        vertical-align: middle;\n",
       "    }\n",
       "\n",
       "    .dataframe tbody tr th {\n",
       "        vertical-align: top;\n",
       "    }\n",
       "\n",
       "    .dataframe thead th {\n",
       "        text-align: right;\n",
       "    }\n",
       "</style>\n",
       "<table border=\"1\" class=\"dataframe\">\n",
       "  <thead>\n",
       "    <tr style=\"text-align: right;\">\n",
       "      <th></th>\n",
       "      <th>fixed acidity</th>\n",
       "      <th>volatile acidity</th>\n",
       "      <th>citric acid</th>\n",
       "      <th>residual sugar</th>\n",
       "      <th>chlorides</th>\n",
       "      <th>free sulfur dioxide</th>\n",
       "      <th>total sulfur dioxide</th>\n",
       "      <th>density</th>\n",
       "      <th>pH</th>\n",
       "      <th>sulphates</th>\n",
       "      <th>alcohol</th>\n",
       "      <th>quality</th>\n",
       "      <th>type</th>\n",
       "    </tr>\n",
       "  </thead>\n",
       "  <tbody>\n",
       "    <tr>\n",
       "      <th>0</th>\n",
       "      <td>7.4</td>\n",
       "      <td>0.70</td>\n",
       "      <td>0.00</td>\n",
       "      <td>1.9</td>\n",
       "      <td>0.076</td>\n",
       "      <td>11.0</td>\n",
       "      <td>34.0</td>\n",
       "      <td>0.99780</td>\n",
       "      <td>3.51</td>\n",
       "      <td>0.56</td>\n",
       "      <td>9.4</td>\n",
       "      <td>5</td>\n",
       "      <td>0</td>\n",
       "    </tr>\n",
       "    <tr>\n",
       "      <th>1</th>\n",
       "      <td>7.8</td>\n",
       "      <td>0.88</td>\n",
       "      <td>0.00</td>\n",
       "      <td>2.6</td>\n",
       "      <td>0.098</td>\n",
       "      <td>25.0</td>\n",
       "      <td>67.0</td>\n",
       "      <td>0.99680</td>\n",
       "      <td>3.20</td>\n",
       "      <td>0.68</td>\n",
       "      <td>9.8</td>\n",
       "      <td>5</td>\n",
       "      <td>0</td>\n",
       "    </tr>\n",
       "    <tr>\n",
       "      <th>2</th>\n",
       "      <td>7.8</td>\n",
       "      <td>0.76</td>\n",
       "      <td>0.04</td>\n",
       "      <td>2.3</td>\n",
       "      <td>0.092</td>\n",
       "      <td>15.0</td>\n",
       "      <td>54.0</td>\n",
       "      <td>0.99700</td>\n",
       "      <td>3.26</td>\n",
       "      <td>0.65</td>\n",
       "      <td>9.8</td>\n",
       "      <td>5</td>\n",
       "      <td>0</td>\n",
       "    </tr>\n",
       "    <tr>\n",
       "      <th>3</th>\n",
       "      <td>11.2</td>\n",
       "      <td>0.28</td>\n",
       "      <td>0.56</td>\n",
       "      <td>1.9</td>\n",
       "      <td>0.075</td>\n",
       "      <td>17.0</td>\n",
       "      <td>60.0</td>\n",
       "      <td>0.99800</td>\n",
       "      <td>3.16</td>\n",
       "      <td>0.58</td>\n",
       "      <td>9.8</td>\n",
       "      <td>6</td>\n",
       "      <td>0</td>\n",
       "    </tr>\n",
       "    <tr>\n",
       "      <th>4</th>\n",
       "      <td>7.4</td>\n",
       "      <td>0.70</td>\n",
       "      <td>0.00</td>\n",
       "      <td>1.9</td>\n",
       "      <td>0.076</td>\n",
       "      <td>11.0</td>\n",
       "      <td>34.0</td>\n",
       "      <td>0.99780</td>\n",
       "      <td>3.51</td>\n",
       "      <td>0.56</td>\n",
       "      <td>9.4</td>\n",
       "      <td>5</td>\n",
       "      <td>0</td>\n",
       "    </tr>\n",
       "    <tr>\n",
       "      <th>...</th>\n",
       "      <td>...</td>\n",
       "      <td>...</td>\n",
       "      <td>...</td>\n",
       "      <td>...</td>\n",
       "      <td>...</td>\n",
       "      <td>...</td>\n",
       "      <td>...</td>\n",
       "      <td>...</td>\n",
       "      <td>...</td>\n",
       "      <td>...</td>\n",
       "      <td>...</td>\n",
       "      <td>...</td>\n",
       "      <td>...</td>\n",
       "    </tr>\n",
       "    <tr>\n",
       "      <th>6492</th>\n",
       "      <td>6.2</td>\n",
       "      <td>0.21</td>\n",
       "      <td>0.29</td>\n",
       "      <td>1.6</td>\n",
       "      <td>0.039</td>\n",
       "      <td>24.0</td>\n",
       "      <td>92.0</td>\n",
       "      <td>0.99114</td>\n",
       "      <td>3.27</td>\n",
       "      <td>0.50</td>\n",
       "      <td>11.2</td>\n",
       "      <td>6</td>\n",
       "      <td>1</td>\n",
       "    </tr>\n",
       "    <tr>\n",
       "      <th>6493</th>\n",
       "      <td>6.6</td>\n",
       "      <td>0.32</td>\n",
       "      <td>0.36</td>\n",
       "      <td>8.0</td>\n",
       "      <td>0.047</td>\n",
       "      <td>57.0</td>\n",
       "      <td>168.0</td>\n",
       "      <td>0.99490</td>\n",
       "      <td>3.15</td>\n",
       "      <td>0.46</td>\n",
       "      <td>9.6</td>\n",
       "      <td>5</td>\n",
       "      <td>1</td>\n",
       "    </tr>\n",
       "    <tr>\n",
       "      <th>6494</th>\n",
       "      <td>6.5</td>\n",
       "      <td>0.24</td>\n",
       "      <td>0.19</td>\n",
       "      <td>1.2</td>\n",
       "      <td>0.041</td>\n",
       "      <td>30.0</td>\n",
       "      <td>111.0</td>\n",
       "      <td>0.99254</td>\n",
       "      <td>2.99</td>\n",
       "      <td>0.46</td>\n",
       "      <td>9.4</td>\n",
       "      <td>6</td>\n",
       "      <td>1</td>\n",
       "    </tr>\n",
       "    <tr>\n",
       "      <th>6495</th>\n",
       "      <td>5.5</td>\n",
       "      <td>0.29</td>\n",
       "      <td>0.30</td>\n",
       "      <td>1.1</td>\n",
       "      <td>0.022</td>\n",
       "      <td>20.0</td>\n",
       "      <td>110.0</td>\n",
       "      <td>0.98869</td>\n",
       "      <td>3.34</td>\n",
       "      <td>0.38</td>\n",
       "      <td>12.8</td>\n",
       "      <td>7</td>\n",
       "      <td>1</td>\n",
       "    </tr>\n",
       "    <tr>\n",
       "      <th>6496</th>\n",
       "      <td>6.0</td>\n",
       "      <td>0.21</td>\n",
       "      <td>0.38</td>\n",
       "      <td>0.8</td>\n",
       "      <td>0.020</td>\n",
       "      <td>22.0</td>\n",
       "      <td>98.0</td>\n",
       "      <td>0.98941</td>\n",
       "      <td>3.26</td>\n",
       "      <td>0.32</td>\n",
       "      <td>11.8</td>\n",
       "      <td>6</td>\n",
       "      <td>1</td>\n",
       "    </tr>\n",
       "  </tbody>\n",
       "</table>\n",
       "<p>6497 rows × 13 columns</p>\n",
       "</div>"
      ],
      "text/plain": [
       "      fixed acidity  volatile acidity  citric acid  residual sugar  chlorides  \\\n",
       "0               7.4              0.70         0.00             1.9      0.076   \n",
       "1               7.8              0.88         0.00             2.6      0.098   \n",
       "2               7.8              0.76         0.04             2.3      0.092   \n",
       "3              11.2              0.28         0.56             1.9      0.075   \n",
       "4               7.4              0.70         0.00             1.9      0.076   \n",
       "...             ...               ...          ...             ...        ...   \n",
       "6492            6.2              0.21         0.29             1.6      0.039   \n",
       "6493            6.6              0.32         0.36             8.0      0.047   \n",
       "6494            6.5              0.24         0.19             1.2      0.041   \n",
       "6495            5.5              0.29         0.30             1.1      0.022   \n",
       "6496            6.0              0.21         0.38             0.8      0.020   \n",
       "\n",
       "      free sulfur dioxide  total sulfur dioxide  density    pH  sulphates  \\\n",
       "0                    11.0                  34.0  0.99780  3.51       0.56   \n",
       "1                    25.0                  67.0  0.99680  3.20       0.68   \n",
       "2                    15.0                  54.0  0.99700  3.26       0.65   \n",
       "3                    17.0                  60.0  0.99800  3.16       0.58   \n",
       "4                    11.0                  34.0  0.99780  3.51       0.56   \n",
       "...                   ...                   ...      ...   ...        ...   \n",
       "6492                 24.0                  92.0  0.99114  3.27       0.50   \n",
       "6493                 57.0                 168.0  0.99490  3.15       0.46   \n",
       "6494                 30.0                 111.0  0.99254  2.99       0.46   \n",
       "6495                 20.0                 110.0  0.98869  3.34       0.38   \n",
       "6496                 22.0                  98.0  0.98941  3.26       0.32   \n",
       "\n",
       "      alcohol  quality  type  \n",
       "0         9.4        5     0  \n",
       "1         9.8        5     0  \n",
       "2         9.8        5     0  \n",
       "3         9.8        6     0  \n",
       "4         9.4        5     0  \n",
       "...       ...      ...   ...  \n",
       "6492     11.2        6     1  \n",
       "6493      9.6        5     1  \n",
       "6494      9.4        6     1  \n",
       "6495     12.8        7     1  \n",
       "6496     11.8        6     1  \n",
       "\n",
       "[6497 rows x 13 columns]"
      ]
     },
     "execution_count": 6,
     "metadata": {},
     "output_type": "execute_result"
    }
   ],
   "source": [
    "wine"
   ]
  },
  {
   "cell_type": "code",
   "execution_count": 7,
   "id": "f477fe1f",
   "metadata": {
    "colab": {
     "base_uri": "https://localhost:8080/",
     "height": 300
    },
    "id": "f477fe1f",
    "outputId": "4adbbe91-2c51-4527-f47f-21f4bca3e5aa"
   },
   "outputs": [
    {
     "data": {
      "text/html": [
       "<div>\n",
       "<style scoped>\n",
       "    .dataframe tbody tr th:only-of-type {\n",
       "        vertical-align: middle;\n",
       "    }\n",
       "\n",
       "    .dataframe tbody tr th {\n",
       "        vertical-align: top;\n",
       "    }\n",
       "\n",
       "    .dataframe thead th {\n",
       "        text-align: right;\n",
       "    }\n",
       "</style>\n",
       "<table border=\"1\" class=\"dataframe\">\n",
       "  <thead>\n",
       "    <tr style=\"text-align: right;\">\n",
       "      <th></th>\n",
       "      <th>fixed acidity</th>\n",
       "      <th>volatile acidity</th>\n",
       "      <th>citric acid</th>\n",
       "      <th>residual sugar</th>\n",
       "      <th>chlorides</th>\n",
       "      <th>free sulfur dioxide</th>\n",
       "      <th>total sulfur dioxide</th>\n",
       "      <th>density</th>\n",
       "      <th>pH</th>\n",
       "      <th>sulphates</th>\n",
       "      <th>alcohol</th>\n",
       "      <th>quality</th>\n",
       "      <th>type</th>\n",
       "    </tr>\n",
       "  </thead>\n",
       "  <tbody>\n",
       "    <tr>\n",
       "      <th>count</th>\n",
       "      <td>6497.000000</td>\n",
       "      <td>6497.000000</td>\n",
       "      <td>6497.000000</td>\n",
       "      <td>6497.000000</td>\n",
       "      <td>6497.000000</td>\n",
       "      <td>6497.000000</td>\n",
       "      <td>6497.000000</td>\n",
       "      <td>6497.000000</td>\n",
       "      <td>6497.000000</td>\n",
       "      <td>6497.000000</td>\n",
       "      <td>6497.000000</td>\n",
       "      <td>6497.000000</td>\n",
       "      <td>6497.000000</td>\n",
       "    </tr>\n",
       "    <tr>\n",
       "      <th>mean</th>\n",
       "      <td>7.215307</td>\n",
       "      <td>0.339666</td>\n",
       "      <td>0.318633</td>\n",
       "      <td>5.443235</td>\n",
       "      <td>0.056034</td>\n",
       "      <td>30.525319</td>\n",
       "      <td>115.744574</td>\n",
       "      <td>0.994697</td>\n",
       "      <td>3.218501</td>\n",
       "      <td>0.531268</td>\n",
       "      <td>10.491801</td>\n",
       "      <td>5.818378</td>\n",
       "      <td>0.753886</td>\n",
       "    </tr>\n",
       "    <tr>\n",
       "      <th>std</th>\n",
       "      <td>1.296434</td>\n",
       "      <td>0.164636</td>\n",
       "      <td>0.145318</td>\n",
       "      <td>4.757804</td>\n",
       "      <td>0.035034</td>\n",
       "      <td>17.749400</td>\n",
       "      <td>56.521855</td>\n",
       "      <td>0.002999</td>\n",
       "      <td>0.160787</td>\n",
       "      <td>0.148806</td>\n",
       "      <td>1.192712</td>\n",
       "      <td>0.873255</td>\n",
       "      <td>0.430779</td>\n",
       "    </tr>\n",
       "    <tr>\n",
       "      <th>min</th>\n",
       "      <td>3.800000</td>\n",
       "      <td>0.080000</td>\n",
       "      <td>0.000000</td>\n",
       "      <td>0.600000</td>\n",
       "      <td>0.009000</td>\n",
       "      <td>1.000000</td>\n",
       "      <td>6.000000</td>\n",
       "      <td>0.987110</td>\n",
       "      <td>2.720000</td>\n",
       "      <td>0.220000</td>\n",
       "      <td>8.000000</td>\n",
       "      <td>3.000000</td>\n",
       "      <td>0.000000</td>\n",
       "    </tr>\n",
       "    <tr>\n",
       "      <th>25%</th>\n",
       "      <td>6.400000</td>\n",
       "      <td>0.230000</td>\n",
       "      <td>0.250000</td>\n",
       "      <td>1.800000</td>\n",
       "      <td>0.038000</td>\n",
       "      <td>17.000000</td>\n",
       "      <td>77.000000</td>\n",
       "      <td>0.992340</td>\n",
       "      <td>3.110000</td>\n",
       "      <td>0.430000</td>\n",
       "      <td>9.500000</td>\n",
       "      <td>5.000000</td>\n",
       "      <td>1.000000</td>\n",
       "    </tr>\n",
       "    <tr>\n",
       "      <th>50%</th>\n",
       "      <td>7.000000</td>\n",
       "      <td>0.290000</td>\n",
       "      <td>0.310000</td>\n",
       "      <td>3.000000</td>\n",
       "      <td>0.047000</td>\n",
       "      <td>29.000000</td>\n",
       "      <td>118.000000</td>\n",
       "      <td>0.994890</td>\n",
       "      <td>3.210000</td>\n",
       "      <td>0.510000</td>\n",
       "      <td>10.300000</td>\n",
       "      <td>6.000000</td>\n",
       "      <td>1.000000</td>\n",
       "    </tr>\n",
       "    <tr>\n",
       "      <th>75%</th>\n",
       "      <td>7.700000</td>\n",
       "      <td>0.400000</td>\n",
       "      <td>0.390000</td>\n",
       "      <td>8.100000</td>\n",
       "      <td>0.065000</td>\n",
       "      <td>41.000000</td>\n",
       "      <td>156.000000</td>\n",
       "      <td>0.996990</td>\n",
       "      <td>3.320000</td>\n",
       "      <td>0.600000</td>\n",
       "      <td>11.300000</td>\n",
       "      <td>6.000000</td>\n",
       "      <td>1.000000</td>\n",
       "    </tr>\n",
       "    <tr>\n",
       "      <th>max</th>\n",
       "      <td>15.900000</td>\n",
       "      <td>1.580000</td>\n",
       "      <td>1.660000</td>\n",
       "      <td>65.800000</td>\n",
       "      <td>0.611000</td>\n",
       "      <td>289.000000</td>\n",
       "      <td>440.000000</td>\n",
       "      <td>1.038980</td>\n",
       "      <td>4.010000</td>\n",
       "      <td>2.000000</td>\n",
       "      <td>14.900000</td>\n",
       "      <td>9.000000</td>\n",
       "      <td>1.000000</td>\n",
       "    </tr>\n",
       "  </tbody>\n",
       "</table>\n",
       "</div>"
      ],
      "text/plain": [
       "       fixed acidity  volatile acidity  citric acid  residual sugar  \\\n",
       "count    6497.000000       6497.000000  6497.000000     6497.000000   \n",
       "mean        7.215307          0.339666     0.318633        5.443235   \n",
       "std         1.296434          0.164636     0.145318        4.757804   \n",
       "min         3.800000          0.080000     0.000000        0.600000   \n",
       "25%         6.400000          0.230000     0.250000        1.800000   \n",
       "50%         7.000000          0.290000     0.310000        3.000000   \n",
       "75%         7.700000          0.400000     0.390000        8.100000   \n",
       "max        15.900000          1.580000     1.660000       65.800000   \n",
       "\n",
       "         chlorides  free sulfur dioxide  total sulfur dioxide      density  \\\n",
       "count  6497.000000          6497.000000           6497.000000  6497.000000   \n",
       "mean      0.056034            30.525319            115.744574     0.994697   \n",
       "std       0.035034            17.749400             56.521855     0.002999   \n",
       "min       0.009000             1.000000              6.000000     0.987110   \n",
       "25%       0.038000            17.000000             77.000000     0.992340   \n",
       "50%       0.047000            29.000000            118.000000     0.994890   \n",
       "75%       0.065000            41.000000            156.000000     0.996990   \n",
       "max       0.611000           289.000000            440.000000     1.038980   \n",
       "\n",
       "                pH    sulphates      alcohol      quality         type  \n",
       "count  6497.000000  6497.000000  6497.000000  6497.000000  6497.000000  \n",
       "mean      3.218501     0.531268    10.491801     5.818378     0.753886  \n",
       "std       0.160787     0.148806     1.192712     0.873255     0.430779  \n",
       "min       2.720000     0.220000     8.000000     3.000000     0.000000  \n",
       "25%       3.110000     0.430000     9.500000     5.000000     1.000000  \n",
       "50%       3.210000     0.510000    10.300000     6.000000     1.000000  \n",
       "75%       3.320000     0.600000    11.300000     6.000000     1.000000  \n",
       "max       4.010000     2.000000    14.900000     9.000000     1.000000  "
      ]
     },
     "execution_count": 7,
     "metadata": {},
     "output_type": "execute_result"
    }
   ],
   "source": [
    "wine.describe()"
   ]
  },
  {
   "cell_type": "markdown",
   "id": "f14bd51a",
   "metadata": {
    "id": "f14bd51a"
   },
   "source": [
    "> **우리의 목표: 와인성분데이터를 넣으면 와인의 품질을 예측하는 모형"
   ]
  },
  {
   "cell_type": "code",
   "execution_count": 8,
   "id": "8021ac76",
   "metadata": {
    "colab": {
     "base_uri": "https://localhost:8080/"
    },
    "id": "8021ac76",
    "outputId": "9d2e23ea-63d9-4cf8-96cf-2869b85343c1"
   },
   "outputs": [
    {
     "data": {
      "text/plain": [
       "[3, 4, 5, 6, 7, 8, 9]"
      ]
     },
     "execution_count": 8,
     "metadata": {},
     "output_type": "execute_result"
    }
   ],
   "source": [
    "sorted(wine.quality.unique())             # 목표 변수"
   ]
  },
  {
   "cell_type": "code",
   "execution_count": 9,
   "id": "d644039f",
   "metadata": {
    "colab": {
     "base_uri": "https://localhost:8080/"
    },
    "id": "d644039f",
    "outputId": "01f2c121-97f9-4742-b806-6f95b67ca916"
   },
   "outputs": [
    {
     "data": {
      "text/plain": [
       "6    2836\n",
       "5    2138\n",
       "7    1079\n",
       "4     216\n",
       "8     193\n",
       "3      30\n",
       "9       5\n",
       "Name: quality, dtype: int64"
      ]
     },
     "execution_count": 9,
     "metadata": {},
     "output_type": "execute_result"
    }
   ],
   "source": [
    "wine.quality.value_counts()               # 값 별 카운트"
   ]
  },
  {
   "cell_type": "code",
   "execution_count": 10,
   "id": "96cc9320",
   "metadata": {
    "colab": {
     "base_uri": "https://localhost:8080/",
     "height": 206
    },
    "id": "96cc9320",
    "outputId": "8a3a9f67-a3b0-4051-db24-d7c2722af346"
   },
   "outputs": [
    {
     "data": {
      "text/html": [
       "<div>\n",
       "<style scoped>\n",
       "    .dataframe tbody tr th:only-of-type {\n",
       "        vertical-align: middle;\n",
       "    }\n",
       "\n",
       "    .dataframe tbody tr th {\n",
       "        vertical-align: top;\n",
       "    }\n",
       "\n",
       "    .dataframe thead th {\n",
       "        text-align: right;\n",
       "    }\n",
       "</style>\n",
       "<table border=\"1\" class=\"dataframe\">\n",
       "  <thead>\n",
       "    <tr style=\"text-align: right;\">\n",
       "      <th></th>\n",
       "      <th>fixed acidity</th>\n",
       "      <th>volatile acidity</th>\n",
       "      <th>citric acid</th>\n",
       "      <th>residual sugar</th>\n",
       "      <th>chlorides</th>\n",
       "      <th>free sulfur dioxide</th>\n",
       "      <th>total sulfur dioxide</th>\n",
       "      <th>density</th>\n",
       "      <th>pH</th>\n",
       "      <th>sulphates</th>\n",
       "      <th>alcohol</th>\n",
       "      <th>quality</th>\n",
       "      <th>type</th>\n",
       "    </tr>\n",
       "  </thead>\n",
       "  <tbody>\n",
       "    <tr>\n",
       "      <th>2373</th>\n",
       "      <td>9.1</td>\n",
       "      <td>0.27</td>\n",
       "      <td>0.45</td>\n",
       "      <td>10.6</td>\n",
       "      <td>0.035</td>\n",
       "      <td>28.0</td>\n",
       "      <td>124.0</td>\n",
       "      <td>0.99700</td>\n",
       "      <td>3.20</td>\n",
       "      <td>0.46</td>\n",
       "      <td>10.4</td>\n",
       "      <td>9</td>\n",
       "      <td>1</td>\n",
       "    </tr>\n",
       "    <tr>\n",
       "      <th>2419</th>\n",
       "      <td>6.6</td>\n",
       "      <td>0.36</td>\n",
       "      <td>0.29</td>\n",
       "      <td>1.6</td>\n",
       "      <td>0.021</td>\n",
       "      <td>24.0</td>\n",
       "      <td>85.0</td>\n",
       "      <td>0.98965</td>\n",
       "      <td>3.41</td>\n",
       "      <td>0.61</td>\n",
       "      <td>12.4</td>\n",
       "      <td>9</td>\n",
       "      <td>1</td>\n",
       "    </tr>\n",
       "    <tr>\n",
       "      <th>2426</th>\n",
       "      <td>7.4</td>\n",
       "      <td>0.24</td>\n",
       "      <td>0.36</td>\n",
       "      <td>2.0</td>\n",
       "      <td>0.031</td>\n",
       "      <td>27.0</td>\n",
       "      <td>139.0</td>\n",
       "      <td>0.99055</td>\n",
       "      <td>3.28</td>\n",
       "      <td>0.48</td>\n",
       "      <td>12.5</td>\n",
       "      <td>9</td>\n",
       "      <td>1</td>\n",
       "    </tr>\n",
       "    <tr>\n",
       "      <th>2475</th>\n",
       "      <td>6.9</td>\n",
       "      <td>0.36</td>\n",
       "      <td>0.34</td>\n",
       "      <td>4.2</td>\n",
       "      <td>0.018</td>\n",
       "      <td>57.0</td>\n",
       "      <td>119.0</td>\n",
       "      <td>0.98980</td>\n",
       "      <td>3.28</td>\n",
       "      <td>0.36</td>\n",
       "      <td>12.7</td>\n",
       "      <td>9</td>\n",
       "      <td>1</td>\n",
       "    </tr>\n",
       "    <tr>\n",
       "      <th>3204</th>\n",
       "      <td>7.1</td>\n",
       "      <td>0.26</td>\n",
       "      <td>0.49</td>\n",
       "      <td>2.2</td>\n",
       "      <td>0.032</td>\n",
       "      <td>31.0</td>\n",
       "      <td>113.0</td>\n",
       "      <td>0.99030</td>\n",
       "      <td>3.37</td>\n",
       "      <td>0.42</td>\n",
       "      <td>12.9</td>\n",
       "      <td>9</td>\n",
       "      <td>1</td>\n",
       "    </tr>\n",
       "  </tbody>\n",
       "</table>\n",
       "</div>"
      ],
      "text/plain": [
       "      fixed acidity  volatile acidity  citric acid  residual sugar  chlorides  \\\n",
       "2373            9.1              0.27         0.45            10.6      0.035   \n",
       "2419            6.6              0.36         0.29             1.6      0.021   \n",
       "2426            7.4              0.24         0.36             2.0      0.031   \n",
       "2475            6.9              0.36         0.34             4.2      0.018   \n",
       "3204            7.1              0.26         0.49             2.2      0.032   \n",
       "\n",
       "      free sulfur dioxide  total sulfur dioxide  density    pH  sulphates  \\\n",
       "2373                 28.0                 124.0  0.99700  3.20       0.46   \n",
       "2419                 24.0                  85.0  0.98965  3.41       0.61   \n",
       "2426                 27.0                 139.0  0.99055  3.28       0.48   \n",
       "2475                 57.0                 119.0  0.98980  3.28       0.36   \n",
       "3204                 31.0                 113.0  0.99030  3.37       0.42   \n",
       "\n",
       "      alcohol  quality  type  \n",
       "2373     10.4        9     1  \n",
       "2419     12.4        9     1  \n",
       "2426     12.5        9     1  \n",
       "2475     12.7        9     1  \n",
       "3204     12.9        9     1  "
      ]
     },
     "execution_count": 10,
     "metadata": {},
     "output_type": "execute_result"
    }
   ],
   "source": [
    "wine[wine.quality ==9]                   # 특정 값을 지는 리스트를 보고 싶어"
   ]
  },
  {
   "cell_type": "markdown",
   "id": "d8dab26e",
   "metadata": {
    "id": "d8dab26e"
   },
   "source": [
    "### 탐색적분석  ------------------------\n",
    "- 레드와인인지 화이트와인인지에 따라 품질이 다를까?"
   ]
  },
  {
   "cell_type": "code",
   "execution_count": 11,
   "id": "36c1ebac",
   "metadata": {
    "colab": {
     "base_uri": "https://localhost:8080/",
     "height": 143
    },
    "id": "36c1ebac",
    "outputId": "b8f55a34-04a5-4b57-9747-1a5089c2b534"
   },
   "outputs": [
    {
     "data": {
      "text/html": [
       "<div>\n",
       "<style scoped>\n",
       "    .dataframe tbody tr th:only-of-type {\n",
       "        vertical-align: middle;\n",
       "    }\n",
       "\n",
       "    .dataframe tbody tr th {\n",
       "        vertical-align: top;\n",
       "    }\n",
       "\n",
       "    .dataframe thead th {\n",
       "        text-align: right;\n",
       "    }\n",
       "</style>\n",
       "<table border=\"1\" class=\"dataframe\">\n",
       "  <thead>\n",
       "    <tr style=\"text-align: right;\">\n",
       "      <th></th>\n",
       "      <th>count</th>\n",
       "      <th>mean</th>\n",
       "      <th>std</th>\n",
       "      <th>min</th>\n",
       "      <th>25%</th>\n",
       "      <th>50%</th>\n",
       "      <th>75%</th>\n",
       "      <th>max</th>\n",
       "    </tr>\n",
       "    <tr>\n",
       "      <th>type</th>\n",
       "      <th></th>\n",
       "      <th></th>\n",
       "      <th></th>\n",
       "      <th></th>\n",
       "      <th></th>\n",
       "      <th></th>\n",
       "      <th></th>\n",
       "      <th></th>\n",
       "    </tr>\n",
       "  </thead>\n",
       "  <tbody>\n",
       "    <tr>\n",
       "      <th>0</th>\n",
       "      <td>1599.0</td>\n",
       "      <td>5.636023</td>\n",
       "      <td>0.807569</td>\n",
       "      <td>3.0</td>\n",
       "      <td>5.0</td>\n",
       "      <td>6.0</td>\n",
       "      <td>6.0</td>\n",
       "      <td>8.0</td>\n",
       "    </tr>\n",
       "    <tr>\n",
       "      <th>1</th>\n",
       "      <td>4898.0</td>\n",
       "      <td>5.877909</td>\n",
       "      <td>0.885639</td>\n",
       "      <td>3.0</td>\n",
       "      <td>5.0</td>\n",
       "      <td>6.0</td>\n",
       "      <td>6.0</td>\n",
       "      <td>9.0</td>\n",
       "    </tr>\n",
       "  </tbody>\n",
       "</table>\n",
       "</div>"
      ],
      "text/plain": [
       "       count      mean       std  min  25%  50%  75%  max\n",
       "type                                                     \n",
       "0     1599.0  5.636023  0.807569  3.0  5.0  6.0  6.0  8.0\n",
       "1     4898.0  5.877909  0.885639  3.0  5.0  6.0  6.0  9.0"
      ]
     },
     "execution_count": 11,
     "metadata": {},
     "output_type": "execute_result"
    }
   ],
   "source": [
    "wine.groupby('type').quality.describe()"
   ]
  },
  {
   "cell_type": "code",
   "execution_count": 12,
   "id": "8efa68b6",
   "metadata": {
    "id": "8efa68b6"
   },
   "outputs": [],
   "source": [
    "red_quality = wine.loc[wine.type == 0, 'quality']\n"
   ]
  },
  {
   "cell_type": "code",
   "execution_count": 13,
   "id": "481a345c",
   "metadata": {
    "id": "481a345c"
   },
   "outputs": [],
   "source": [
    "white_quality = wine.loc[wine.type==1, 'quality']\n"
   ]
  },
  {
   "cell_type": "code",
   "execution_count": 14,
   "id": "237e659d",
   "metadata": {
    "colab": {
     "base_uri": "https://localhost:8080/",
     "height": 390
    },
    "id": "237e659d",
    "outputId": "b24b03ea-4804-46cd-c178-ff902a0f4db0"
   },
   "outputs": [
    {
     "name": "stderr",
     "output_type": "stream",
     "text": [
      "C:\\Users\\Administrator\\anaconda3\\lib\\site-packages\\seaborn\\distributions.py:2619: FutureWarning: `distplot` is a deprecated function and will be removed in a future version. Please adapt your code to use either `displot` (a figure-level function with similar flexibility) or `histplot` (an axes-level function for histograms).\n",
      "  warnings.warn(msg, FutureWarning)\n",
      "C:\\Users\\Administrator\\anaconda3\\lib\\site-packages\\seaborn\\distributions.py:2619: FutureWarning: `distplot` is a deprecated function and will be removed in a future version. Please adapt your code to use either `displot` (a figure-level function with similar flexibility) or `histplot` (an axes-level function for histograms).\n",
      "  warnings.warn(msg, FutureWarning)\n"
     ]
    },
    {
     "data": {
      "text/plain": [
       "<AxesSubplot:xlabel='quality', ylabel='Density'>"
      ]
     },
     "execution_count": 14,
     "metadata": {},
     "output_type": "execute_result"
    },
    {
     "name": "stderr",
     "output_type": "stream",
     "text": [
      "findfont: Font family ['AppleGothic'] not found. Falling back to DejaVu Sans.\n"
     ]
    },
    {
     "data": {
      "image/png": "[encoded data removed]",
      "text/plain": [
       "<Figure size 1296x648 with 1 Axes>"
      ]
     },
     "metadata": {
      "needs_background": "light"
     },
     "output_type": "display_data"
    }
   ],
   "source": [
    "sns.distplot(red_quality, label='Red')\n",
    "sns.distplot(white_quality, label=\"White\")"
   ]
  },
  {
   "cell_type": "markdown",
   "id": "9e3e909d",
   "metadata": {
    "id": "9e3e909d"
   },
   "source": [
    "### T검정\n",
    "- 와인종류에 따른 품질의 차이가 통계적으로 유의한지 확인하기 위함\n",
    "- p value < 0.05     그래야 유의미한 의미임 95%  ******"
   ]
  },
  {
   "cell_type": "code",
   "execution_count": 15,
   "id": "4597af08",
   "metadata": {
    "id": "4597af08"
   },
   "outputs": [],
   "source": [
    "import statsmodels.api as sm"
   ]
  },
  {
   "cell_type": "code",
   "execution_count": 16,
   "id": "a18eeafc",
   "metadata": {
    "id": "a18eeafc"
   },
   "outputs": [],
   "source": [
    "tstat, pvalue, df = sm.stats.ttest_ind(red_quality, white_quality)"
   ]
  },
  {
   "cell_type": "code",
   "execution_count": 17,
   "id": "2a3bd00b",
   "metadata": {
    "colab": {
     "base_uri": "https://localhost:8080/"
    },
    "id": "2a3bd00b",
    "outputId": "ee6929b1-33c7-481c-c021-9e611b60697a"
   },
   "outputs": [
    {
     "name": "stdout",
     "output_type": "stream",
     "text": [
      "T값은 -9.68565, p-value는 0.00000000\n"
     ]
    }
   ],
   "source": [
    "print(\"T값은 %.5f, p-value는 %.8f\"%(tstat, pvalue))"
   ]
  },
  {
   "cell_type": "markdown",
   "id": "52a91d01",
   "metadata": {
    "id": "52a91d01"
   },
   "source": [
    "### 상관관계분석"
   ]
  },
  {
   "cell_type": "code",
   "execution_count": 18,
   "id": "679076df",
   "metadata": {
    "colab": {
     "base_uri": "https://localhost:8080/",
     "height": 457
    },
    "id": "679076df",
    "outputId": "79c1ca21-4884-4d6c-ed4a-ac1f38a19dab"
   },
   "outputs": [
    {
     "data": {
      "text/html": [
       "<div>\n",
       "<style scoped>\n",
       "    .dataframe tbody tr th:only-of-type {\n",
       "        vertical-align: middle;\n",
       "    }\n",
       "\n",
       "    .dataframe tbody tr th {\n",
       "        vertical-align: top;\n",
       "    }\n",
       "\n",
       "    .dataframe thead th {\n",
       "        text-align: right;\n",
       "    }\n",
       "</style>\n",
       "<table border=\"1\" class=\"dataframe\">\n",
       "  <thead>\n",
       "    <tr style=\"text-align: right;\">\n",
       "      <th></th>\n",
       "      <th>fixed acidity</th>\n",
       "      <th>volatile acidity</th>\n",
       "      <th>citric acid</th>\n",
       "      <th>residual sugar</th>\n",
       "      <th>chlorides</th>\n",
       "      <th>free sulfur dioxide</th>\n",
       "      <th>total sulfur dioxide</th>\n",
       "      <th>density</th>\n",
       "      <th>pH</th>\n",
       "      <th>sulphates</th>\n",
       "      <th>alcohol</th>\n",
       "      <th>quality</th>\n",
       "      <th>type</th>\n",
       "    </tr>\n",
       "  </thead>\n",
       "  <tbody>\n",
       "    <tr>\n",
       "      <th>fixed acidity</th>\n",
       "      <td>1.000000</td>\n",
       "      <td>0.219008</td>\n",
       "      <td>0.324436</td>\n",
       "      <td>-0.111981</td>\n",
       "      <td>0.298195</td>\n",
       "      <td>-0.282735</td>\n",
       "      <td>-0.329054</td>\n",
       "      <td>0.458910</td>\n",
       "      <td>-0.252700</td>\n",
       "      <td>0.299568</td>\n",
       "      <td>-0.095452</td>\n",
       "      <td>-0.076743</td>\n",
       "      <td>-0.486740</td>\n",
       "    </tr>\n",
       "    <tr>\n",
       "      <th>volatile acidity</th>\n",
       "      <td>0.219008</td>\n",
       "      <td>1.000000</td>\n",
       "      <td>-0.377981</td>\n",
       "      <td>-0.196011</td>\n",
       "      <td>0.377124</td>\n",
       "      <td>-0.352557</td>\n",
       "      <td>-0.414476</td>\n",
       "      <td>0.271296</td>\n",
       "      <td>0.261454</td>\n",
       "      <td>0.225984</td>\n",
       "      <td>-0.037640</td>\n",
       "      <td>-0.265699</td>\n",
       "      <td>-0.653036</td>\n",
       "    </tr>\n",
       "    <tr>\n",
       "      <th>citric acid</th>\n",
       "      <td>0.324436</td>\n",
       "      <td>-0.377981</td>\n",
       "      <td>1.000000</td>\n",
       "      <td>0.142451</td>\n",
       "      <td>0.038998</td>\n",
       "      <td>0.133126</td>\n",
       "      <td>0.195242</td>\n",
       "      <td>0.096154</td>\n",
       "      <td>-0.329808</td>\n",
       "      <td>0.056197</td>\n",
       "      <td>-0.010493</td>\n",
       "      <td>0.085532</td>\n",
       "      <td>0.187397</td>\n",
       "    </tr>\n",
       "    <tr>\n",
       "      <th>residual sugar</th>\n",
       "      <td>-0.111981</td>\n",
       "      <td>-0.196011</td>\n",
       "      <td>0.142451</td>\n",
       "      <td>1.000000</td>\n",
       "      <td>-0.128940</td>\n",
       "      <td>0.402871</td>\n",
       "      <td>0.495482</td>\n",
       "      <td>0.552517</td>\n",
       "      <td>-0.267320</td>\n",
       "      <td>-0.185927</td>\n",
       "      <td>-0.359415</td>\n",
       "      <td>-0.036980</td>\n",
       "      <td>0.348821</td>\n",
       "    </tr>\n",
       "    <tr>\n",
       "      <th>chlorides</th>\n",
       "      <td>0.298195</td>\n",
       "      <td>0.377124</td>\n",
       "      <td>0.038998</td>\n",
       "      <td>-0.128940</td>\n",
       "      <td>1.000000</td>\n",
       "      <td>-0.195045</td>\n",
       "      <td>-0.279630</td>\n",
       "      <td>0.362615</td>\n",
       "      <td>0.044708</td>\n",
       "      <td>0.395593</td>\n",
       "      <td>-0.256916</td>\n",
       "      <td>-0.200666</td>\n",
       "      <td>-0.512678</td>\n",
       "    </tr>\n",
       "    <tr>\n",
       "      <th>free sulfur dioxide</th>\n",
       "      <td>-0.282735</td>\n",
       "      <td>-0.352557</td>\n",
       "      <td>0.133126</td>\n",
       "      <td>0.402871</td>\n",
       "      <td>-0.195045</td>\n",
       "      <td>1.000000</td>\n",
       "      <td>0.720934</td>\n",
       "      <td>0.025717</td>\n",
       "      <td>-0.145854</td>\n",
       "      <td>-0.188457</td>\n",
       "      <td>-0.179838</td>\n",
       "      <td>0.055463</td>\n",
       "      <td>0.471644</td>\n",
       "    </tr>\n",
       "    <tr>\n",
       "      <th>total sulfur dioxide</th>\n",
       "      <td>-0.329054</td>\n",
       "      <td>-0.414476</td>\n",
       "      <td>0.195242</td>\n",
       "      <td>0.495482</td>\n",
       "      <td>-0.279630</td>\n",
       "      <td>0.720934</td>\n",
       "      <td>1.000000</td>\n",
       "      <td>0.032395</td>\n",
       "      <td>-0.238413</td>\n",
       "      <td>-0.275727</td>\n",
       "      <td>-0.265740</td>\n",
       "      <td>-0.041385</td>\n",
       "      <td>0.700357</td>\n",
       "    </tr>\n",
       "    <tr>\n",
       "      <th>density</th>\n",
       "      <td>0.458910</td>\n",
       "      <td>0.271296</td>\n",
       "      <td>0.096154</td>\n",
       "      <td>0.552517</td>\n",
       "      <td>0.362615</td>\n",
       "      <td>0.025717</td>\n",
       "      <td>0.032395</td>\n",
       "      <td>1.000000</td>\n",
       "      <td>0.011686</td>\n",
       "      <td>0.259478</td>\n",
       "      <td>-0.686745</td>\n",
       "      <td>-0.305858</td>\n",
       "      <td>-0.390645</td>\n",
       "    </tr>\n",
       "    <tr>\n",
       "      <th>pH</th>\n",
       "      <td>-0.252700</td>\n",
       "      <td>0.261454</td>\n",
       "      <td>-0.329808</td>\n",
       "      <td>-0.267320</td>\n",
       "      <td>0.044708</td>\n",
       "      <td>-0.145854</td>\n",
       "      <td>-0.238413</td>\n",
       "      <td>0.011686</td>\n",
       "      <td>1.000000</td>\n",
       "      <td>0.192123</td>\n",
       "      <td>0.121248</td>\n",
       "      <td>0.019506</td>\n",
       "      <td>-0.329129</td>\n",
       "    </tr>\n",
       "    <tr>\n",
       "      <th>sulphates</th>\n",
       "      <td>0.299568</td>\n",
       "      <td>0.225984</td>\n",
       "      <td>0.056197</td>\n",
       "      <td>-0.185927</td>\n",
       "      <td>0.395593</td>\n",
       "      <td>-0.188457</td>\n",
       "      <td>-0.275727</td>\n",
       "      <td>0.259478</td>\n",
       "      <td>0.192123</td>\n",
       "      <td>1.000000</td>\n",
       "      <td>-0.003029</td>\n",
       "      <td>0.038485</td>\n",
       "      <td>-0.487218</td>\n",
       "    </tr>\n",
       "    <tr>\n",
       "      <th>alcohol</th>\n",
       "      <td>-0.095452</td>\n",
       "      <td>-0.037640</td>\n",
       "      <td>-0.010493</td>\n",
       "      <td>-0.359415</td>\n",
       "      <td>-0.256916</td>\n",
       "      <td>-0.179838</td>\n",
       "      <td>-0.265740</td>\n",
       "      <td>-0.686745</td>\n",
       "      <td>0.121248</td>\n",
       "      <td>-0.003029</td>\n",
       "      <td>1.000000</td>\n",
       "      <td>0.444319</td>\n",
       "      <td>0.032970</td>\n",
       "    </tr>\n",
       "    <tr>\n",
       "      <th>quality</th>\n",
       "      <td>-0.076743</td>\n",
       "      <td>-0.265699</td>\n",
       "      <td>0.085532</td>\n",
       "      <td>-0.036980</td>\n",
       "      <td>-0.200666</td>\n",
       "      <td>0.055463</td>\n",
       "      <td>-0.041385</td>\n",
       "      <td>-0.305858</td>\n",
       "      <td>0.019506</td>\n",
       "      <td>0.038485</td>\n",
       "      <td>0.444319</td>\n",
       "      <td>1.000000</td>\n",
       "      <td>0.119323</td>\n",
       "    </tr>\n",
       "    <tr>\n",
       "      <th>type</th>\n",
       "      <td>-0.486740</td>\n",
       "      <td>-0.653036</td>\n",
       "      <td>0.187397</td>\n",
       "      <td>0.348821</td>\n",
       "      <td>-0.512678</td>\n",
       "      <td>0.471644</td>\n",
       "      <td>0.700357</td>\n",
       "      <td>-0.390645</td>\n",
       "      <td>-0.329129</td>\n",
       "      <td>-0.487218</td>\n",
       "      <td>0.032970</td>\n",
       "      <td>0.119323</td>\n",
       "      <td>1.000000</td>\n",
       "    </tr>\n",
       "  </tbody>\n",
       "</table>\n",
       "</div>"
      ],
      "text/plain": [
       "                      fixed acidity  volatile acidity  citric acid  \\\n",
       "fixed acidity              1.000000          0.219008     0.324436   \n",
       "volatile acidity           0.219008          1.000000    -0.377981   \n",
       "citric acid                0.324436         -0.377981     1.000000   \n",
       "residual sugar            -0.111981         -0.196011     0.142451   \n",
       "chlorides                  0.298195          0.377124     0.038998   \n",
       "free sulfur dioxide       -0.282735         -0.352557     0.133126   \n",
       "total sulfur dioxide      -0.329054         -0.414476     0.195242   \n",
       "density                    0.458910          0.271296     0.096154   \n",
       "pH                        -0.252700          0.261454    -0.329808   \n",
       "sulphates                  0.299568          0.225984     0.056197   \n",
       "alcohol                   -0.095452         -0.037640    -0.010493   \n",
       "quality                   -0.076743         -0.265699     0.085532   \n",
       "type                      -0.486740         -0.653036     0.187397   \n",
       "\n",
       "                      residual sugar  chlorides  free sulfur dioxide  \\\n",
       "fixed acidity              -0.111981   0.298195            -0.282735   \n",
       "volatile acidity           -0.196011   0.377124            -0.352557   \n",
       "citric acid                 0.142451   0.038998             0.133126   \n",
       "residual sugar              1.000000  -0.128940             0.402871   \n",
       "chlorides                  -0.128940   1.000000            -0.195045   \n",
       "free sulfur dioxide         0.402871  -0.195045             1.000000   \n",
       "total sulfur dioxide        0.495482  -0.279630             0.720934   \n",
       "density                     0.552517   0.362615             0.025717   \n",
       "pH                         -0.267320   0.044708            -0.145854   \n",
       "sulphates                  -0.185927   0.395593            -0.188457   \n",
       "alcohol                    -0.359415  -0.256916            -0.179838   \n",
       "quality                    -0.036980  -0.200666             0.055463   \n",
       "type                        0.348821  -0.512678             0.471644   \n",
       "\n",
       "                      total sulfur dioxide   density        pH  sulphates  \\\n",
       "fixed acidity                    -0.329054  0.458910 -0.252700   0.299568   \n",
       "volatile acidity                 -0.414476  0.271296  0.261454   0.225984   \n",
       "citric acid                       0.195242  0.096154 -0.329808   0.056197   \n",
       "residual sugar                    0.495482  0.552517 -0.267320  -0.185927   \n",
       "chlorides                        -0.279630  0.362615  0.044708   0.395593   \n",
       "free sulfur dioxide               0.720934  0.025717 -0.145854  -0.188457   \n",
       "total sulfur dioxide              1.000000  0.032395 -0.238413  -0.275727   \n",
       "density                           0.032395  1.000000  0.011686   0.259478   \n",
       "pH                               -0.238413  0.011686  1.000000   0.192123   \n",
       "sulphates                        -0.275727  0.259478  0.192123   1.000000   \n",
       "alcohol                          -0.265740 -0.686745  0.121248  -0.003029   \n",
       "quality                          -0.041385 -0.305858  0.019506   0.038485   \n",
       "type                              0.700357 -0.390645 -0.329129  -0.487218   \n",
       "\n",
       "                       alcohol   quality      type  \n",
       "fixed acidity        -0.095452 -0.076743 -0.486740  \n",
       "volatile acidity     -0.037640 -0.265699 -0.653036  \n",
       "citric acid          -0.010493  0.085532  0.187397  \n",
       "residual sugar       -0.359415 -0.036980  0.348821  \n",
       "chlorides            -0.256916 -0.200666 -0.512678  \n",
       "free sulfur dioxide  -0.179838  0.055463  0.471644  \n",
       "total sulfur dioxide -0.265740 -0.041385  0.700357  \n",
       "density              -0.686745 -0.305858 -0.390645  \n",
       "pH                    0.121248  0.019506 -0.329129  \n",
       "sulphates            -0.003029  0.038485 -0.487218  \n",
       "alcohol               1.000000  0.444319  0.032970  \n",
       "quality               0.444319  1.000000  0.119323  \n",
       "type                  0.032970  0.119323  1.000000  "
      ]
     },
     "execution_count": 18,
     "metadata": {},
     "output_type": "execute_result"
    }
   ],
   "source": [
    "wine.corr()"
   ]
  },
  {
   "cell_type": "code",
   "execution_count": 19,
   "id": "c4e552db",
   "metadata": {
    "colab": {
     "base_uri": "https://localhost:8080/",
     "height": 371
    },
    "id": "c4e552db",
    "outputId": "b5d53ba7-c67e-483e-88c2-b77b0ef81dac"
   },
   "outputs": [
    {
     "data": {
      "text/plain": [
       "<AxesSubplot:>"
      ]
     },
     "execution_count": 19,
     "metadata": {},
     "output_type": "execute_result"
    },
    {
     "data": {
      "image/png": "[encoded data removed]",
      "text/plain": [
       "<Figure size 1296x648 with 2 Axes>"
      ]
     },
     "metadata": {
      "needs_background": "light"
     },
     "output_type": "display_data"
    }
   ],
   "source": [
    "sns.heatmap(wine.corr(), annot=True, cmap='coolwarm')"
   ]
  },
  {
   "cell_type": "code",
   "execution_count": 20,
   "id": "feea2de3",
   "metadata": {
    "id": "feea2de3"
   },
   "outputs": [],
   "source": [
    "#너무 상관관계가 높은 아이들끼리는 같이 쓰지말고 둘중 하나를 쓰는게 좋음 공분산도가 높아짐"
   ]
  },
  {
   "cell_type": "code",
   "execution_count": 21,
   "id": "2a4f02a4",
   "metadata": {
    "colab": {
     "base_uri": "https://localhost:8080/"
    },
    "id": "2a4f02a4",
    "outputId": "5c7e778b-0dc3-46f4-c6fc-3d8a1b22a461"
   },
   "outputs": [
    {
     "data": {
      "text/plain": [
       "density                -0.305858\n",
       "volatile acidity       -0.265699\n",
       "chlorides              -0.200666\n",
       "fixed acidity          -0.076743\n",
       "total sulfur dioxide   -0.041385\n",
       "residual sugar         -0.036980\n",
       "pH                      0.019506\n",
       "sulphates               0.038485\n",
       "free sulfur dioxide     0.055463\n",
       "citric acid             0.085532\n",
       "type                    0.119323\n",
       "alcohol                 0.444319\n",
       "quality                 1.000000\n",
       "dtype: float64"
      ]
     },
     "execution_count": 21,
     "metadata": {},
     "output_type": "execute_result"
    }
   ],
   "source": [
    "wine.corrwith(wine.quality).sort_values()"
   ]
  },
  {
   "cell_type": "markdown",
   "id": "10a8886b",
   "metadata": {
    "id": "10a8886b"
   },
   "source": [
    "### 산점도 pairplot\n",
    "- 모든 회귀문제는 산점도가 있어야 파악이 용이\n",
    "- 하지만 모든 점을 산점도를 그리면   성능문제발생,   그래서 샘플링을 하여 산점도로 변수간 관계를 만듦"
   ]
  },
  {
   "cell_type": "code",
   "execution_count": 22,
   "id": "874028fb",
   "metadata": {
    "id": "874028fb"
   },
   "outputs": [],
   "source": [
    "def sampling(data, n=300):         #와인 샘플링\n",
    "    return data.loc[np.random.choice(data.index, size=n, replace=False)]        #choice  인덱스 골라냄,  replace 중복미허용F"
   ]
  },
  {
   "cell_type": "code",
   "execution_count": 23,
   "id": "e7ecfe4d",
   "metadata": {
    "id": "e7ecfe4d"
   },
   "outputs": [],
   "source": [
    "red = wine[wine.type ==0]\n",
    "white = wine[wine.type ==1]"
   ]
  },
  {
   "cell_type": "code",
   "execution_count": 24,
   "id": "93bce554",
   "metadata": {
    "colab": {
     "base_uri": "https://localhost:8080/",
     "height": 224
    },
    "id": "93bce554",
    "outputId": "45db7640-6346-41c4-9176-2486d6137017"
   },
   "outputs": [
    {
     "name": "stdout",
     "output_type": "stream",
     "text": [
      "(300, 13)\n"
     ]
    },
    {
     "data": {
      "text/html": [
       "<div>\n",
       "<style scoped>\n",
       "    .dataframe tbody tr th:only-of-type {\n",
       "        vertical-align: middle;\n",
       "    }\n",
       "\n",
       "    .dataframe tbody tr th {\n",
       "        vertical-align: top;\n",
       "    }\n",
       "\n",
       "    .dataframe thead th {\n",
       "        text-align: right;\n",
       "    }\n",
       "</style>\n",
       "<table border=\"1\" class=\"dataframe\">\n",
       "  <thead>\n",
       "    <tr style=\"text-align: right;\">\n",
       "      <th></th>\n",
       "      <th>fixed acidity</th>\n",
       "      <th>volatile acidity</th>\n",
       "      <th>citric acid</th>\n",
       "      <th>residual sugar</th>\n",
       "      <th>chlorides</th>\n",
       "      <th>free sulfur dioxide</th>\n",
       "      <th>total sulfur dioxide</th>\n",
       "      <th>density</th>\n",
       "      <th>pH</th>\n",
       "      <th>sulphates</th>\n",
       "      <th>alcohol</th>\n",
       "      <th>quality</th>\n",
       "      <th>type</th>\n",
       "    </tr>\n",
       "  </thead>\n",
       "  <tbody>\n",
       "    <tr>\n",
       "      <th>749</th>\n",
       "      <td>7.3</td>\n",
       "      <td>0.51</td>\n",
       "      <td>0.18</td>\n",
       "      <td>2.1</td>\n",
       "      <td>0.070</td>\n",
       "      <td>12.0</td>\n",
       "      <td>28.0</td>\n",
       "      <td>0.99768</td>\n",
       "      <td>3.52</td>\n",
       "      <td>0.73</td>\n",
       "      <td>9.5</td>\n",
       "      <td>6</td>\n",
       "      <td>0</td>\n",
       "    </tr>\n",
       "    <tr>\n",
       "      <th>1541</th>\n",
       "      <td>7.4</td>\n",
       "      <td>0.25</td>\n",
       "      <td>0.29</td>\n",
       "      <td>2.2</td>\n",
       "      <td>0.054</td>\n",
       "      <td>19.0</td>\n",
       "      <td>49.0</td>\n",
       "      <td>0.99666</td>\n",
       "      <td>3.40</td>\n",
       "      <td>0.76</td>\n",
       "      <td>10.9</td>\n",
       "      <td>7</td>\n",
       "      <td>0</td>\n",
       "    </tr>\n",
       "    <tr>\n",
       "      <th>878</th>\n",
       "      <td>8.8</td>\n",
       "      <td>0.61</td>\n",
       "      <td>0.19</td>\n",
       "      <td>4.0</td>\n",
       "      <td>0.094</td>\n",
       "      <td>30.0</td>\n",
       "      <td>69.0</td>\n",
       "      <td>0.99787</td>\n",
       "      <td>3.22</td>\n",
       "      <td>0.50</td>\n",
       "      <td>10.0</td>\n",
       "      <td>6</td>\n",
       "      <td>0</td>\n",
       "    </tr>\n",
       "    <tr>\n",
       "      <th>852</th>\n",
       "      <td>8.0</td>\n",
       "      <td>0.42</td>\n",
       "      <td>0.32</td>\n",
       "      <td>2.5</td>\n",
       "      <td>0.080</td>\n",
       "      <td>26.0</td>\n",
       "      <td>122.0</td>\n",
       "      <td>0.99801</td>\n",
       "      <td>3.22</td>\n",
       "      <td>1.07</td>\n",
       "      <td>9.7</td>\n",
       "      <td>5</td>\n",
       "      <td>0</td>\n",
       "    </tr>\n",
       "    <tr>\n",
       "      <th>62</th>\n",
       "      <td>7.5</td>\n",
       "      <td>0.52</td>\n",
       "      <td>0.16</td>\n",
       "      <td>1.9</td>\n",
       "      <td>0.085</td>\n",
       "      <td>12.0</td>\n",
       "      <td>35.0</td>\n",
       "      <td>0.99680</td>\n",
       "      <td>3.38</td>\n",
       "      <td>0.62</td>\n",
       "      <td>9.5</td>\n",
       "      <td>7</td>\n",
       "      <td>0</td>\n",
       "    </tr>\n",
       "  </tbody>\n",
       "</table>\n",
       "</div>"
      ],
      "text/plain": [
       "      fixed acidity  volatile acidity  citric acid  residual sugar  chlorides  \\\n",
       "749             7.3              0.51         0.18             2.1      0.070   \n",
       "1541            7.4              0.25         0.29             2.2      0.054   \n",
       "878             8.8              0.61         0.19             4.0      0.094   \n",
       "852             8.0              0.42         0.32             2.5      0.080   \n",
       "62              7.5              0.52         0.16             1.9      0.085   \n",
       "\n",
       "      free sulfur dioxide  total sulfur dioxide  density    pH  sulphates  \\\n",
       "749                  12.0                  28.0  0.99768  3.52       0.73   \n",
       "1541                 19.0                  49.0  0.99666  3.40       0.76   \n",
       "878                  30.0                  69.0  0.99787  3.22       0.50   \n",
       "852                  26.0                 122.0  0.99801  3.22       1.07   \n",
       "62                   12.0                  35.0  0.99680  3.38       0.62   \n",
       "\n",
       "      alcohol  quality  type  \n",
       "749       9.5        6     0  \n",
       "1541     10.9        7     0  \n",
       "878      10.0        6     0  \n",
       "852       9.7        5     0  \n",
       "62        9.5        7     0  "
      ]
     },
     "execution_count": 24,
     "metadata": {},
     "output_type": "execute_result"
    }
   ],
   "source": [
    "red_sample = sampling(red)\n",
    "print(red_sample.shape)\n",
    "red_sample.head()"
   ]
  },
  {
   "cell_type": "code",
   "execution_count": 25,
   "id": "00072186",
   "metadata": {
    "colab": {
     "base_uri": "https://localhost:8080/",
     "height": 224
    },
    "id": "00072186",
    "outputId": "e458bb01-b5de-4655-93bd-6e6fc2e48edb",
    "scrolled": true
   },
   "outputs": [
    {
     "name": "stdout",
     "output_type": "stream",
     "text": [
      "(300, 13)\n"
     ]
    },
    {
     "data": {
      "text/html": [
       "<div>\n",
       "<style scoped>\n",
       "    .dataframe tbody tr th:only-of-type {\n",
       "        vertical-align: middle;\n",
       "    }\n",
       "\n",
       "    .dataframe tbody tr th {\n",
       "        vertical-align: top;\n",
       "    }\n",
       "\n",
       "    .dataframe thead th {\n",
       "        text-align: right;\n",
       "    }\n",
       "</style>\n",
       "<table border=\"1\" class=\"dataframe\">\n",
       "  <thead>\n",
       "    <tr style=\"text-align: right;\">\n",
       "      <th></th>\n",
       "      <th>fixed acidity</th>\n",
       "      <th>volatile acidity</th>\n",
       "      <th>citric acid</th>\n",
       "      <th>residual sugar</th>\n",
       "      <th>chlorides</th>\n",
       "      <th>free sulfur dioxide</th>\n",
       "      <th>total sulfur dioxide</th>\n",
       "      <th>density</th>\n",
       "      <th>pH</th>\n",
       "      <th>sulphates</th>\n",
       "      <th>alcohol</th>\n",
       "      <th>quality</th>\n",
       "      <th>type</th>\n",
       "    </tr>\n",
       "  </thead>\n",
       "  <tbody>\n",
       "    <tr>\n",
       "      <th>2227</th>\n",
       "      <td>7.0</td>\n",
       "      <td>0.32</td>\n",
       "      <td>0.24</td>\n",
       "      <td>6.2</td>\n",
       "      <td>0.048</td>\n",
       "      <td>31.0</td>\n",
       "      <td>228.0</td>\n",
       "      <td>0.99570</td>\n",
       "      <td>3.23</td>\n",
       "      <td>0.62</td>\n",
       "      <td>9.40</td>\n",
       "      <td>6</td>\n",
       "      <td>1</td>\n",
       "    </tr>\n",
       "    <tr>\n",
       "      <th>2106</th>\n",
       "      <td>6.0</td>\n",
       "      <td>0.24</td>\n",
       "      <td>0.27</td>\n",
       "      <td>1.9</td>\n",
       "      <td>0.048</td>\n",
       "      <td>40.0</td>\n",
       "      <td>170.0</td>\n",
       "      <td>0.99380</td>\n",
       "      <td>3.64</td>\n",
       "      <td>0.54</td>\n",
       "      <td>10.00</td>\n",
       "      <td>7</td>\n",
       "      <td>1</td>\n",
       "    </tr>\n",
       "    <tr>\n",
       "      <th>6032</th>\n",
       "      <td>6.9</td>\n",
       "      <td>0.56</td>\n",
       "      <td>0.26</td>\n",
       "      <td>10.9</td>\n",
       "      <td>0.060</td>\n",
       "      <td>55.0</td>\n",
       "      <td>193.0</td>\n",
       "      <td>0.99690</td>\n",
       "      <td>3.21</td>\n",
       "      <td>0.44</td>\n",
       "      <td>9.40</td>\n",
       "      <td>5</td>\n",
       "      <td>1</td>\n",
       "    </tr>\n",
       "    <tr>\n",
       "      <th>6239</th>\n",
       "      <td>6.0</td>\n",
       "      <td>0.24</td>\n",
       "      <td>0.41</td>\n",
       "      <td>1.3</td>\n",
       "      <td>0.036</td>\n",
       "      <td>42.0</td>\n",
       "      <td>118.0</td>\n",
       "      <td>0.99018</td>\n",
       "      <td>3.04</td>\n",
       "      <td>0.64</td>\n",
       "      <td>11.75</td>\n",
       "      <td>6</td>\n",
       "      <td>1</td>\n",
       "    </tr>\n",
       "    <tr>\n",
       "      <th>3588</th>\n",
       "      <td>7.1</td>\n",
       "      <td>0.33</td>\n",
       "      <td>0.30</td>\n",
       "      <td>3.3</td>\n",
       "      <td>0.034</td>\n",
       "      <td>30.0</td>\n",
       "      <td>102.0</td>\n",
       "      <td>0.99120</td>\n",
       "      <td>3.08</td>\n",
       "      <td>0.31</td>\n",
       "      <td>12.30</td>\n",
       "      <td>7</td>\n",
       "      <td>1</td>\n",
       "    </tr>\n",
       "  </tbody>\n",
       "</table>\n",
       "</div>"
      ],
      "text/plain": [
       "      fixed acidity  volatile acidity  citric acid  residual sugar  chlorides  \\\n",
       "2227            7.0              0.32         0.24             6.2      0.048   \n",
       "2106            6.0              0.24         0.27             1.9      0.048   \n",
       "6032            6.9              0.56         0.26            10.9      0.060   \n",
       "6239            6.0              0.24         0.41             1.3      0.036   \n",
       "3588            7.1              0.33         0.30             3.3      0.034   \n",
       "\n",
       "      free sulfur dioxide  total sulfur dioxide  density    pH  sulphates  \\\n",
       "2227                 31.0                 228.0  0.99570  3.23       0.62   \n",
       "2106                 40.0                 170.0  0.99380  3.64       0.54   \n",
       "6032                 55.0                 193.0  0.99690  3.21       0.44   \n",
       "6239                 42.0                 118.0  0.99018  3.04       0.64   \n",
       "3588                 30.0                 102.0  0.99120  3.08       0.31   \n",
       "\n",
       "      alcohol  quality  type  \n",
       "2227     9.40        6     1  \n",
       "2106    10.00        7     1  \n",
       "6032     9.40        5     1  \n",
       "6239    11.75        6     1  \n",
       "3588    12.30        7     1  "
      ]
     },
     "execution_count": 25,
     "metadata": {},
     "output_type": "execute_result"
    }
   ],
   "source": [
    "white_sample = sampling(white)\n",
    "print(white_sample.shape)\n",
    "white_sample.head()"
   ]
  },
  {
   "cell_type": "code",
   "execution_count": 26,
   "id": "b8be0a7b",
   "metadata": {
    "id": "b8be0a7b"
   },
   "outputs": [],
   "source": [
    "wine_sample = pd.concat([red_sample, white_sample])"
   ]
  },
  {
   "cell_type": "code",
   "execution_count": 27,
   "id": "42b5564e",
   "metadata": {
    "colab": {
     "base_uri": "https://localhost:8080/",
     "height": 921
    },
    "id": "42b5564e",
    "outputId": "b7c42d87-bdca-4bb9-8a5b-d576314e4b00",
    "scrolled": false
   },
   "outputs": [
    {
     "data": {
      "text/plain": [
       "<seaborn.axisgrid.PairGrid at 0x1abf54d6700>"
      ]
     },
     "execution_count": 27,
     "metadata": {},
     "output_type": "execute_result"
    },
    {
     "data": {
      "image/png": "[encoded data removed]",
      "text/plain": [
       "<Figure size 942.375x900 with 30 Axes>"
      ]
     },
     "metadata": {
      "needs_background": "light"
     },
     "output_type": "display_data"
    }
   ],
   "source": [
    "sns.pairplot(wine_sample, hue='type', kind='reg',\n",
    "            vars=['quality', 'alcohol', 'density', 'volatile acidity', 'residual sugar'])     #pairplot 회귀문제에서 꼭 필요***"
   ]
  },
  {
   "cell_type": "code",
   "execution_count": null,
   "id": "0ebd117b",
   "metadata": {
    "id": "0ebd117b"
   },
   "outputs": [],
   "source": []
  },
  {
   "cell_type": "markdown",
   "id": "990b243e",
   "metadata": {
    "id": "990b243e"
   },
   "source": [
    "### .\n",
    "- 선형회귀모형  만들기"
   ]
  },
  {
   "cell_type": "code",
   "execution_count": 28,
   "id": "0fa19d1f",
   "metadata": {
    "id": "0fa19d1f"
   },
   "outputs": [],
   "source": [
    "wine.columns = wine.columns.str.replace(' ','_')"
   ]
  },
  {
   "cell_type": "code",
   "execution_count": 29,
   "id": "4e480f56",
   "metadata": {
    "colab": {
     "base_uri": "https://localhost:8080/"
    },
    "id": "4e480f56",
    "outputId": "4cac8dce-97ae-47eb-d833-12adccf4576f",
    "scrolled": false
   },
   "outputs": [
    {
     "data": {
      "text/plain": [
       "Index(['fixed_acidity', 'volatile_acidity', 'citric_acid', 'residual_sugar',\n",
       "       'chlorides', 'free_sulfur_dioxide', 'total_sulfur_dioxide', 'density',\n",
       "       'pH', 'sulphates', 'alcohol', 'quality', 'type'],\n",
       "      dtype='object')"
      ]
     },
     "execution_count": 29,
     "metadata": {},
     "output_type": "execute_result"
    }
   ],
   "source": [
    "wine.columns"
   ]
  },
  {
   "cell_type": "code",
   "execution_count": 30,
   "id": "2adf7b7d",
   "metadata": {
    "id": "2adf7b7d"
   },
   "outputs": [],
   "source": [
    "features = ['fixed_acidity', 'volatile_acidity', 'residual_sugar',\n",
    "       'chlorides', 'free_sulfur_dioxide', 'density',\n",
    "       'pH', 'sulphates', 'alcohol', 'type']            #예측모델을 만들기 위해 핏쳐 셀렉션을 함"
   ]
  },
  {
   "cell_type": "code",
   "execution_count": 31,
   "id": "1730fac8",
   "metadata": {
    "id": "1730fac8"
   },
   "outputs": [],
   "source": [
    "# features_B = ['volatile_acidity', 'residual_sugar','density','alcohol', 'type']"
   ]
  },
  {
   "cell_type": "code",
   "execution_count": 32,
   "id": "25bc4655",
   "metadata": {
    "id": "25bc4655"
   },
   "outputs": [],
   "source": [
    "# features_C = ['volatile_acidity', 'residual_sugar','density','alcohol', 'type', 'density']"
   ]
  },
  {
   "cell_type": "code",
   "execution_count": 33,
   "id": "wNSEEPV7otf6",
   "metadata": {
    "id": "wNSEEPV7otf6"
   },
   "outputs": [],
   "source": [
    "# features_D = ['volatile_acidity', 'residual_sugar','density','alcohol', 'type', 'density','fixed_acidity']"
   ]
  },
  {
   "cell_type": "code",
   "execution_count": 34,
   "id": "SkYi8rwWotuy",
   "metadata": {
    "id": "SkYi8rwWotuy"
   },
   "outputs": [],
   "source": [
    "# features_E = ['volatile_acidity', 'residual_sugar','density','alcohol', 'type', 'density','fixed_acidity', 'chlorides']"
   ]
  },
  {
   "cell_type": "code",
   "execution_count": 35,
   "id": "eDcRIY4botxr",
   "metadata": {
    "id": "eDcRIY4botxr"
   },
   "outputs": [],
   "source": [
    "# features_F = ['volatile_acidity', 'residual_sugar','density','alcohol', 'type', 'density','fixed_acidity', 'chlorides', 'free_sulfur_dioxide']"
   ]
  },
  {
   "cell_type": "code",
   "execution_count": 36,
   "id": "nEPIIEzZot0f",
   "metadata": {
    "id": "nEPIIEzZot0f"
   },
   "outputs": [],
   "source": [
    "# features_G = ['volatile_acidity', 'residual_sugar','density','alcohol', 'type', 'density','fixed_acidity', 'chlorides', 'free_sulfur_dioxide', 'pH']"
   ]
  },
  {
   "cell_type": "code",
   "execution_count": 37,
   "id": "478596ec",
   "metadata": {
    "id": "478596ec"
   },
   "outputs": [],
   "source": [
    "# features_H = ['volatile_acidity', 'residual_sugar','density','alcohol', 'type', 'density','fixed_acidity', 'chlorides', 'free_sulfur_dioxide', 'pH', 'sulphates']"
   ]
  },
  {
   "cell_type": "code",
   "execution_count": 38,
   "id": "418a8be1",
   "metadata": {
    "id": "418a8be1"
   },
   "outputs": [],
   "source": [
    "# features_Z = ['volatile_acidity', 'residual_sugar','density','alcohol', 'type', 'density','fixed_acidity', 'chlorides', 'free_sulfur_dioxide', 'pH', 'sulphates', 'citric_acid']"
   ]
  },
  {
   "cell_type": "code",
   "execution_count": 39,
   "id": "d5f5cee9",
   "metadata": {
    "id": "d5f5cee9"
   },
   "outputs": [],
   "source": [
    "y = wine.quality\n",
    "X = wine[wine.columns.difference(['quality', 'type'])]\n",
    "X_standard = (X - X.mean())/ X.std()    #표준화 : 단위기준을 맞춤\n",
    "wine_standard = pd.concat([X_standard, wine.quality, wine.type], axis=1)"
   ]
  },
  {
   "cell_type": "code",
   "execution_count": 40,
   "id": "29ea2c2d",
   "metadata": {
    "id": "29ea2c2d"
   },
   "outputs": [],
   "source": [
    "X = wine_standard[features]\n",
    "# X_B = wine_standard[features_B]\n",
    "# X_C = wine_standard[features_C]\n",
    "# X_D = wine_standard[features_D]\n",
    "# X_E = wine_standard[features_E]\n",
    "# X_F = wine_standard[features_F]\n",
    "# X_G = wine_standard[features_G]\n",
    "# X_H = wine_standard[features_H]\n",
    "# X_Z = wine_standard[features_Z]"
   ]
  },
  {
   "cell_type": "markdown",
   "id": "8710bcd0",
   "metadata": {
    "id": "8710bcd0"
   },
   "source": [
    "# 훈련데이터셋과 테스트데이터셋으로 나누자\n",
    "### 회귀분석의 경우는.... 훈련데이터셋과 테스트 데이터 셋을 나누어야 함"
   ]
  },
  {
   "cell_type": "code",
   "execution_count": 41,
   "id": "fefbd706",
   "metadata": {
    "id": "fefbd706"
   },
   "outputs": [],
   "source": [
    "from sklearn.model_selection import train_test_split                   #머신러닝 라이브러리는 사이킷런에 있음"
   ]
  },
  {
   "cell_type": "code",
   "execution_count": 42,
   "id": "3a5d1bff",
   "metadata": {
    "id": "3a5d1bff"
   },
   "outputs": [],
   "source": [
    "X_train, X_test, y_train, y_test = train_test_split(X, wine.quality, train_size=0.8, random_state=31)\n",
    "\n",
    "# X_B_train, X_B_test, y_B_train, y_B_test = train_test_split(X_B, wine.quality, train_size=0.8, random_state=31)\n",
    "# X_C_train, X_C_test, y_C_train, y_C_test = train_test_split(X_C, wine.quality, train_size=0.8, random_state=31)\n",
    "# X_D_train, X_D_test, y_D_train, y_D_test = train_test_split(X_D, wine.quality, train_size=0.8, random_state=31)\n",
    "# X_E_train, X_E_test, y_E_train, y_E_test = train_test_split(X_E, wine.quality, train_size=0.8, random_state=31)\n",
    "# X_F_train, X_F_test, y_F_train, y_F_test = train_test_split(X_F, wine.quality, train_size=0.8, random_state=31)\n",
    "# X_G_train, X_G_test, y_G_train, y_G_test = train_test_split(X_G, wine.quality, train_size=0.8, random_state=31)\n",
    "# X_H_train, X_H_test, y_H_train, y_H_test = train_test_split(X_H, wine.quality, train_size=0.8, random_state=31)\n",
    "# X_Z_train, X_Z_test, y_Z_train, y_Z_test = train_test_split(X_Z, wine.quality, train_size=0.8, random_state=31)\n"
   ]
  },
  {
   "cell_type": "code",
   "execution_count": null,
   "id": "3f8df67d",
   "metadata": {
    "id": "3f8df67d"
   },
   "outputs": [],
   "source": []
  },
  {
   "cell_type": "code",
   "execution_count": 43,
   "id": "2da05e69",
   "metadata": {
    "colab": {
     "base_uri": "https://localhost:8080/"
    },
    "id": "2da05e69",
    "outputId": "ee8d81d5-7c68-48d0-9bff-99f40881c881"
   },
   "outputs": [
    {
     "name": "stdout",
     "output_type": "stream",
     "text": [
      "(5197, 10)\n",
      "(1300, 10)\n",
      "(5197,)\n",
      "(1300,)\n"
     ]
    }
   ],
   "source": [
    "print(X_train.shape)\n",
    "print(X_test.shape)\n",
    "print(y_train.shape)\n",
    "print(y_test.shape)"
   ]
  },
  {
   "cell_type": "code",
   "execution_count": 44,
   "id": "uBOHJWKRxO0F",
   "metadata": {
    "colab": {
     "base_uri": "https://localhost:8080/"
    },
    "id": "uBOHJWKRxO0F",
    "outputId": "ba11d765-9cb1-442b-e4be-1b83f59186e3"
   },
   "outputs": [],
   "source": [
    "# print(X_H_train.shape)\n",
    "# print(X_H_test.shape)\n",
    "# print(y_H_train.shape)\n",
    "# print(y_H_test.shape)"
   ]
  },
  {
   "cell_type": "code",
   "execution_count": 45,
   "id": "0687719f",
   "metadata": {
    "id": "0687719f",
    "outputId": "6d3f9cc4-9340-4b5e-8025-d015971c5e34"
   },
   "outputs": [],
   "source": [
    "# print(X_Z_train.shape)\n",
    "# print(X_Z_test.shape)\n",
    "# print(y_Z_train.shape)\n",
    "# print(y_Z_test.shape)"
   ]
  },
  {
   "cell_type": "code",
   "execution_count": 46,
   "id": "ac23fc44",
   "metadata": {
    "id": "ac23fc44"
   },
   "outputs": [],
   "source": [
    "# 모델정의\n"
   ]
  },
  {
   "cell_type": "code",
   "execution_count": 47,
   "id": "9e213a72",
   "metadata": {
    "id": "9e213a72"
   },
   "outputs": [],
   "source": [
    "from sklearn.linear_model import LinearRegression"
   ]
  },
  {
   "cell_type": "code",
   "execution_count": 48,
   "id": "64ce39d5",
   "metadata": {
    "id": "64ce39d5"
   },
   "outputs": [],
   "source": [
    "model = LinearRegression()"
   ]
  },
  {
   "cell_type": "code",
   "execution_count": 49,
   "id": "pNUs6ui_xeTS",
   "metadata": {
    "id": "pNUs6ui_xeTS"
   },
   "outputs": [],
   "source": [
    "# model_H = LinearRegression()"
   ]
  },
  {
   "cell_type": "code",
   "execution_count": 50,
   "id": "e7b2c9d6",
   "metadata": {
    "id": "e7b2c9d6"
   },
   "outputs": [],
   "source": [
    "# model_Z = LinearRegression()"
   ]
  },
  {
   "cell_type": "code",
   "execution_count": 51,
   "id": "yiW-UD08xhMu",
   "metadata": {
    "colab": {
     "base_uri": "https://localhost:8080/"
    },
    "id": "yiW-UD08xhMu",
    "outputId": "4b0c6b3a-250c-4312-ee87-ec8f478b342e"
   },
   "outputs": [
    {
     "data": {
      "text/plain": [
       "LinearRegression()"
      ]
     },
     "execution_count": 51,
     "metadata": {},
     "output_type": "execute_result"
    }
   ],
   "source": [
    "model.fit(X_train, y_train)"
   ]
  },
  {
   "cell_type": "code",
   "execution_count": 52,
   "id": "e752b0c4",
   "metadata": {
    "colab": {
     "base_uri": "https://localhost:8080/"
    },
    "id": "e752b0c4",
    "outputId": "ac0cb9b0-760f-4a4e-d1a6-0f3784b28350",
    "scrolled": true
   },
   "outputs": [],
   "source": [
    "# model_H.fit(X_H_train, y_H_train)"
   ]
  },
  {
   "cell_type": "code",
   "execution_count": 53,
   "id": "f9ed5e0e",
   "metadata": {
    "id": "f9ed5e0e",
    "outputId": "639e4618-1e44-4f22-9ae9-4896e7751f33"
   },
   "outputs": [],
   "source": [
    "# model_Z.fit(X_Z_train, y_Z_train)"
   ]
  },
  {
   "cell_type": "code",
   "execution_count": 54,
   "id": "51e14d88",
   "metadata": {
    "id": "51e14d88"
   },
   "outputs": [],
   "source": [
    "# prediction = model.predict(X_test)"
   ]
  },
  {
   "cell_type": "code",
   "execution_count": 55,
   "id": "gBtWu5sZxuQl",
   "metadata": {
    "id": "gBtWu5sZxuQl"
   },
   "outputs": [],
   "source": [
    "# prediction_H = model_H.predict(X_H_test)"
   ]
  },
  {
   "cell_type": "code",
   "execution_count": 56,
   "id": "4f33d91e",
   "metadata": {
    "id": "4f33d91e"
   },
   "outputs": [],
   "source": [
    "# prediction_Z = model_Z.predict(X_Z_test)"
   ]
  },
  {
   "cell_type": "code",
   "execution_count": 57,
   "id": "c2539736",
   "metadata": {
    "colab": {
     "base_uri": "https://localhost:8080/"
    },
    "id": "c2539736",
    "outputId": "45af3711-811d-437f-c6fc-119d955e66a5"
   },
   "outputs": [],
   "source": [
    "# prediction"
   ]
  },
  {
   "cell_type": "code",
   "execution_count": 58,
   "id": "b82754b1",
   "metadata": {
    "id": "b82754b1",
    "outputId": "afe59870-c671-446b-e316-af1f4247d60d"
   },
   "outputs": [],
   "source": [
    "# prediction_H"
   ]
  },
  {
   "cell_type": "code",
   "execution_count": 59,
   "id": "OkYgOJMSxzTQ",
   "metadata": {
    "colab": {
     "base_uri": "https://localhost:8080/"
    },
    "id": "OkYgOJMSxzTQ",
    "outputId": "3b8f49b9-426a-4921-d012-d8ceb3398a3c",
    "scrolled": true
   },
   "outputs": [],
   "source": [
    "# prediction_Z"
   ]
  },
  {
   "cell_type": "markdown",
   "id": "da283ff9",
   "metadata": {
    "id": "da283ff9"
   },
   "source": [
    "### 모델평가"
   ]
  },
  {
   "cell_type": "code",
   "execution_count": 60,
   "id": "e30f9bbb",
   "metadata": {
    "id": "e30f9bbb"
   },
   "outputs": [],
   "source": [
    "from sklearn import metrics"
   ]
  },
  {
   "cell_type": "code",
   "execution_count": 61,
   "id": "35d6185b",
   "metadata": {
    "colab": {
     "base_uri": "https://localhost:8080/"
    },
    "id": "35d6185b",
    "outputId": "48402a0b-fd9a-4623-cdaf-e169785e80d2",
    "scrolled": true
   },
   "outputs": [],
   "source": [
    "# metrics.mean_absolute_error(y_test, prediction)"
   ]
  },
  {
   "cell_type": "code",
   "execution_count": 62,
   "id": "7sv24xO_x3-s",
   "metadata": {
    "colab": {
     "base_uri": "https://localhost:8080/"
    },
    "id": "7sv24xO_x3-s",
    "outputId": "dc92c8d4-4c15-4414-e6d1-56f514e4769c",
    "scrolled": true
   },
   "outputs": [],
   "source": [
    "# metrics.mean_absolute_error(y_H_test, prediction_H)"
   ]
  },
  {
   "cell_type": "code",
   "execution_count": 63,
   "id": "009a06d2",
   "metadata": {
    "id": "009a06d2",
    "outputId": "c9b00fb6-c69d-4b76-a4ca-e2ea19d5bb69"
   },
   "outputs": [],
   "source": [
    "# metrics.mean_absolute_error(y_Z_test, prediction_Z)"
   ]
  },
  {
   "cell_type": "code",
   "execution_count": 64,
   "id": "fa408ebc",
   "metadata": {
    "colab": {
     "base_uri": "https://localhost:8080/"
    },
    "id": "fa408ebc",
    "outputId": "dd2ff718-37d5-4168-c0b7-517035f43fc3"
   },
   "outputs": [],
   "source": [
    "# metrics.mean_squared_error(y_test, prediction)                 #  오류율이 낮아야 좋은 모델    "
   ]
  },
  {
   "cell_type": "code",
   "execution_count": 65,
   "id": "N6mDvk4Zx9Nt",
   "metadata": {
    "colab": {
     "base_uri": "https://localhost:8080/"
    },
    "id": "N6mDvk4Zx9Nt",
    "outputId": "18497824-60cd-4f23-c860-b1fc505d3c97",
    "scrolled": true
   },
   "outputs": [],
   "source": [
    "# metrics.mean_squared_error(y_H_test, prediction_H)"
   ]
  },
  {
   "cell_type": "code",
   "execution_count": 66,
   "id": "deeee5d2",
   "metadata": {
    "id": "deeee5d2",
    "outputId": "363f7c11-5b70-422b-acff-90c6370a4f8e"
   },
   "outputs": [],
   "source": [
    "# metrics.mean_squared_error(y_Z_test, prediction_Z)"
   ]
  },
  {
   "cell_type": "markdown",
   "id": "93c5993e",
   "metadata": {
    "id": "93c5993e"
   },
   "source": [
    "### 하단 개인작업구간"
   ]
  },
  {
   "cell_type": "markdown",
   "id": "863a3653",
   "metadata": {
    "id": "863a3653"
   },
   "source": [
    "### 숫자를 떨어뜨려라  (과제)\n",
    "- 1. 그전에 핏쳐의 셀렉션과 조합, 핏처 엔지니어링... 등\n",
    "- 2. 하이퍼 파라메터 수정해가며 수정\n",
    "- 3. 랜덤포레스트 이용.\n",
    "\n",
    "> **metrics.mean_squared_error(y_test, prediction)   오류율 낮추기 "
   ]
  },
  {
   "cell_type": "code",
   "execution_count": 67,
   "id": "4f709eb4",
   "metadata": {
    "id": "4f709eb4"
   },
   "outputs": [],
   "source": [
    "from sklearn.model_selection import cross_val_score\n",
    "from sklearn.ensemble import RandomForestRegressor"
   ]
  },
  {
   "cell_type": "code",
   "execution_count": 68,
   "id": "9338ac53",
   "metadata": {
    "id": "9338ac53"
   },
   "outputs": [],
   "source": [
    "# test_model = RandomForestRegressor(n_estimators = 300, \n",
    "#                                   max_depth = 20, \n",
    "#                                   max_features =0.7,\n",
    "#                                   random_state=31)"
   ]
  },
  {
   "cell_type": "code",
   "execution_count": 69,
   "id": "uv6G4SNzrd6u",
   "metadata": {
    "id": "uv6G4SNzrd6u"
   },
   "outputs": [],
   "source": [
    "# test_model = RandomForestRegressor(n_estimators = 300, \n",
    "#                                    max_depth = 15, \n",
    "#                                    max_features =0.7,\n",
    "#                                    random_state=51)"
   ]
  },
  {
   "cell_type": "code",
   "execution_count": 70,
   "id": "JIzg-RC3rd9t",
   "metadata": {
    "id": "JIzg-RC3rd9t"
   },
   "outputs": [],
   "source": [
    "# test_model = RandomForestRegressor(n_estimators = 300, \n",
    "#                                    max_depth = 10, \n",
    "#                                    max_features =0.7,\n",
    "#                                    random_state=51)"
   ]
  },
  {
   "cell_type": "code",
   "execution_count": 71,
   "id": "W-yRUaAFrjLq",
   "metadata": {
    "id": "W-yRUaAFrjLq"
   },
   "outputs": [],
   "source": [
    "# test_model = RandomForestRegressor(n_estimators = 300, \n",
    "#                                    max_depth = 5, \n",
    "#                                    max_features =0.7,\n",
    "#                                    random_state=51)"
   ]
  },
  {
   "cell_type": "code",
   "execution_count": 72,
   "id": "mNai5w1WoiWW",
   "metadata": {
    "id": "mNai5w1WoiWW"
   },
   "outputs": [],
   "source": [
    "# cross_val_score(test_model, X_train, y_train, scoring= 'neg_mean_squared_error', cv=5)                 #'neg_mean_squared_error'"
   ]
  },
  {
   "cell_type": "code",
   "execution_count": 73,
   "id": "luq76F-Woiae",
   "metadata": {
    "id": "luq76F-Woiae"
   },
   "outputs": [],
   "source": [
    "# cross_val_score(test_model, X_train, y_train, scoring= 'neg_mean_squared_error', cv=10)                 #'neg_mean_squared_error'"
   ]
  },
  {
   "cell_type": "code",
   "execution_count": 74,
   "id": "PqyjMsy5oi-7",
   "metadata": {
    "id": "PqyjMsy5oi-7"
   },
   "outputs": [],
   "source": [
    "# cross_val_score(test_model, X_train, y_train, scoring= 'neg_mean_squared_error', cv=15)                 #'neg_mean_squared_error'"
   ]
  },
  {
   "cell_type": "code",
   "execution_count": 75,
   "id": "mxkklQ3vorrz",
   "metadata": {
    "id": "mxkklQ3vorrz"
   },
   "outputs": [],
   "source": [
    "# cross_val_score(test_model, X_train, y_train, scoring= 'neg_mean_squared_error', cv=20)                 #'neg_mean_squared_error'"
   ]
  },
  {
   "cell_type": "code",
   "execution_count": 76,
   "id": "6FK9cWo-osGT",
   "metadata": {
    "id": "6FK9cWo-osGT"
   },
   "outputs": [],
   "source": [
    "# cross_val_score(test_model, X_train, y_train, scoring= 'neg_mean_squared_error', cv=25)                 #'neg_mean_squared_error'"
   ]
  },
  {
   "cell_type": "code",
   "execution_count": 77,
   "id": "caed8a22",
   "metadata": {
    "id": "caed8a22"
   },
   "outputs": [],
   "source": [
    "# cross_val_score(test_model, X_train, y_train, scoring= 'neg_mean_squared_error', cv=30)                 #'neg_mean_squared_error'"
   ]
  },
  {
   "cell_type": "code",
   "execution_count": 78,
   "id": "a4JOJyuboqmR",
   "metadata": {
    "id": "a4JOJyuboqmR"
   },
   "outputs": [],
   "source": [
    "# cross_val_score(test_model, X_train, y_train, scoring= 'neg_mean_squared_error', cv=40)                 #'neg_mean_squared_error'"
   ]
  },
  {
   "cell_type": "code",
   "execution_count": 79,
   "id": "NudzLGnsoqpS",
   "metadata": {
    "id": "NudzLGnsoqpS"
   },
   "outputs": [],
   "source": [
    "# cross_val_score(test_model, X_train, y_train, scoring= 'neg_mean_squared_error', cv=50)                 #'neg_mean_squared_error'"
   ]
  },
  {
   "cell_type": "code",
   "execution_count": 80,
   "id": "eAtkCqPEpFoR",
   "metadata": {
    "id": "eAtkCqPEpFoR"
   },
   "outputs": [],
   "source": [
    "# cross_val_score(test_model, X_train, y_train, scoring= 'neg_mean_squared_error', cv=5).mean()"
   ]
  },
  {
   "cell_type": "code",
   "execution_count": 81,
   "id": "QCH1fdcopFrC",
   "metadata": {
    "id": "QCH1fdcopFrC"
   },
   "outputs": [],
   "source": [
    "# cross_val_score(test_model, X_train, y_train, scoring= 'neg_mean_squared_error', cv=10).mean()"
   ]
  },
  {
   "cell_type": "code",
   "execution_count": 82,
   "id": "phMg8jhCpFua",
   "metadata": {
    "id": "phMg8jhCpFua"
   },
   "outputs": [],
   "source": [
    "# cross_val_score(test_model, X_train, y_train, scoring= 'neg_mean_squared_error', cv=15).mean()"
   ]
  },
  {
   "cell_type": "code",
   "execution_count": 83,
   "id": "g8BHtdBKpFx6",
   "metadata": {
    "id": "g8BHtdBKpFx6"
   },
   "outputs": [],
   "source": [
    "# cross_val_score(test_model, X_train, y_train, scoring= 'neg_mean_squared_error', cv=20).mean()"
   ]
  },
  {
   "cell_type": "code",
   "execution_count": 84,
   "id": "mKNt_YOVo16u",
   "metadata": {
    "id": "mKNt_YOVo16u"
   },
   "outputs": [],
   "source": [
    "# cross_val_score(test_model, X_train, y_train, scoring= 'neg_mean_squared_error', cv=25).mean()"
   ]
  },
  {
   "cell_type": "code",
   "execution_count": 85,
   "id": "4b9ec2af",
   "metadata": {
    "id": "4b9ec2af",
    "scrolled": true
   },
   "outputs": [],
   "source": [
    "# cross_val_score(test_model, X_train, y_train, scoring= 'neg_mean_squared_error', cv=30).mean()"
   ]
  },
  {
   "cell_type": "code",
   "execution_count": 86,
   "id": "ROiKkUNlpNJW",
   "metadata": {
    "id": "ROiKkUNlpNJW"
   },
   "outputs": [],
   "source": [
    "# cross_val_score(test_model, X_train, y_train, scoring= 'neg_mean_squared_error', cv=40).mean()"
   ]
  },
  {
   "cell_type": "code",
   "execution_count": 87,
   "id": "jEz4wzj4pNLj",
   "metadata": {
    "id": "jEz4wzj4pNLj"
   },
   "outputs": [],
   "source": [
    "# cross_val_score(test_model, X_train, y_train, scoring= 'neg_mean_squared_error', cv=50).mean()"
   ]
  },
  {
   "cell_type": "markdown",
   "id": "dJzyUQntdK5D",
   "metadata": {
    "id": "dJzyUQntdK5D"
   },
   "source": [
    "# 하이퍼 파라메터 시작...\n"
   ]
  },
  {
   "cell_type": "code",
   "execution_count": 88,
   "id": "tYvMHVVGo-jd",
   "metadata": {
    "colab": {
     "base_uri": "https://localhost:8080/"
    },
    "id": "tYvMHVVGo-jd",
    "outputId": "e2442e02-7a6e-4878-e806-c9470dcb969b"
   },
   "outputs": [
    {
     "name": "stderr",
     "output_type": "stream",
     "text": [
      "  1%|          | 1/100 [00:13<22:58, 13.93s/it]"
     ]
    },
    {
     "name": "stdout",
     "output_type": "stream",
     "text": [
      "현재 스코어는 -0.37641\n"
     ]
    },
    {
     "name": "stderr",
     "output_type": "stream",
     "text": [
      "\r",
      "  2%|▏         | 2/100 [00:28<22:58, 14.07s/it]"
     ]
    },
    {
     "name": "stdout",
     "output_type": "stream",
     "text": [
      "현재 스코어는 -0.37860\n"
     ]
    },
    {
     "name": "stderr",
     "output_type": "stream",
     "text": [
      "\r",
      "  3%|▎         | 3/100 [00:39<20:37, 12.75s/it]"
     ]
    },
    {
     "name": "stdout",
     "output_type": "stream",
     "text": [
      "현재 스코어는 -0.37642\n"
     ]
    },
    {
     "name": "stderr",
     "output_type": "stream",
     "text": [
      "\r",
      "  4%|▍         | 4/100 [00:53<21:24, 13.38s/it]"
     ]
    },
    {
     "name": "stdout",
     "output_type": "stream",
     "text": [
      "현재 스코어는 -0.37868\n"
     ]
    },
    {
     "name": "stderr",
     "output_type": "stream",
     "text": [
      "\r",
      "  5%|▌         | 5/100 [01:05<20:06, 12.70s/it]"
     ]
    },
    {
     "name": "stdout",
     "output_type": "stream",
     "text": [
      "현재 스코어는 -0.37643\n"
     ]
    },
    {
     "name": "stderr",
     "output_type": "stream",
     "text": [
      "\r",
      "  6%|▌         | 6/100 [01:15<18:44, 11.96s/it]"
     ]
    },
    {
     "name": "stdout",
     "output_type": "stream",
     "text": [
      "현재 스코어는 -0.37913\n"
     ]
    },
    {
     "name": "stderr",
     "output_type": "stream",
     "text": [
      "\r",
      "  7%|▋         | 7/100 [01:29<19:37, 12.66s/it]"
     ]
    },
    {
     "name": "stdout",
     "output_type": "stream",
     "text": [
      "현재 스코어는 -0.37819\n"
     ]
    },
    {
     "name": "stderr",
     "output_type": "stream",
     "text": [
      "\r",
      "  8%|▊         | 8/100 [01:44<20:35, 13.43s/it]"
     ]
    },
    {
     "name": "stdout",
     "output_type": "stream",
     "text": [
      "현재 스코어는 -0.37870\n"
     ]
    },
    {
     "name": "stderr",
     "output_type": "stream",
     "text": [
      "\r",
      "  9%|▉         | 9/100 [01:53<18:06, 11.94s/it]"
     ]
    },
    {
     "name": "stdout",
     "output_type": "stream",
     "text": [
      "현재 스코어는 -0.45091\n"
     ]
    },
    {
     "name": "stderr",
     "output_type": "stream",
     "text": [
      "\r",
      " 10%|█         | 10/100 [02:06<18:14, 12.16s/it]"
     ]
    },
    {
     "name": "stdout",
     "output_type": "stream",
     "text": [
      "현재 스코어는 -0.37967\n"
     ]
    },
    {
     "name": "stderr",
     "output_type": "stream",
     "text": [
      "\r",
      " 11%|█         | 11/100 [02:20<19:13, 12.96s/it]"
     ]
    },
    {
     "name": "stdout",
     "output_type": "stream",
     "text": [
      "현재 스코어는 -0.39104\n"
     ]
    },
    {
     "name": "stderr",
     "output_type": "stream",
     "text": [
      "\r",
      " 12%|█▏        | 12/100 [02:31<17:55, 12.23s/it]"
     ]
    },
    {
     "name": "stdout",
     "output_type": "stream",
     "text": [
      "현재 스코어는 -0.37480\n"
     ]
    },
    {
     "name": "stderr",
     "output_type": "stream",
     "text": [
      "\r",
      " 13%|█▎        | 13/100 [02:40<16:10, 11.16s/it]"
     ]
    },
    {
     "name": "stdout",
     "output_type": "stream",
     "text": [
      "현재 스코어는 -0.51183\n"
     ]
    },
    {
     "name": "stderr",
     "output_type": "stream",
     "text": [
      "\r",
      " 14%|█▍        | 14/100 [02:49<15:21, 10.71s/it]"
     ]
    },
    {
     "name": "stdout",
     "output_type": "stream",
     "text": [
      "현재 스코어는 -0.38931\n"
     ]
    },
    {
     "name": "stderr",
     "output_type": "stream",
     "text": [
      "\r",
      " 15%|█▌        | 15/100 [03:05<17:14, 12.17s/it]"
     ]
    },
    {
     "name": "stdout",
     "output_type": "stream",
     "text": [
      "현재 스코어는 -0.38136\n"
     ]
    },
    {
     "name": "stderr",
     "output_type": "stream",
     "text": [
      "\r",
      " 16%|█▌        | 16/100 [03:21<18:37, 13.31s/it]"
     ]
    },
    {
     "name": "stdout",
     "output_type": "stream",
     "text": [
      "현재 스코어는 -0.38136\n"
     ]
    },
    {
     "name": "stderr",
     "output_type": "stream",
     "text": [
      "\r",
      " 17%|█▋        | 17/100 [03:34<18:32, 13.40s/it]"
     ]
    },
    {
     "name": "stdout",
     "output_type": "stream",
     "text": [
      "현재 스코어는 -0.40876\n"
     ]
    },
    {
     "name": "stderr",
     "output_type": "stream",
     "text": [
      "\r",
      " 18%|█▊        | 18/100 [03:47<18:04, 13.23s/it]"
     ]
    },
    {
     "name": "stdout",
     "output_type": "stream",
     "text": [
      "현재 스코어는 -0.37715\n"
     ]
    },
    {
     "name": "stderr",
     "output_type": "stream",
     "text": [
      "\r",
      " 19%|█▉        | 19/100 [04:00<17:30, 12.97s/it]"
     ]
    },
    {
     "name": "stdout",
     "output_type": "stream",
     "text": [
      "현재 스코어는 -0.37967\n"
     ]
    },
    {
     "name": "stderr",
     "output_type": "stream",
     "text": [
      "\r",
      " 20%|██        | 20/100 [04:13<17:29, 13.12s/it]"
     ]
    },
    {
     "name": "stdout",
     "output_type": "stream",
     "text": [
      "현재 스코어는 -0.37819\n"
     ]
    },
    {
     "name": "stderr",
     "output_type": "stream",
     "text": [
      "\r",
      " 21%|██        | 21/100 [04:27<17:24, 13.23s/it]"
     ]
    },
    {
     "name": "stdout",
     "output_type": "stream",
     "text": [
      "현재 스코어는 -0.37863\n"
     ]
    },
    {
     "name": "stderr",
     "output_type": "stream",
     "text": [
      "\r",
      " 22%|██▏       | 22/100 [04:41<17:41, 13.61s/it]"
     ]
    },
    {
     "name": "stdout",
     "output_type": "stream",
     "text": [
      "현재 스코어는 -0.37831\n"
     ]
    },
    {
     "name": "stderr",
     "output_type": "stream",
     "text": [
      "\r",
      " 23%|██▎       | 23/100 [04:51<16:04, 12.53s/it]"
     ]
    },
    {
     "name": "stdout",
     "output_type": "stream",
     "text": [
      "현재 스코어는 -0.37512\n"
     ]
    },
    {
     "name": "stderr",
     "output_type": "stream",
     "text": [
      "\r",
      " 24%|██▍       | 24/100 [05:03<15:33, 12.29s/it]"
     ]
    },
    {
     "name": "stdout",
     "output_type": "stream",
     "text": [
      "현재 스코어는 -0.37641\n"
     ]
    },
    {
     "name": "stderr",
     "output_type": "stream",
     "text": [
      "\r",
      " 25%|██▌       | 25/100 [05:15<15:25, 12.35s/it]"
     ]
    },
    {
     "name": "stdout",
     "output_type": "stream",
     "text": [
      "현재 스코어는 -0.37713\n"
     ]
    },
    {
     "name": "stderr",
     "output_type": "stream",
     "text": [
      "\r",
      " 26%|██▌       | 26/100 [05:29<15:45, 12.78s/it]"
     ]
    },
    {
     "name": "stdout",
     "output_type": "stream",
     "text": [
      "현재 스코어는 -0.37819\n"
     ]
    },
    {
     "name": "stderr",
     "output_type": "stream",
     "text": [
      "\r",
      " 27%|██▋       | 27/100 [05:40<14:48, 12.17s/it]"
     ]
    },
    {
     "name": "stdout",
     "output_type": "stream",
     "text": [
      "현재 스코어는 -0.37512\n"
     ]
    },
    {
     "name": "stderr",
     "output_type": "stream",
     "text": [
      "\r",
      " 28%|██▊       | 28/100 [05:50<13:52, 11.56s/it]"
     ]
    },
    {
     "name": "stdout",
     "output_type": "stream",
     "text": [
      "현재 스코어는 -0.37504\n"
     ]
    },
    {
     "name": "stderr",
     "output_type": "stream",
     "text": [
      "\r",
      " 29%|██▉       | 29/100 [06:02<13:56, 11.78s/it]"
     ]
    },
    {
     "name": "stdout",
     "output_type": "stream",
     "text": [
      "현재 스코어는 -0.41896\n"
     ]
    },
    {
     "name": "stderr",
     "output_type": "stream",
     "text": [
      "\r",
      " 30%|███       | 30/100 [06:18<14:58, 12.84s/it]"
     ]
    },
    {
     "name": "stdout",
     "output_type": "stream",
     "text": [
      "현재 스코어는 -0.37871\n"
     ]
    },
    {
     "name": "stderr",
     "output_type": "stream",
     "text": [
      "\r",
      " 31%|███       | 31/100 [06:30<14:38, 12.73s/it]"
     ]
    },
    {
     "name": "stdout",
     "output_type": "stream",
     "text": [
      "현재 스코어는 -0.37642\n"
     ]
    },
    {
     "name": "stderr",
     "output_type": "stream",
     "text": [
      "\r",
      " 32%|███▏      | 32/100 [06:41<13:41, 12.09s/it]"
     ]
    },
    {
     "name": "stdout",
     "output_type": "stream",
     "text": [
      "현재 스코어는 -0.37512\n"
     ]
    },
    {
     "name": "stderr",
     "output_type": "stream",
     "text": [
      "\r",
      " 33%|███▎      | 33/100 [06:55<14:09, 12.68s/it]"
     ]
    },
    {
     "name": "stdout",
     "output_type": "stream",
     "text": [
      "현재 스코어는 -0.37819\n"
     ]
    },
    {
     "name": "stderr",
     "output_type": "stream",
     "text": [
      "\r",
      " 34%|███▍      | 34/100 [07:05<13:17, 12.09s/it]"
     ]
    },
    {
     "name": "stdout",
     "output_type": "stream",
     "text": [
      "현재 스코어는 -0.37864\n"
     ]
    },
    {
     "name": "stderr",
     "output_type": "stream",
     "text": [
      "\r",
      " 35%|███▌      | 35/100 [07:13<11:32, 10.66s/it]"
     ]
    },
    {
     "name": "stdout",
     "output_type": "stream",
     "text": [
      "현재 스코어는 -0.54098\n"
     ]
    },
    {
     "name": "stderr",
     "output_type": "stream",
     "text": [
      "\r",
      " 36%|███▌      | 36/100 [07:28<12:57, 12.15s/it]"
     ]
    },
    {
     "name": "stdout",
     "output_type": "stream",
     "text": [
      "현재 스코어는 -0.37871\n"
     ]
    },
    {
     "name": "stderr",
     "output_type": "stream",
     "text": [
      "\r",
      " 37%|███▋      | 37/100 [07:42<13:06, 12.49s/it]"
     ]
    },
    {
     "name": "stdout",
     "output_type": "stream",
     "text": [
      "현재 스코어는 -0.37715\n"
     ]
    },
    {
     "name": "stderr",
     "output_type": "stream",
     "text": [
      "\r",
      " 38%|███▊      | 38/100 [07:53<12:28, 12.07s/it]"
     ]
    },
    {
     "name": "stdout",
     "output_type": "stream",
     "text": [
      "현재 스코어는 -0.37473\n"
     ]
    },
    {
     "name": "stderr",
     "output_type": "stream",
     "text": [
      "\r",
      " 39%|███▉      | 39/100 [08:04<12:09, 11.96s/it]"
     ]
    },
    {
     "name": "stdout",
     "output_type": "stream",
     "text": [
      "현재 스코어는 -0.40012\n"
     ]
    },
    {
     "name": "stderr",
     "output_type": "stream",
     "text": [
      "\r",
      " 40%|████      | 40/100 [08:16<11:58, 11.98s/it]"
     ]
    },
    {
     "name": "stdout",
     "output_type": "stream",
     "text": [
      "현재 스코어는 -0.37641\n"
     ]
    },
    {
     "name": "stderr",
     "output_type": "stream",
     "text": [
      "\r",
      " 41%|████      | 41/100 [08:30<12:13, 12.43s/it]"
     ]
    },
    {
     "name": "stdout",
     "output_type": "stream",
     "text": [
      "현재 스코어는 -0.37715\n"
     ]
    },
    {
     "name": "stderr",
     "output_type": "stream",
     "text": [
      "\r",
      " 42%|████▏     | 42/100 [08:43<12:09, 12.57s/it]"
     ]
    },
    {
     "name": "stdout",
     "output_type": "stream",
     "text": [
      "현재 스코어는 -0.37834\n"
     ]
    },
    {
     "name": "stderr",
     "output_type": "stream",
     "text": [
      "\r",
      " 43%|████▎     | 43/100 [08:59<12:53, 13.56s/it]"
     ]
    },
    {
     "name": "stdout",
     "output_type": "stream",
     "text": [
      "현재 스코어는 -0.37871\n"
     ]
    },
    {
     "name": "stderr",
     "output_type": "stream",
     "text": [
      "\r",
      " 44%|████▍     | 44/100 [09:16<13:35, 14.56s/it]"
     ]
    },
    {
     "name": "stdout",
     "output_type": "stream",
     "text": [
      "현재 스코어는 -0.38136\n"
     ]
    },
    {
     "name": "stderr",
     "output_type": "stream",
     "text": [
      "\r",
      " 45%|████▌     | 45/100 [09:27<12:25, 13.56s/it]"
     ]
    },
    {
     "name": "stdout",
     "output_type": "stream",
     "text": [
      "현재 스코어는 -0.37473\n"
     ]
    },
    {
     "name": "stderr",
     "output_type": "stream",
     "text": [
      "\r",
      " 46%|████▌     | 46/100 [09:38<11:33, 12.85s/it]"
     ]
    },
    {
     "name": "stdout",
     "output_type": "stream",
     "text": [
      "현재 스코어는 -0.37473\n"
     ]
    },
    {
     "name": "stderr",
     "output_type": "stream",
     "text": [
      "\r",
      " 47%|████▋     | 47/100 [09:49<10:42, 12.13s/it]"
     ]
    },
    {
     "name": "stdout",
     "output_type": "stream",
     "text": [
      "현재 스코어는 -0.37512\n"
     ]
    },
    {
     "name": "stderr",
     "output_type": "stream",
     "text": [
      "\r",
      " 48%|████▊     | 48/100 [09:59<10:00, 11.55s/it]"
     ]
    },
    {
     "name": "stdout",
     "output_type": "stream",
     "text": [
      "현재 스코어는 -0.37580\n"
     ]
    },
    {
     "name": "stderr",
     "output_type": "stream",
     "text": [
      "\r",
      " 49%|████▉     | 49/100 [10:15<11:07, 13.09s/it]"
     ]
    },
    {
     "name": "stdout",
     "output_type": "stream",
     "text": [
      "현재 스코어는 -0.38136\n"
     ]
    },
    {
     "name": "stderr",
     "output_type": "stream",
     "text": [
      "\r",
      " 50%|█████     | 50/100 [10:29<11:07, 13.34s/it]"
     ]
    },
    {
     "name": "stdout",
     "output_type": "stream",
     "text": [
      "현재 스코어는 -0.37715\n"
     ]
    },
    {
     "name": "stderr",
     "output_type": "stream",
     "text": [
      "\r",
      " 51%|█████     | 51/100 [10:41<10:24, 12.75s/it]"
     ]
    },
    {
     "name": "stdout",
     "output_type": "stream",
     "text": [
      "현재 스코어는 -0.37461\n"
     ]
    },
    {
     "name": "stderr",
     "output_type": "stream",
     "text": [
      "\r",
      " 52%|█████▏    | 52/100 [10:53<10:04, 12.59s/it]"
     ]
    },
    {
     "name": "stdout",
     "output_type": "stream",
     "text": [
      "현재 스코어는 -0.37640\n"
     ]
    },
    {
     "name": "stderr",
     "output_type": "stream",
     "text": [
      "\r",
      " 53%|█████▎    | 53/100 [11:08<10:29, 13.39s/it]"
     ]
    },
    {
     "name": "stdout",
     "output_type": "stream",
     "text": [
      "현재 스코어는 -0.37871\n"
     ]
    },
    {
     "name": "stderr",
     "output_type": "stream",
     "text": [
      "\r",
      " 54%|█████▍    | 54/100 [11:25<11:03, 14.42s/it]"
     ]
    },
    {
     "name": "stdout",
     "output_type": "stream",
     "text": [
      "현재 스코어는 -0.38137\n"
     ]
    },
    {
     "name": "stderr",
     "output_type": "stream",
     "text": [
      "\r",
      " 55%|█████▌    | 55/100 [11:35<09:43, 12.97s/it]"
     ]
    },
    {
     "name": "stdout",
     "output_type": "stream",
     "text": [
      "현재 스코어는 -0.43294\n"
     ]
    },
    {
     "name": "stderr",
     "output_type": "stream",
     "text": [
      "\r",
      " 56%|█████▌    | 56/100 [11:49<09:49, 13.40s/it]"
     ]
    },
    {
     "name": "stdout",
     "output_type": "stream",
     "text": [
      "현재 스코어는 -0.38042\n"
     ]
    },
    {
     "name": "stderr",
     "output_type": "stream",
     "text": [
      "\r",
      " 57%|█████▋    | 57/100 [12:00<09:01, 12.60s/it]"
     ]
    },
    {
     "name": "stdout",
     "output_type": "stream",
     "text": [
      "현재 스코어는 -0.37513\n"
     ]
    },
    {
     "name": "stderr",
     "output_type": "stream",
     "text": [
      "\r",
      " 58%|█████▊    | 58/100 [12:11<08:34, 12.24s/it]"
     ]
    },
    {
     "name": "stdout",
     "output_type": "stream",
     "text": [
      "현재 스코어는 -0.37744\n"
     ]
    },
    {
     "name": "stderr",
     "output_type": "stream",
     "text": [
      "\r",
      " 59%|█████▉    | 59/100 [12:24<08:28, 12.41s/it]"
     ]
    },
    {
     "name": "stdout",
     "output_type": "stream",
     "text": [
      "현재 스코어는 -0.37641\n"
     ]
    },
    {
     "name": "stderr",
     "output_type": "stream",
     "text": [
      "\r",
      " 60%|██████    | 60/100 [12:38<08:42, 13.05s/it]"
     ]
    },
    {
     "name": "stdout",
     "output_type": "stream",
     "text": [
      "현재 스코어는 -0.37817\n"
     ]
    },
    {
     "name": "stderr",
     "output_type": "stream",
     "text": [
      "\r",
      " 61%|██████    | 61/100 [12:52<08:32, 13.14s/it]"
     ]
    },
    {
     "name": "stdout",
     "output_type": "stream",
     "text": [
      "현재 스코어는 -0.37715\n"
     ]
    },
    {
     "name": "stderr",
     "output_type": "stream",
     "text": [
      "\r",
      " 62%|██████▏   | 62/100 [13:05<08:21, 13.19s/it]"
     ]
    },
    {
     "name": "stdout",
     "output_type": "stream",
     "text": [
      "현재 스코어는 -0.37715\n"
     ]
    },
    {
     "name": "stderr",
     "output_type": "stream",
     "text": [
      "\r",
      " 63%|██████▎   | 63/100 [13:17<07:58, 12.94s/it]"
     ]
    },
    {
     "name": "stdout",
     "output_type": "stream",
     "text": [
      "현재 스코어는 -0.37641\n"
     ]
    },
    {
     "name": "stderr",
     "output_type": "stream",
     "text": [
      "\r",
      " 64%|██████▍   | 64/100 [13:33<08:16, 13.78s/it]"
     ]
    },
    {
     "name": "stdout",
     "output_type": "stream",
     "text": [
      "현재 스코어는 -0.37871\n"
     ]
    },
    {
     "name": "stderr",
     "output_type": "stream",
     "text": [
      "\r",
      " 65%|██████▌   | 65/100 [13:50<08:36, 14.77s/it]"
     ]
    },
    {
     "name": "stdout",
     "output_type": "stream",
     "text": [
      "현재 스코어는 -0.38136\n"
     ]
    },
    {
     "name": "stderr",
     "output_type": "stream",
     "text": [
      "\r",
      " 66%|██████▌   | 66/100 [14:02<07:52, 13.90s/it]"
     ]
    },
    {
     "name": "stdout",
     "output_type": "stream",
     "text": [
      "현재 스코어는 -0.37473\n"
     ]
    },
    {
     "name": "stderr",
     "output_type": "stream",
     "text": [
      "\r",
      " 67%|██████▋   | 67/100 [14:18<07:57, 14.47s/it]"
     ]
    },
    {
     "name": "stdout",
     "output_type": "stream",
     "text": [
      "현재 스코어는 -0.37871\n"
     ]
    },
    {
     "name": "stderr",
     "output_type": "stream",
     "text": [
      "\r",
      " 68%|██████▊   | 68/100 [14:29<07:05, 13.30s/it]"
     ]
    },
    {
     "name": "stdout",
     "output_type": "stream",
     "text": [
      "현재 스코어는 -0.37516\n"
     ]
    },
    {
     "name": "stderr",
     "output_type": "stream",
     "text": [
      "\r",
      " 69%|██████▉   | 69/100 [14:42<06:53, 13.34s/it]"
     ]
    },
    {
     "name": "stdout",
     "output_type": "stream",
     "text": [
      "현재 스코어는 -0.37715\n"
     ]
    },
    {
     "name": "stderr",
     "output_type": "stream",
     "text": [
      "\r",
      " 70%|███████   | 70/100 [14:58<07:02, 14.08s/it]"
     ]
    },
    {
     "name": "stdout",
     "output_type": "stream",
     "text": [
      "현재 스코어는 -0.37871\n"
     ]
    },
    {
     "name": "stderr",
     "output_type": "stream",
     "text": [
      "\r",
      " 71%|███████   | 71/100 [15:13<06:54, 14.28s/it]"
     ]
    },
    {
     "name": "stdout",
     "output_type": "stream",
     "text": [
      "현재 스코어는 -0.37819\n"
     ]
    },
    {
     "name": "stderr",
     "output_type": "stream",
     "text": [
      "\r",
      " 72%|███████▏  | 72/100 [15:24<06:16, 13.43s/it]"
     ]
    },
    {
     "name": "stdout",
     "output_type": "stream",
     "text": [
      "현재 스코어는 -0.37496\n"
     ]
    },
    {
     "name": "stderr",
     "output_type": "stream",
     "text": [
      "\r",
      " 73%|███████▎  | 73/100 [15:37<05:57, 13.26s/it]"
     ]
    },
    {
     "name": "stdout",
     "output_type": "stream",
     "text": [
      "현재 스코어는 -0.40063\n"
     ]
    },
    {
     "name": "stderr",
     "output_type": "stream",
     "text": [
      "\r",
      " 74%|███████▍  | 74/100 [15:54<06:13, 14.36s/it]"
     ]
    },
    {
     "name": "stdout",
     "output_type": "stream",
     "text": [
      "현재 스코어는 -0.38136\n"
     ]
    },
    {
     "name": "stderr",
     "output_type": "stream",
     "text": [
      "\r",
      " 75%|███████▌  | 75/100 [16:09<06:08, 14.75s/it]"
     ]
    },
    {
     "name": "stdout",
     "output_type": "stream",
     "text": [
      "현재 스코어는 -0.37872\n"
     ]
    },
    {
     "name": "stderr",
     "output_type": "stream",
     "text": [
      "\r",
      " 76%|███████▌  | 76/100 [16:24<05:50, 14.61s/it]"
     ]
    },
    {
     "name": "stdout",
     "output_type": "stream",
     "text": [
      "현재 스코어는 -0.37693\n"
     ]
    },
    {
     "name": "stderr",
     "output_type": "stream",
     "text": [
      "\r",
      " 77%|███████▋  | 77/100 [16:35<05:16, 13.76s/it]"
     ]
    },
    {
     "name": "stdout",
     "output_type": "stream",
     "text": [
      "현재 스코어는 -0.37533\n"
     ]
    },
    {
     "name": "stderr",
     "output_type": "stream",
     "text": [
      "\r",
      " 78%|███████▊  | 78/100 [16:47<04:49, 13.15s/it]"
     ]
    },
    {
     "name": "stdout",
     "output_type": "stream",
     "text": [
      "현재 스코어는 -0.37473\n"
     ]
    },
    {
     "name": "stderr",
     "output_type": "stream",
     "text": [
      "\r",
      " 79%|███████▉  | 79/100 [17:04<05:01, 14.36s/it]"
     ]
    },
    {
     "name": "stdout",
     "output_type": "stream",
     "text": [
      "현재 스코어는 -0.38136\n"
     ]
    },
    {
     "name": "stderr",
     "output_type": "stream",
     "text": [
      "\r",
      " 80%|████████  | 80/100 [17:22<05:06, 15.34s/it]"
     ]
    },
    {
     "name": "stdout",
     "output_type": "stream",
     "text": [
      "현재 스코어는 -0.38136\n"
     ]
    },
    {
     "name": "stderr",
     "output_type": "stream",
     "text": [
      "\r",
      " 81%|████████  | 81/100 [17:33<04:24, 13.94s/it]"
     ]
    },
    {
     "name": "stdout",
     "output_type": "stream",
     "text": [
      "현재 스코어는 -0.37694\n"
     ]
    },
    {
     "name": "stderr",
     "output_type": "stream",
     "text": [
      "\r",
      " 82%|████████▏ | 82/100 [17:45<04:00, 13.35s/it]"
     ]
    },
    {
     "name": "stdout",
     "output_type": "stream",
     "text": [
      "현재 스코어는 -0.41856\n"
     ]
    },
    {
     "name": "stderr",
     "output_type": "stream",
     "text": [
      "\r",
      " 83%|████████▎ | 83/100 [17:52<03:18, 11.68s/it]"
     ]
    },
    {
     "name": "stdout",
     "output_type": "stream",
     "text": [
      "현재 스코어는 -0.51710\n"
     ]
    },
    {
     "name": "stderr",
     "output_type": "stream",
     "text": [
      "\r",
      " 84%|████████▍ | 84/100 [18:09<03:28, 13.05s/it]"
     ]
    },
    {
     "name": "stdout",
     "output_type": "stream",
     "text": [
      "현재 스코어는 -0.37871\n"
     ]
    },
    {
     "name": "stderr",
     "output_type": "stream",
     "text": [
      "\r",
      " 85%|████████▌ | 85/100 [18:23<03:20, 13.37s/it]"
     ]
    },
    {
     "name": "stdout",
     "output_type": "stream",
     "text": [
      "현재 스코어는 -0.41884\n"
     ]
    },
    {
     "name": "stderr",
     "output_type": "stream",
     "text": [
      "\r",
      " 86%|████████▌ | 86/100 [18:33<02:55, 12.54s/it]"
     ]
    },
    {
     "name": "stdout",
     "output_type": "stream",
     "text": [
      "현재 스코어는 -0.37512\n"
     ]
    },
    {
     "name": "stderr",
     "output_type": "stream",
     "text": [
      "\r",
      " 87%|████████▋ | 87/100 [18:45<02:39, 12.25s/it]"
     ]
    },
    {
     "name": "stdout",
     "output_type": "stream",
     "text": [
      "현재 스코어는 -0.37466\n"
     ]
    },
    {
     "name": "stderr",
     "output_type": "stream",
     "text": [
      "\r",
      " 88%|████████▊ | 88/100 [19:00<02:35, 12.93s/it]"
     ]
    },
    {
     "name": "stdout",
     "output_type": "stream",
     "text": [
      "현재 스코어는 -0.37830\n"
     ]
    },
    {
     "name": "stderr",
     "output_type": "stream",
     "text": [
      "\r",
      " 89%|████████▉ | 89/100 [19:11<02:16, 12.38s/it]"
     ]
    },
    {
     "name": "stdout",
     "output_type": "stream",
     "text": [
      "현재 스코어는 -0.37701\n"
     ]
    },
    {
     "name": "stderr",
     "output_type": "stream",
     "text": [
      "\r",
      " 90%|█████████ | 90/100 [19:28<02:18, 13.88s/it]"
     ]
    },
    {
     "name": "stdout",
     "output_type": "stream",
     "text": [
      "현재 스코어는 -0.38136\n"
     ]
    },
    {
     "name": "stderr",
     "output_type": "stream",
     "text": [
      "\r",
      " 91%|█████████ | 91/100 [19:44<02:09, 14.40s/it]"
     ]
    },
    {
     "name": "stdout",
     "output_type": "stream",
     "text": [
      "현재 스코어는 -0.37807\n"
     ]
    },
    {
     "name": "stderr",
     "output_type": "stream",
     "text": [
      "\r",
      " 92%|█████████▏| 92/100 [19:56<01:50, 13.78s/it]"
     ]
    },
    {
     "name": "stdout",
     "output_type": "stream",
     "text": [
      "현재 스코어는 -0.37473\n"
     ]
    },
    {
     "name": "stderr",
     "output_type": "stream",
     "text": [
      "\r",
      " 93%|█████████▎| 93/100 [20:10<01:37, 13.88s/it]"
     ]
    },
    {
     "name": "stdout",
     "output_type": "stream",
     "text": [
      "현재 스코어는 -0.37714\n"
     ]
    },
    {
     "name": "stderr",
     "output_type": "stream",
     "text": [
      "\r",
      " 94%|█████████▍| 94/100 [20:21<01:17, 12.95s/it]"
     ]
    },
    {
     "name": "stdout",
     "output_type": "stream",
     "text": [
      "현재 스코어는 -0.37512\n"
     ]
    },
    {
     "name": "stderr",
     "output_type": "stream",
     "text": [
      "\r",
      " 95%|█████████▌| 95/100 [20:37<01:09, 13.84s/it]"
     ]
    },
    {
     "name": "stdout",
     "output_type": "stream",
     "text": [
      "현재 스코어는 -0.37907\n"
     ]
    },
    {
     "name": "stderr",
     "output_type": "stream",
     "text": [
      "\r",
      " 96%|█████████▌| 96/100 [20:48<00:51, 12.92s/it]"
     ]
    },
    {
     "name": "stdout",
     "output_type": "stream",
     "text": [
      "현재 스코어는 -0.37512\n"
     ]
    },
    {
     "name": "stderr",
     "output_type": "stream",
     "text": [
      "\r",
      " 97%|█████████▋| 97/100 [21:03<00:41, 13.76s/it]"
     ]
    },
    {
     "name": "stdout",
     "output_type": "stream",
     "text": [
      "현재 스코어는 -0.37836\n"
     ]
    },
    {
     "name": "stderr",
     "output_type": "stream",
     "text": [
      "\r",
      " 98%|█████████▊| 98/100 [21:17<00:27, 13.73s/it]"
     ]
    },
    {
     "name": "stdout",
     "output_type": "stream",
     "text": [
      "현재 스코어는 -0.40063\n"
     ]
    },
    {
     "name": "stderr",
     "output_type": "stream",
     "text": [
      "\r",
      " 99%|█████████▉| 99/100 [21:33<00:14, 14.37s/it]"
     ]
    },
    {
     "name": "stdout",
     "output_type": "stream",
     "text": [
      "현재 스코어는 -0.37819\n"
     ]
    },
    {
     "name": "stderr",
     "output_type": "stream",
     "text": [
      "100%|██████████| 100/100 [21:44<00:00, 13.05s/it]"
     ]
    },
    {
     "name": "stdout",
     "output_type": "stream",
     "text": [
      "현재 스코어는 -0.37511\n"
     ]
    },
    {
     "name": "stderr",
     "output_type": "stream",
     "text": [
      "\n"
     ]
    }
   ],
   "source": [
    "from tqdm import tqdm\n",
    "\n",
    "hyper_result =[]\n",
    "\n",
    "# max_depth = [3,5,7,9,11,13]\n",
    "# max_feature = [0.7,0.8,0.9,1.0]\n",
    "\n",
    "\n",
    "# for a in max_depth:\n",
    "#     for b in max_feature:\n",
    "\n",
    "#         model_E = RandomForestRegressor(n_estimators = 500, \n",
    "#                                       max_depth = a, \n",
    "#                                       max_features =b,\n",
    "#                                       min_samples_split=2,\n",
    "#                                       min_samples_leaf=1,\n",
    "#                                       random_state=31)\n",
    "\n",
    "for i in tqdm(range(100)):\n",
    "    a = np.random.randint(5,80)\n",
    "    b = np.random.uniform(0.2,0.9)\n",
    "    model = RandomForestRegressor(n_estimators = 400, \n",
    "                                  max_depth = a, \n",
    "                                  max_features =b,\n",
    "                                  min_samples_split=3,\n",
    "                                  min_samples_leaf=1,\n",
    "                                  random_state=31,\n",
    "                                  n_jobs=-1)\n",
    "\n",
    "    score = cross_val_score(model, X_train, y_train, scoring= 'neg_mean_squared_error', cv=20).mean()\n",
    "\n",
    "    hyper_result.append({'점수' : score,\n",
    "                         'n_estimators' : 400,\n",
    "                         'MAX_depth': a,\n",
    "                         'MAX_features': b})\n",
    "              \n",
    "\n",
    "    print(\"현재 스코어는 {0:.5f}\".format(score))\n"
   ]
  },
  {
   "cell_type": "code",
   "execution_count": 89,
   "id": "b4d9931f",
   "metadata": {
    "id": "b4d9931f"
   },
   "outputs": [
    {
     "data": {
      "text/html": [
       "<div>\n",
       "<style scoped>\n",
       "    .dataframe tbody tr th:only-of-type {\n",
       "        vertical-align: middle;\n",
       "    }\n",
       "\n",
       "    .dataframe tbody tr th {\n",
       "        vertical-align: top;\n",
       "    }\n",
       "\n",
       "    .dataframe thead th {\n",
       "        text-align: right;\n",
       "    }\n",
       "</style>\n",
       "<table border=\"1\" class=\"dataframe\">\n",
       "  <thead>\n",
       "    <tr style=\"text-align: right;\">\n",
       "      <th></th>\n",
       "      <th>점수</th>\n",
       "      <th>n_estimators</th>\n",
       "      <th>MAX_depth</th>\n",
       "      <th>MAX_features</th>\n",
       "    </tr>\n",
       "  </thead>\n",
       "  <tbody>\n",
       "    <tr>\n",
       "      <th>50</th>\n",
       "      <td>-0.374610</td>\n",
       "      <td>400</td>\n",
       "      <td>30</td>\n",
       "      <td>0.311594</td>\n",
       "    </tr>\n",
       "    <tr>\n",
       "      <th>86</th>\n",
       "      <td>-0.374661</td>\n",
       "      <td>400</td>\n",
       "      <td>33</td>\n",
       "      <td>0.378713</td>\n",
       "    </tr>\n",
       "    <tr>\n",
       "      <th>91</th>\n",
       "      <td>-0.374728</td>\n",
       "      <td>400</td>\n",
       "      <td>46</td>\n",
       "      <td>0.302536</td>\n",
       "    </tr>\n",
       "    <tr>\n",
       "      <th>77</th>\n",
       "      <td>-0.374728</td>\n",
       "      <td>400</td>\n",
       "      <td>48</td>\n",
       "      <td>0.389516</td>\n",
       "    </tr>\n",
       "    <tr>\n",
       "      <th>65</th>\n",
       "      <td>-0.374728</td>\n",
       "      <td>400</td>\n",
       "      <td>79</td>\n",
       "      <td>0.373777</td>\n",
       "    </tr>\n",
       "    <tr>\n",
       "      <th>...</th>\n",
       "      <td>...</td>\n",
       "      <td>...</td>\n",
       "      <td>...</td>\n",
       "      <td>...</td>\n",
       "    </tr>\n",
       "    <tr>\n",
       "      <th>54</th>\n",
       "      <td>-0.432935</td>\n",
       "      <td>400</td>\n",
       "      <td>10</td>\n",
       "      <td>0.476348</td>\n",
       "    </tr>\n",
       "    <tr>\n",
       "      <th>8</th>\n",
       "      <td>-0.450908</td>\n",
       "      <td>400</td>\n",
       "      <td>9</td>\n",
       "      <td>0.301259</td>\n",
       "    </tr>\n",
       "    <tr>\n",
       "      <th>12</th>\n",
       "      <td>-0.511828</td>\n",
       "      <td>400</td>\n",
       "      <td>5</td>\n",
       "      <td>0.831322</td>\n",
       "    </tr>\n",
       "    <tr>\n",
       "      <th>82</th>\n",
       "      <td>-0.517099</td>\n",
       "      <td>400</td>\n",
       "      <td>6</td>\n",
       "      <td>0.203253</td>\n",
       "    </tr>\n",
       "    <tr>\n",
       "      <th>34</th>\n",
       "      <td>-0.540979</td>\n",
       "      <td>400</td>\n",
       "      <td>5</td>\n",
       "      <td>0.282285</td>\n",
       "    </tr>\n",
       "  </tbody>\n",
       "</table>\n",
       "<p>100 rows × 4 columns</p>\n",
       "</div>"
      ],
      "text/plain": [
       "          점수  n_estimators  MAX_depth  MAX_features\n",
       "50 -0.374610           400         30      0.311594\n",
       "86 -0.374661           400         33      0.378713\n",
       "91 -0.374728           400         46      0.302536\n",
       "77 -0.374728           400         48      0.389516\n",
       "65 -0.374728           400         79      0.373777\n",
       "..       ...           ...        ...           ...\n",
       "54 -0.432935           400         10      0.476348\n",
       "8  -0.450908           400          9      0.301259\n",
       "12 -0.511828           400          5      0.831322\n",
       "82 -0.517099           400          6      0.203253\n",
       "34 -0.540979           400          5      0.282285\n",
       "\n",
       "[100 rows x 4 columns]"
      ]
     },
     "execution_count": 89,
     "metadata": {},
     "output_type": "execute_result"
    }
   ],
   "source": [
    "pd.DataFrame(hyper_result).sort_values(by='점수', ascending=False) "
   ]
  },
  {
   "cell_type": "code",
   "execution_count": 139,
   "id": "K04vW9UXJHtg",
   "metadata": {
    "id": "K04vW9UXJHtg",
    "outputId": "0469a2ad-d6e0-415a-b4dc-8e438376783b"
   },
   "outputs": [
    {
     "name": "stdout",
     "output_type": "stream",
     "text": [
      "최소에러율\n",
      "-0.37461005467315645\n",
      " \n",
      "평균에러율\n",
      "-0.3856774638341184\n"
     ]
    }
   ],
   "source": [
    "print(\"최소에러율\")\n",
    "print(pd.DataFrame(hyper_result)['점수'].max())\n",
    "# print(pd.DataFrame(hyper_result2)['점수'].max())\n",
    "# print(pd.DataFrame(hyper_result_B)['점수'].max())\n",
    "# print(pd.DataFrame(hyper_result_C)['점수'].max())\n",
    "# print(pd.DataFrame(hyper_result_D)['점수'].max())\n",
    "# print(pd.DataFrame(hyper_result_E)['점수'].max())\n",
    "# print(pd.DataFrame(hyper_result_F)['점수'].max())\n",
    "# print(pd.DataFrame(hyper_result_G)['점수'].max())\n",
    "# print(pd.DataFrame(hyper_result_H)['점수'].max())\n",
    "# print(pd.DataFrame(hyper_result_H2)['점수'].max())\n",
    "# print(pd.DataFrame(hyper_result_Z)['점수'].max())\n",
    "# print(pd.DataFrame(hyper_result_Z2)['점수'].max())\n",
    "\n",
    "print(\" \")\n",
    "print(\"평균에러율\")\n",
    "print(pd.DataFrame(hyper_result)['점수'].mean())\n",
    "# print(pd.DataFrame(hyper_result2)['점수'].mean())\n",
    "# print(pd.DataFrame(hyper_result_B)['점수'].mean())\n",
    "# print(pd.DataFrame(hyper_result_C)['점수'].mean())\n",
    "# print(pd.DataFrame(hyper_result_D)['점수'].mean())\n",
    "# print(pd.DataFrame(hyper_result_E)['점수'].mean())\n",
    "# print(pd.DataFrame(hyper_result_F)['점수'].mean())\n",
    "# print(pd.DataFrame(hyper_result_G)['점수'].mean())\n",
    "# print(pd.DataFrame(hyper_result_H)['점수'].mean())\n",
    "# print(pd.DataFrame(hyper_result_H2)['점수'].mean())\n",
    "# print(pd.DataFrame(hyper_result_Z)['점수'].mean())\n",
    "# print(pd.DataFrame(hyper_result_Z2)['점수'].mean())"
   ]
  },
  {
   "cell_type": "code",
   "execution_count": 91,
   "id": "6iJIePkfNtKu",
   "metadata": {
    "id": "6iJIePkfNtKu"
   },
   "outputs": [],
   "source": [
    "# 최종 모델정의"
   ]
  },
  {
   "cell_type": "code",
   "execution_count": 92,
   "id": "HUtx-gH4OQ4t",
   "metadata": {
    "id": "HUtx-gH4OQ4t"
   },
   "outputs": [],
   "source": [
    "from sklearn.model_selection import cross_val_score\n",
    "from sklearn.ensemble import RandomForestRegressor"
   ]
  },
  {
   "cell_type": "code",
   "execution_count": 93,
   "id": "LSRiWVXYOQ4u",
   "metadata": {
    "id": "LSRiWVXYOQ4u"
   },
   "outputs": [],
   "source": [
    "Finalmodel = RandomForestRegressor()\n",
    "# Finalmodel2 = RandomForestRegressor()\n",
    "# Finalmodel_B = RandomForestRegressor()\n",
    "# Finalmodel_C = RandomForestRegressor()\n",
    "# Finalmodel_D = RandomForestRegressor()\n",
    "# Finalmodel_E = RandomForestRegressor()\n",
    "# Finalmodel_F = RandomForestRegressor()\n",
    "# Finalmodel_G = RandomForestRegressor()\n",
    "# Finalmodel_H = RandomForestRegressor()\n",
    "# Finalmodel_H2 = RandomForestRegressor()\n",
    "# Finalmodel_Z = RandomForestRegressor()\n",
    "# Finalmodel_Z2 = RandomForestRegressor()"
   ]
  },
  {
   "cell_type": "code",
   "execution_count": 94,
   "id": "sAI4JfUUOQ4u",
   "metadata": {
    "id": "sAI4JfUUOQ4u",
    "outputId": "4fecb2ce-7ae5-4d49-f392-15389bca343b"
   },
   "outputs": [
    {
     "data": {
      "text/plain": [
       "RandomForestRegressor()"
      ]
     },
     "execution_count": 94,
     "metadata": {},
     "output_type": "execute_result"
    }
   ],
   "source": [
    "Finalmodel.fit(X_train, y_train)\n",
    "# Finalmodel2.fit(X_train, y_train)\n",
    "# Finalmodel_B.fit(X_B_train, y_B_train)\n",
    "# Finalmodel_C.fit(X_C_train, y_C_train)\n",
    "# Finalmodel_D.fit(X_D_train, y_D_train)\n",
    "# Finalmodel_E.fit(X_E_train, y_E_train)\n",
    "# Finalmodel_F.fit(X_F_train, y_F_train)\n",
    "# Finalmodel_G.fit(X_G_train, y_G_train)\n",
    "# Finalmodel_H.fit(X_H_train, y_H_train)\n",
    "# Finalmodel_H2.fit(X_H_train, y_H_train)\n",
    "# Finalmodel_Z.fit(X_H_train, y_H_train)\n",
    "# Finalmodel_Z2.fit(X_H_train, y_H_train)"
   ]
  },
  {
   "cell_type": "code",
   "execution_count": 95,
   "id": "dtUvqunoOQ4u",
   "metadata": {
    "id": "dtUvqunoOQ4u"
   },
   "outputs": [],
   "source": [
    "prediction = Finalmodel.predict(X_test)\n",
    "# prediction2 = Finalmodel2.predict(X_test)"
   ]
  },
  {
   "cell_type": "code",
   "execution_count": 96,
   "id": "eoLozrijOQ4u",
   "metadata": {
    "id": "eoLozrijOQ4u"
   },
   "outputs": [],
   "source": [
    "# prediction_B = Finalmodel_B.predict(X_B_test)\n",
    "# prediction_C = Finalmodel_C.predict(X_C_test)\n",
    "# prediction_D = Finalmodel_D.predict(X_D_test)\n",
    "# prediction_E = Finalmodel_E.predict(X_E_test)\n",
    "# prediction_F = Finalmodel_F.predict(X_F_test)\n",
    "# prediction_G = Finalmodel_G.predict(X_G_test)\n",
    "# prediction_H = Finalmodel_H.predict(X_H_test)\n",
    "# prediction_H2 = Finalmodel_H2.predict(X_H_test)\n",
    "# prediction_Z = Finalmodel_H.predict(X_H_test)\n",
    "# prediction_Z2 = Finalmodel_H2.predict(X_H_test)"
   ]
  },
  {
   "cell_type": "code",
   "execution_count": 97,
   "id": "pASov1QVOQ4u",
   "metadata": {
    "id": "pASov1QVOQ4u"
   },
   "outputs": [
    {
     "data": {
      "text/plain": [
       "array([5.97, 5.82, 6.84, ..., 5.84, 6.49, 5.49])"
      ]
     },
     "execution_count": 97,
     "metadata": {},
     "output_type": "execute_result"
    }
   ],
   "source": [
    "prediction"
   ]
  },
  {
   "cell_type": "code",
   "execution_count": 98,
   "id": "UKn79LvtH0di",
   "metadata": {
    "id": "UKn79LvtH0di"
   },
   "outputs": [],
   "source": [
    "# prediction2"
   ]
  },
  {
   "cell_type": "code",
   "execution_count": 99,
   "id": "ynoqCE4lOQ4u",
   "metadata": {
    "id": "ynoqCE4lOQ4u"
   },
   "outputs": [],
   "source": [
    "# prediction_B"
   ]
  },
  {
   "cell_type": "code",
   "execution_count": 100,
   "id": "aBpP6DHhQT1L",
   "metadata": {
    "id": "aBpP6DHhQT1L"
   },
   "outputs": [],
   "source": [
    "# prediction_C"
   ]
  },
  {
   "cell_type": "code",
   "execution_count": 101,
   "id": "IV-aoza9QT35",
   "metadata": {
    "id": "IV-aoza9QT35"
   },
   "outputs": [],
   "source": [
    "# prediction_D"
   ]
  },
  {
   "cell_type": "code",
   "execution_count": 102,
   "id": "GaFMPXwIQT6w",
   "metadata": {
    "id": "GaFMPXwIQT6w"
   },
   "outputs": [],
   "source": [
    "# prediction_E"
   ]
  },
  {
   "cell_type": "code",
   "execution_count": 103,
   "id": "XOBCsTJ2QT9z",
   "metadata": {
    "id": "XOBCsTJ2QT9z"
   },
   "outputs": [],
   "source": [
    "# prediction_F"
   ]
  },
  {
   "cell_type": "code",
   "execution_count": 104,
   "id": "ZtyuaONTQUAf",
   "metadata": {
    "id": "ZtyuaONTQUAf"
   },
   "outputs": [],
   "source": [
    "# prediction_G"
   ]
  },
  {
   "cell_type": "code",
   "execution_count": 105,
   "id": "KjxYWnudQUC5",
   "metadata": {
    "id": "KjxYWnudQUC5"
   },
   "outputs": [],
   "source": [
    "# prediction_H"
   ]
  },
  {
   "cell_type": "code",
   "execution_count": 106,
   "id": "NvDhYGFKH1h4",
   "metadata": {
    "id": "NvDhYGFKH1h4"
   },
   "outputs": [],
   "source": [
    "# prediction_H2"
   ]
  },
  {
   "cell_type": "code",
   "execution_count": 107,
   "id": "868dfd00",
   "metadata": {
    "id": "868dfd00",
    "outputId": "999a23f1-6837-47db-974e-52583db1a9d9"
   },
   "outputs": [],
   "source": [
    "# prediction_Z"
   ]
  },
  {
   "cell_type": "code",
   "execution_count": 108,
   "id": "3a559a0c",
   "metadata": {
    "id": "3a559a0c",
    "outputId": "d0d42295-33bb-4bda-b716-ec5f880845bf"
   },
   "outputs": [],
   "source": [
    "# prediction_Z2"
   ]
  },
  {
   "cell_type": "markdown",
   "id": "ubvLLVrbOQ4v",
   "metadata": {
    "id": "ubvLLVrbOQ4v"
   },
   "source": [
    "### 모델평가"
   ]
  },
  {
   "cell_type": "code",
   "execution_count": 109,
   "id": "mBN1R2BjOQ4v",
   "metadata": {
    "id": "mBN1R2BjOQ4v"
   },
   "outputs": [],
   "source": [
    "from sklearn import metrics"
   ]
  },
  {
   "cell_type": "code",
   "execution_count": 110,
   "id": "wCX8L4AQOQ4v",
   "metadata": {
    "id": "wCX8L4AQOQ4v"
   },
   "outputs": [
    {
     "data": {
      "text/plain": [
       "0.35485130769230766"
      ]
     },
     "execution_count": 110,
     "metadata": {},
     "output_type": "execute_result"
    }
   ],
   "source": [
    "metrics.mean_squared_error(y_test, prediction)                 #  오류율이 낮아야 좋은 모델    "
   ]
  },
  {
   "cell_type": "code",
   "execution_count": 111,
   "id": "yaA4A2qdH392",
   "metadata": {
    "id": "yaA4A2qdH392"
   },
   "outputs": [],
   "source": [
    "# metrics.mean_squared_error(y_test, prediction2)                 #  오류율이 낮아야 좋은 모델    "
   ]
  },
  {
   "cell_type": "code",
   "execution_count": 112,
   "id": "YsKf-oicOQ4w",
   "metadata": {
    "id": "YsKf-oicOQ4w"
   },
   "outputs": [],
   "source": [
    "# metrics.mean_squared_error(y_B_test, prediction_B)   "
   ]
  },
  {
   "cell_type": "code",
   "execution_count": 113,
   "id": "VsMgJZwjQmtU",
   "metadata": {
    "id": "VsMgJZwjQmtU"
   },
   "outputs": [],
   "source": [
    "# metrics.mean_squared_error(y_C_test, prediction_C) "
   ]
  },
  {
   "cell_type": "code",
   "execution_count": 114,
   "id": "n26-5HvjQmyA",
   "metadata": {
    "id": "n26-5HvjQmyA"
   },
   "outputs": [],
   "source": [
    "# metrics.mean_squared_error(y_D_test, prediction_D) "
   ]
  },
  {
   "cell_type": "code",
   "execution_count": 115,
   "id": "1nqDcniEQm2M",
   "metadata": {
    "id": "1nqDcniEQm2M"
   },
   "outputs": [],
   "source": [
    "# metrics.mean_squared_error(y_E_test, prediction_E) "
   ]
  },
  {
   "cell_type": "code",
   "execution_count": 116,
   "id": "gFeCD5EhQm62",
   "metadata": {
    "id": "gFeCD5EhQm62"
   },
   "outputs": [],
   "source": [
    "# metrics.mean_squared_error(y_F_test, prediction_F) "
   ]
  },
  {
   "cell_type": "code",
   "execution_count": 117,
   "id": "eJqRiZAmQnAM",
   "metadata": {
    "id": "eJqRiZAmQnAM"
   },
   "outputs": [],
   "source": [
    "# metrics.mean_squared_error(y_G_test, prediction_G) "
   ]
  },
  {
   "cell_type": "code",
   "execution_count": 118,
   "id": "h-YIWoFsNtNU",
   "metadata": {
    "id": "h-YIWoFsNtNU"
   },
   "outputs": [],
   "source": [
    "# metrics.mean_squared_error(y_H_test, prediction_H)          "
   ]
  },
  {
   "cell_type": "code",
   "execution_count": 119,
   "id": "90lt3AHTH686",
   "metadata": {
    "id": "90lt3AHTH686"
   },
   "outputs": [],
   "source": [
    "# metrics.mean_squared_error(y_H_test, prediction_H2)          "
   ]
  },
  {
   "cell_type": "code",
   "execution_count": 120,
   "id": "ce8e6f71",
   "metadata": {
    "id": "ce8e6f71",
    "outputId": "6ae3877f-00c1-4fd8-941c-e9826644ce21"
   },
   "outputs": [],
   "source": [
    "# metrics.mean_squared_error(y_Z_test, prediction_Z)"
   ]
  },
  {
   "cell_type": "code",
   "execution_count": 121,
   "id": "bff8e108",
   "metadata": {
    "id": "bff8e108",
    "outputId": "4cebe9c7-602a-4943-f940-cd80b28dea60"
   },
   "outputs": [],
   "source": [
    "# metrics.mean_squared_error(y_Z2_test, prediction_Z2)"
   ]
  },
  {
   "cell_type": "markdown",
   "id": "5d382460",
   "metadata": {
    "id": "5d382460"
   },
   "source": [
    "### 상단 개인작업구간"
   ]
  },
  {
   "cell_type": "code",
   "execution_count": 122,
   "id": "93463d90",
   "metadata": {
    "id": "93463d90"
   },
   "outputs": [],
   "source": [
    "from statsmodels.formula.api import ols       #statsmodel:   모든 통계 공식이 들어있음.   ols:최소제곱법"
   ]
  },
  {
   "cell_type": "code",
   "execution_count": 123,
   "id": "ad12ca7a",
   "metadata": {
    "id": "ad12ca7a"
   },
   "outputs": [],
   "source": [
    "formula = 'quality ~ alcohol + density + residual_sugar + type + volatile_acidity + chlorides'   #이꼴 표시이나 물결로 함"
   ]
  },
  {
   "cell_type": "code",
   "execution_count": 124,
   "id": "e837895f",
   "metadata": {
    "id": "e837895f"
   },
   "outputs": [],
   "source": [
    "formula_all = 'quality ~ fixed_acidity + volatile_acidity + residual_sugar + chlorides + free_sulfur_dioxide + total_sulfur_dioxide + density + pH + sulphates + alcohol + type'\n",
    "\n",
    "#코드를 거쳐 한 번 전체 확인 후(pvalue등...)  불필요한 증명력을 가진사항은 지워 봄"
   ]
  },
  {
   "cell_type": "code",
   "execution_count": 125,
   "id": "YIRZ6kwWH-6Z",
   "metadata": {
    "id": "YIRZ6kwWH-6Z"
   },
   "outputs": [],
   "source": [
    "\n",
    "#  증명력을 추가적으로 확인해보아야 함\n"
   ]
  },
  {
   "cell_type": "code",
   "execution_count": 126,
   "id": "Qtt9d4l0FGLf",
   "metadata": {
    "id": "Qtt9d4l0FGLf"
   },
   "outputs": [],
   "source": [
    "# formula_20220530 = 'quality ~  volatile_acidity + residual_sugar + chlorides + free_sulfur_dioxide + total_sulfur_dioxide + density +  sulphates + alcohol + type'\n",
    "# # 임시제외 fixed_acidity + pH + \n",
    "# # #코드를 거쳐 한 번 전체 확인 후(pvalue등...)  불필요한 증명력을 가진사항은 지워 봄"
   ]
  },
  {
   "cell_type": "code",
   "execution_count": 127,
   "id": "616c2f7f",
   "metadata": {
    "id": "616c2f7f"
   },
   "outputs": [],
   "source": [
    "# formula_20220530 = 'quality ~  fixed_acidity + volatile_acidity + residual_sugar + chlorides + free_sulfur_dioxide + total_sulfur_dioxide + density +  sulphates + alcohol + type'\n",
    "# # 임시제외  pH + \n",
    "# # #코드를 거쳐 한 번 전체 확인 후(pvalue등...)  불필요한 증명력을 가진사항은 지워 봄"
   ]
  },
  {
   "cell_type": "code",
   "execution_count": 128,
   "id": "4203f0fe",
   "metadata": {
    "id": "4203f0fe"
   },
   "outputs": [],
   "source": [
    "# formula_20220530 = 'quality ~  fixed_acidity + volatile_acidity +  chlorides + free_sulfur_dioxide + total_sulfur_dioxide + density +   alcohol + type'\n",
    "# # 임시제외  residual_sugar + pH + sulphates +\n",
    "# # #코드를 거쳐 한 번 전체 확인 후(pvalue등...)  불필요한 증명력을 가진사항은 지워 봄"
   ]
  },
  {
   "cell_type": "code",
   "execution_count": 129,
   "id": "aa266056",
   "metadata": {
    "id": "aa266056"
   },
   "outputs": [],
   "source": [
    "formula_20220530 = 'quality ~  fixed_acidity + volatile_acidity + citric_acid + chlorides + free_sulfur_dioxide + total_sulfur_dioxide + density + alcohol + type + residual_sugar + pH + sulphates'\n",
    "# 추가  citric_acid\n",
    "# #코드를 거쳐 한 번 전체 확인 후(pvalue등...)  불필요한 증명력을 가진사항은 지워 봄"
   ]
  },
  {
   "cell_type": "code",
   "execution_count": 130,
   "id": "560e9839",
   "metadata": {
    "id": "560e9839"
   },
   "outputs": [],
   "source": [
    "# formula_model = ols(formula, data=wine).fit()          #"
   ]
  },
  {
   "cell_type": "code",
   "execution_count": 131,
   "id": "5a341f3a",
   "metadata": {
    "id": "5a341f3a",
    "outputId": "3409dcbc-20b1-4a51-e85e-ec9c93379c97"
   },
   "outputs": [],
   "source": [
    "# formula_model.summary()                                #R-squared는  설명력을 갖추었 다는 것"
   ]
  },
  {
   "cell_type": "markdown",
   "id": "d80f33ad",
   "metadata": {
    "id": "d80f33ad"
   },
   "source": [
    "density  -33에 대한 확인\n",
    "wine.head()\n",
    "0.9978    이렇게 단위차이의 격차가 너무 차이남. 그래서 단위기준을 맞추어 주어야 함. 표준화"
   ]
  },
  {
   "cell_type": "markdown",
   "id": "73cfe072",
   "metadata": {
    "id": "73cfe072"
   },
   "source": [
    "### ** 독립변수의 표준화\n",
    "- 종속변수는 절대로 표준화를 하면 안됨"
   ]
  },
  {
   "cell_type": "code",
   "execution_count": 132,
   "id": "b489e9a6",
   "metadata": {
    "id": "b489e9a6"
   },
   "outputs": [],
   "source": [
    "# formula_model = ols(formula, data=wine_standard).fit()"
   ]
  },
  {
   "cell_type": "code",
   "execution_count": 133,
   "id": "4f952f7a",
   "metadata": {
    "id": "4f952f7a",
    "outputId": "31fda910-1dbb-42e5-d40a-18d3e21bc080"
   },
   "outputs": [],
   "source": [
    "# formula_model.summary()"
   ]
  },
  {
   "cell_type": "code",
   "execution_count": 134,
   "id": "e94f1855",
   "metadata": {
    "id": "e94f1855"
   },
   "outputs": [],
   "source": [
    "formula_all_model = ols(formula_all, data=wine_standard).fit()"
   ]
  },
  {
   "cell_type": "code",
   "execution_count": 135,
   "id": "6d2667be",
   "metadata": {
    "id": "6d2667be",
    "outputId": "ce6bb72f-5feb-463c-db33-f06d8cfbadcf"
   },
   "outputs": [
    {
     "data": {
      "text/html": [
       "<table class=\"simpletable\">\n",
       "<caption>OLS Regression Results</caption>\n",
       "<tr>\n",
       "  <th>Dep. Variable:</th>         <td>quality</td>     <th>  R-squared:         </th> <td>   0.296</td> \n",
       "</tr>\n",
       "<tr>\n",
       "  <th>Model:</th>                   <td>OLS</td>       <th>  Adj. R-squared:    </th> <td>   0.295</td> \n",
       "</tr>\n",
       "<tr>\n",
       "  <th>Method:</th>             <td>Least Squares</td>  <th>  F-statistic:       </th> <td>   248.4</td> \n",
       "</tr>\n",
       "<tr>\n",
       "  <th>Date:</th>             <td>Wed, 01 Jun 2022</td> <th>  Prob (F-statistic):</th>  <td>  0.00</td>  \n",
       "</tr>\n",
       "<tr>\n",
       "  <th>Time:</th>                 <td>13:19:39</td>     <th>  Log-Likelihood:    </th> <td> -7195.5</td> \n",
       "</tr>\n",
       "<tr>\n",
       "  <th>No. Observations:</th>      <td>  6497</td>      <th>  AIC:               </th> <td>1.442e+04</td>\n",
       "</tr>\n",
       "<tr>\n",
       "  <th>Df Residuals:</th>          <td>  6485</td>      <th>  BIC:               </th> <td>1.450e+04</td>\n",
       "</tr>\n",
       "<tr>\n",
       "  <th>Df Model:</th>              <td>    11</td>      <th>                     </th>     <td> </td>    \n",
       "</tr>\n",
       "<tr>\n",
       "  <th>Covariance Type:</th>      <td>nonrobust</td>    <th>                     </th>     <td> </td>    \n",
       "</tr>\n",
       "</table>\n",
       "<table class=\"simpletable\">\n",
       "<tr>\n",
       "            <td></td>              <th>coef</th>     <th>std err</th>      <th>t</th>      <th>P>|t|</th>  <th>[0.025</th>    <th>0.975]</th>  \n",
       "</tr>\n",
       "<tr>\n",
       "  <th>Intercept</th>            <td>    6.0939</td> <td>    0.044</td> <td>  139.896</td> <td> 0.000</td> <td>    6.009</td> <td>    6.179</td>\n",
       "</tr>\n",
       "<tr>\n",
       "  <th>fixed_acidity</th>        <td>    0.1069</td> <td>    0.020</td> <td>    5.351</td> <td> 0.000</td> <td>    0.068</td> <td>    0.146</td>\n",
       "</tr>\n",
       "<tr>\n",
       "  <th>volatile_acidity</th>     <td>   -0.2422</td> <td>    0.013</td> <td>  -19.180</td> <td> 0.000</td> <td>   -0.267</td> <td>   -0.217</td>\n",
       "</tr>\n",
       "<tr>\n",
       "  <th>residual_sugar</th>       <td>    0.2977</td> <td>    0.028</td> <td>   10.548</td> <td> 0.000</td> <td>    0.242</td> <td>    0.353</td>\n",
       "</tr>\n",
       "<tr>\n",
       "  <th>chlorides</th>            <td>   -0.0281</td> <td>    0.012</td> <td>   -2.428</td> <td> 0.015</td> <td>   -0.051</td> <td>   -0.005</td>\n",
       "</tr>\n",
       "<tr>\n",
       "  <th>free_sulfur_dioxide</th>  <td>    0.0877</td> <td>    0.014</td> <td>    6.449</td> <td> 0.000</td> <td>    0.061</td> <td>    0.114</td>\n",
       "</tr>\n",
       "<tr>\n",
       "  <th>total_sulfur_dioxide</th> <td>   -0.0806</td> <td>    0.018</td> <td>   -4.428</td> <td> 0.000</td> <td>   -0.116</td> <td>   -0.045</td>\n",
       "</tr>\n",
       "<tr>\n",
       "  <th>density</th>              <td>   -0.3136</td> <td>    0.043</td> <td>   -7.307</td> <td> 0.000</td> <td>   -0.398</td> <td>   -0.229</td>\n",
       "</tr>\n",
       "<tr>\n",
       "  <th>pH</th>                   <td>    0.0811</td> <td>    0.015</td> <td>    5.587</td> <td> 0.000</td> <td>    0.053</td> <td>    0.110</td>\n",
       "</tr>\n",
       "<tr>\n",
       "  <th>sulphates</th>            <td>    0.1069</td> <td>    0.011</td> <td>    9.439</td> <td> 0.000</td> <td>    0.085</td> <td>    0.129</td>\n",
       "</tr>\n",
       "<tr>\n",
       "  <th>alcohol</th>              <td>    0.2635</td> <td>    0.021</td> <td>   12.315</td> <td> 0.000</td> <td>    0.222</td> <td>    0.305</td>\n",
       "</tr>\n",
       "<tr>\n",
       "  <th>type</th>                 <td>   -0.3655</td> <td>    0.057</td> <td>   -6.468</td> <td> 0.000</td> <td>   -0.476</td> <td>   -0.255</td>\n",
       "</tr>\n",
       "</table>\n",
       "<table class=\"simpletable\">\n",
       "<tr>\n",
       "  <th>Omnibus:</th>       <td>140.952</td> <th>  Durbin-Watson:     </th> <td>   1.647</td>\n",
       "</tr>\n",
       "<tr>\n",
       "  <th>Prob(Omnibus):</th> <td> 0.000</td>  <th>  Jarque-Bera (JB):  </th> <td> 313.758</td>\n",
       "</tr>\n",
       "<tr>\n",
       "  <th>Skew:</th>          <td> 0.017</td>  <th>  Prob(JB):          </th> <td>7.38e-69</td>\n",
       "</tr>\n",
       "<tr>\n",
       "  <th>Kurtosis:</th>      <td> 4.076</td>  <th>  Cond. No.          </th> <td>    15.7</td>\n",
       "</tr>\n",
       "</table><br/><br/>Notes:<br/>[1] Standard Errors assume that the covariance matrix of the errors is correctly specified."
      ],
      "text/plain": [
       "<class 'statsmodels.iolib.summary.Summary'>\n",
       "\"\"\"\n",
       "                            OLS Regression Results                            \n",
       "==============================================================================\n",
       "Dep. Variable:                quality   R-squared:                       0.296\n",
       "Model:                            OLS   Adj. R-squared:                  0.295\n",
       "Method:                 Least Squares   F-statistic:                     248.4\n",
       "Date:                Wed, 01 Jun 2022   Prob (F-statistic):               0.00\n",
       "Time:                        13:19:39   Log-Likelihood:                -7195.5\n",
       "No. Observations:                6497   AIC:                         1.442e+04\n",
       "Df Residuals:                    6485   BIC:                         1.450e+04\n",
       "Df Model:                          11                                         \n",
       "Covariance Type:            nonrobust                                         \n",
       "========================================================================================\n",
       "                           coef    std err          t      P>|t|      [0.025      0.975]\n",
       "----------------------------------------------------------------------------------------\n",
       "Intercept                6.0939      0.044    139.896      0.000       6.009       6.179\n",
       "fixed_acidity            0.1069      0.020      5.351      0.000       0.068       0.146\n",
       "volatile_acidity        -0.2422      0.013    -19.180      0.000      -0.267      -0.217\n",
       "residual_sugar           0.2977      0.028     10.548      0.000       0.242       0.353\n",
       "chlorides               -0.0281      0.012     -2.428      0.015      -0.051      -0.005\n",
       "free_sulfur_dioxide      0.0877      0.014      6.449      0.000       0.061       0.114\n",
       "total_sulfur_dioxide    -0.0806      0.018     -4.428      0.000      -0.116      -0.045\n",
       "density                 -0.3136      0.043     -7.307      0.000      -0.398      -0.229\n",
       "pH                       0.0811      0.015      5.587      0.000       0.053       0.110\n",
       "sulphates                0.1069      0.011      9.439      0.000       0.085       0.129\n",
       "alcohol                  0.2635      0.021     12.315      0.000       0.222       0.305\n",
       "type                    -0.3655      0.057     -6.468      0.000      -0.476      -0.255\n",
       "==============================================================================\n",
       "Omnibus:                      140.952   Durbin-Watson:                   1.647\n",
       "Prob(Omnibus):                  0.000   Jarque-Bera (JB):              313.758\n",
       "Skew:                           0.017   Prob(JB):                     7.38e-69\n",
       "Kurtosis:                       4.076   Cond. No.                         15.7\n",
       "==============================================================================\n",
       "\n",
       "Notes:\n",
       "[1] Standard Errors assume that the covariance matrix of the errors is correctly specified.\n",
       "\"\"\""
      ]
     },
     "execution_count": 135,
     "metadata": {},
     "output_type": "execute_result"
    }
   ],
   "source": [
    "formula_all_model.summary()"
   ]
  },
  {
   "cell_type": "code",
   "execution_count": 136,
   "id": "ajJyGTBiFY2b",
   "metadata": {
    "id": "ajJyGTBiFY2b"
   },
   "outputs": [],
   "source": [
    "formula_20220530_result = ols(formula_20220530, data=wine_standard).fit()"
   ]
  },
  {
   "cell_type": "code",
   "execution_count": 137,
   "id": "4n-XSIT5FY43",
   "metadata": {
    "id": "4n-XSIT5FY43",
    "outputId": "2b6b6888-7c15-4967-c864-a2830affd043"
   },
   "outputs": [
    {
     "data": {
      "text/html": [
       "<table class=\"simpletable\">\n",
       "<caption>OLS Regression Results</caption>\n",
       "<tr>\n",
       "  <th>Dep. Variable:</th>         <td>quality</td>     <th>  R-squared:         </th> <td>   0.297</td> \n",
       "</tr>\n",
       "<tr>\n",
       "  <th>Model:</th>                   <td>OLS</td>       <th>  Adj. R-squared:    </th> <td>   0.295</td> \n",
       "</tr>\n",
       "<tr>\n",
       "  <th>Method:</th>             <td>Least Squares</td>  <th>  F-statistic:       </th> <td>   227.8</td> \n",
       "</tr>\n",
       "<tr>\n",
       "  <th>Date:</th>             <td>Wed, 01 Jun 2022</td> <th>  Prob (F-statistic):</th>  <td>  0.00</td>  \n",
       "</tr>\n",
       "<tr>\n",
       "  <th>Time:</th>                 <td>13:19:39</td>     <th>  Log-Likelihood:    </th> <td> -7195.2</td> \n",
       "</tr>\n",
       "<tr>\n",
       "  <th>No. Observations:</th>      <td>  6497</td>      <th>  AIC:               </th> <td>1.442e+04</td>\n",
       "</tr>\n",
       "<tr>\n",
       "  <th>Df Residuals:</th>          <td>  6484</td>      <th>  BIC:               </th> <td>1.450e+04</td>\n",
       "</tr>\n",
       "<tr>\n",
       "  <th>Df Model:</th>              <td>    12</td>      <th>                     </th>     <td> </td>    \n",
       "</tr>\n",
       "<tr>\n",
       "  <th>Covariance Type:</th>      <td>nonrobust</td>    <th>                     </th>     <td> </td>    \n",
       "</tr>\n",
       "</table>\n",
       "<table class=\"simpletable\">\n",
       "<tr>\n",
       "            <td></td>              <th>coef</th>     <th>std err</th>      <th>t</th>      <th>P>|t|</th>  <th>[0.025</th>    <th>0.975]</th>  \n",
       "</tr>\n",
       "<tr>\n",
       "  <th>Intercept</th>            <td>    6.0908</td> <td>    0.044</td> <td>  139.245</td> <td> 0.000</td> <td>    6.005</td> <td>    6.177</td>\n",
       "</tr>\n",
       "<tr>\n",
       "  <th>fixed_acidity</th>        <td>    0.1103</td> <td>    0.020</td> <td>    5.396</td> <td> 0.000</td> <td>    0.070</td> <td>    0.150</td>\n",
       "</tr>\n",
       "<tr>\n",
       "  <th>volatile_acidity</th>     <td>   -0.2457</td> <td>    0.013</td> <td>  -18.345</td> <td> 0.000</td> <td>   -0.272</td> <td>   -0.219</td>\n",
       "</tr>\n",
       "<tr>\n",
       "  <th>citric_acid</th>          <td>   -0.0091</td> <td>    0.012</td> <td>   -0.786</td> <td> 0.432</td> <td>   -0.032</td> <td>    0.014</td>\n",
       "</tr>\n",
       "<tr>\n",
       "  <th>chlorides</th>            <td>   -0.0265</td> <td>    0.012</td> <td>   -2.264</td> <td> 0.024</td> <td>   -0.049</td> <td>   -0.004</td>\n",
       "</tr>\n",
       "<tr>\n",
       "  <th>free_sulfur_dioxide</th>  <td>    0.0876</td> <td>    0.014</td> <td>    6.443</td> <td> 0.000</td> <td>    0.061</td> <td>    0.114</td>\n",
       "</tr>\n",
       "<tr>\n",
       "  <th>total_sulfur_dioxide</th> <td>   -0.0793</td> <td>    0.018</td> <td>   -4.333</td> <td> 0.000</td> <td>   -0.115</td> <td>   -0.043</td>\n",
       "</tr>\n",
       "<tr>\n",
       "  <th>density</th>              <td>   -0.3116</td> <td>    0.043</td> <td>   -7.248</td> <td> 0.000</td> <td>   -0.396</td> <td>   -0.227</td>\n",
       "</tr>\n",
       "<tr>\n",
       "  <th>alcohol</th>              <td>    0.2656</td> <td>    0.022</td> <td>   12.320</td> <td> 0.000</td> <td>    0.223</td> <td>    0.308</td>\n",
       "</tr>\n",
       "<tr>\n",
       "  <th>type</th>                 <td>   -0.3613</td> <td>    0.057</td> <td>   -6.367</td> <td> 0.000</td> <td>   -0.473</td> <td>   -0.250</td>\n",
       "</tr>\n",
       "<tr>\n",
       "  <th>residual_sugar</th>       <td>    0.2971</td> <td>    0.028</td> <td>   10.522</td> <td> 0.000</td> <td>    0.242</td> <td>    0.352</td>\n",
       "</tr>\n",
       "<tr>\n",
       "  <th>pH</th>                   <td>    0.0802</td> <td>    0.015</td> <td>    5.506</td> <td> 0.000</td> <td>    0.052</td> <td>    0.109</td>\n",
       "</tr>\n",
       "<tr>\n",
       "  <th>sulphates</th>            <td>    0.1074</td> <td>    0.011</td> <td>    9.466</td> <td> 0.000</td> <td>    0.085</td> <td>    0.130</td>\n",
       "</tr>\n",
       "</table>\n",
       "<table class=\"simpletable\">\n",
       "<tr>\n",
       "  <th>Omnibus:</th>       <td>140.992</td> <th>  Durbin-Watson:     </th> <td>   1.648</td>\n",
       "</tr>\n",
       "<tr>\n",
       "  <th>Prob(Omnibus):</th> <td> 0.000</td>  <th>  Jarque-Bera (JB):  </th> <td> 313.985</td>\n",
       "</tr>\n",
       "<tr>\n",
       "  <th>Skew:</th>          <td> 0.016</td>  <th>  Prob(JB):          </th> <td>6.59e-69</td>\n",
       "</tr>\n",
       "<tr>\n",
       "  <th>Kurtosis:</th>      <td> 4.077</td>  <th>  Cond. No.          </th> <td>    15.8</td>\n",
       "</tr>\n",
       "</table><br/><br/>Notes:<br/>[1] Standard Errors assume that the covariance matrix of the errors is correctly specified."
      ],
      "text/plain": [
       "<class 'statsmodels.iolib.summary.Summary'>\n",
       "\"\"\"\n",
       "                            OLS Regression Results                            \n",
       "==============================================================================\n",
       "Dep. Variable:                quality   R-squared:                       0.297\n",
       "Model:                            OLS   Adj. R-squared:                  0.295\n",
       "Method:                 Least Squares   F-statistic:                     227.8\n",
       "Date:                Wed, 01 Jun 2022   Prob (F-statistic):               0.00\n",
       "Time:                        13:19:39   Log-Likelihood:                -7195.2\n",
       "No. Observations:                6497   AIC:                         1.442e+04\n",
       "Df Residuals:                    6484   BIC:                         1.450e+04\n",
       "Df Model:                          12                                         \n",
       "Covariance Type:            nonrobust                                         \n",
       "========================================================================================\n",
       "                           coef    std err          t      P>|t|      [0.025      0.975]\n",
       "----------------------------------------------------------------------------------------\n",
       "Intercept                6.0908      0.044    139.245      0.000       6.005       6.177\n",
       "fixed_acidity            0.1103      0.020      5.396      0.000       0.070       0.150\n",
       "volatile_acidity        -0.2457      0.013    -18.345      0.000      -0.272      -0.219\n",
       "citric_acid             -0.0091      0.012     -0.786      0.432      -0.032       0.014\n",
       "chlorides               -0.0265      0.012     -2.264      0.024      -0.049      -0.004\n",
       "free_sulfur_dioxide      0.0876      0.014      6.443      0.000       0.061       0.114\n",
       "total_sulfur_dioxide    -0.0793      0.018     -4.333      0.000      -0.115      -0.043\n",
       "density                 -0.3116      0.043     -7.248      0.000      -0.396      -0.227\n",
       "alcohol                  0.2656      0.022     12.320      0.000       0.223       0.308\n",
       "type                    -0.3613      0.057     -6.367      0.000      -0.473      -0.250\n",
       "residual_sugar           0.2971      0.028     10.522      0.000       0.242       0.352\n",
       "pH                       0.0802      0.015      5.506      0.000       0.052       0.109\n",
       "sulphates                0.1074      0.011      9.466      0.000       0.085       0.130\n",
       "==============================================================================\n",
       "Omnibus:                      140.992   Durbin-Watson:                   1.648\n",
       "Prob(Omnibus):                  0.000   Jarque-Bera (JB):              313.985\n",
       "Skew:                           0.016   Prob(JB):                     6.59e-69\n",
       "Kurtosis:                       4.077   Cond. No.                         15.8\n",
       "==============================================================================\n",
       "\n",
       "Notes:\n",
       "[1] Standard Errors assume that the covariance matrix of the errors is correctly specified.\n",
       "\"\"\""
      ]
     },
     "execution_count": 137,
     "metadata": {},
     "output_type": "execute_result"
    }
   ],
   "source": [
    "formula_20220530_result.summary()              #citric_acid"
   ]
  },
  {
   "cell_type": "code",
   "execution_count": 138,
   "id": "5KQlk9sFMBEl",
   "metadata": {
    "id": "5KQlk9sFMBEl"
   },
   "outputs": [],
   "source": [
    "# citric_acid   을  fomula에 추가한 경우  R-squared:0.296 -> 0.297    증가됨을 확인 \n",
    "# 금일부터 추가하여 분석진행"
   ]
  },
  {
   "cell_type": "code",
   "execution_count": null,
   "id": "5cc9385e",
   "metadata": {
    "id": "5cc9385e"
   },
   "outputs": [],
   "source": []
  },
  {
   "cell_type": "code",
   "execution_count": null,
   "id": "d661de64",
   "metadata": {
    "id": "d661de64"
   },
   "outputs": [],
   "source": []
  },
  {
   "cell_type": "code",
   "execution_count": null,
   "id": "dda81cf7",
   "metadata": {
    "id": "dda81cf7"
   },
   "outputs": [],
   "source": []
  }
 ],
 "metadata": {
  "colab": {
   "collapsed_sections": [
    "93c5993e"
   ],
   "name": "와인품질_회귀분석__20220530_sqerr_rate_03530.ipynb",
   "provenance": []
  },
  "kernelspec": {
   "display_name": "Python 3 (ipykernel)",
   "language": "python",
   "name": "python3"
  },
  "language_info": {
   "codemirror_mode": {
    "name": "ipython",
    "version": 3
   },
   "file_extension": ".py",
   "mimetype": "text/x-python",
   "name": "python",
   "nbconvert_exporter": "python",
   "pygments_lexer": "ipython3",
   "version": "3.9.7"
  }
 },
 "nbformat": 4,
 "nbformat_minor": 5
}
