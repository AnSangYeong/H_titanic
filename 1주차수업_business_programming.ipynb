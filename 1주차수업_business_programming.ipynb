{
 "cells": [
  {
   "cell_type": "code",
   "execution_count": 14,
   "id": "f4c08034",
   "metadata": {},
   "outputs": [
    {
     "name": "stdout",
     "output_type": "stream",
     "text": [
      "Hello Python!\n"
     ]
    }
   ],
   "source": [
    "print('Hello Python!')"
   ]
  },
  {
   "cell_type": "markdown",
   "id": "2d23a095",
   "metadata": {},
   "source": [
    "# 쥬피터노트북 첫번째 수업"
   ]
  },
  {
   "cell_type": "markdown",
   "id": "e27c3b22",
   "metadata": {
    "scrolled": true
   },
   "source": [
    "## 셀모드 \n",
    " - 파란색모드 : 단축키를 입력할 수 있는 상태\n",
    " - 초록색모드 : 타이핑할 수 있는 상태"
   ]
  },
  {
   "cell_type": "markdown",
   "id": "d121cb2f",
   "metadata": {},
   "source": [
    "## 단축키에 대해서 알아보자 \n",
    "- m : 메모셀로 변환\n",
    "- y : 코딩셀로 변환\n",
    "- shift + Enter : 코드실행\n",
    "- a : 셀삽입(추가) 위에 삽입 \n",
    "- b : 셀삽입(추가) 아래에에 삽입 \n",
    "- x : 셀삭제"
   ]
  },
  {
   "cell_type": "code",
   "execution_count": 1,
   "id": "8b7e8356",
   "metadata": {},
   "outputs": [
    {
     "data": {
      "text/plain": [
       "7"
      ]
     },
     "execution_count": 1,
     "metadata": {},
     "output_type": "execute_result"
    }
   ],
   "source": [
    "3+4"
   ]
  },
  {
   "cell_type": "code",
   "execution_count": 4,
   "id": "a7cd4c25",
   "metadata": {},
   "outputs": [],
   "source": [
    "from IPython.display import Image"
   ]
  },
  {
   "cell_type": "code",
   "execution_count": 5,
   "id": "839bf916",
   "metadata": {},
   "outputs": [
    {
     "data": {
      "text/html": [
       "<img src=\"https://media.vlpt.us/images/miscaminos/post/c82c4298-122e-4d25-ab81-19d4002b092d/datascience-pdusit-stock.jpg\"/>"
      ],
      "text/plain": [
       "<IPython.core.display.Image object>"
      ]
     },
     "execution_count": 5,
     "metadata": {},
     "output_type": "execute_result"
    }
   ],
   "source": [
    "Image(url='https://media.vlpt.us/images/miscaminos/post/c82c4298-122e-4d25-ab81-19d4002b092d/datascience-pdusit-stock.jpg')"
   ]
  },
  {
   "cell_type": "code",
   "execution_count": 9,
   "id": "90a7a3d5",
   "metadata": {},
   "outputs": [],
   "source": [
    "from IPython.lib.display import YouTubeVideo"
   ]
  },
  {
   "cell_type": "code",
   "execution_count": 10,
   "id": "7124f62a",
   "metadata": {},
   "outputs": [
    {
     "data": {
      "image/jpeg": "[encoded data removed]",
      "text/html": [
       "\n",
       "        <iframe\n",
       "            width=\"600\"\n",
       "            height=\"300\"\n",
       "            src=\"https://www.youtube.com/embed/Riub5ycByCY?heigt=400\"\n",
       "            frameborder=\"0\"\n",
       "            allowfullscreen\n",
       "            \n",
       "        ></iframe>\n",
       "        "
      ],
      "text/plain": [
       "<IPython.lib.display.YouTubeVideo at 0x285bfe6df40>"
      ]
     },
     "execution_count": 10,
     "metadata": {},
     "output_type": "execute_result"
    }
   ],
   "source": [
    "YouTubeVideo('Riub5ycByCY', width=600, heigt=400)"
   ]
  },
  {
   "cell_type": "code",
   "execution_count": null,
   "id": "feee8da0",
   "metadata": {},
   "outputs": [],
   "source": []
  }
 ],
 "metadata": {
  "kernelspec": {
   "display_name": "Python 3 (ipykernel)",
   "language": "python",
   "name": "python3"
  },
  "language_info": {
   "codemirror_mode": {
    "name": "ipython",
    "version": 3
   },
   "file_extension": ".py",
   "mimetype": "text/x-python",
   "name": "python",
   "nbconvert_exporter": "python",
   "pygments_lexer": "ipython3",
   "version": "3.9.7"
  }
 },
 "nbformat": 4,
 "nbformat_minor": 5
}
